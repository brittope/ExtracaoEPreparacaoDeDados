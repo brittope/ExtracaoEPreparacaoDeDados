{
 "cells": [
  {
   "cell_type": "code",
   "execution_count": 3,
   "id": "3f642036",
   "metadata": {},
   "outputs": [],
   "source": [
    "import camelot\n",
    "import pandas as pd"
   ]
  },
  {
   "cell_type": "code",
   "execution_count": 4,
   "id": "ad14450b",
   "metadata": {},
   "outputs": [
    {
     "name": "stdout",
     "output_type": "stream",
     "text": [
      "     Name (1/km)   (mi) Improved Decreased Eliminate Decreased\n",
      "0                          Speed     Accel     Stops      Idle\n",
      "1  2012_2   3.30    1.3     5.9%      9.5%     29.2%     17.4%\n",
      "2  2145_1   0.68   11.2     2.4%      0.1%      9.5%      2.7%\n",
      "3  4234_1   0.59   58.7     8.5%      1.3%      8.5%      3.3%\n",
      "4  2032_2   0.17   57.8    21.7%      0.3%      2.7%      1.2%\n",
      "5  4171_1   0.07  173.9    58.1%      1.6%      2.1%      0.5%\n"
     ]
    }
   ],
   "source": [
    "# Read the PDF (using stream=True may help with lines that look like rows)\n",
    "tables = camelot.read_pdf('https://camelot-py.readthedocs.io/en/master/_static/pdf/foo.pdf', flavor='stream')\n",
    "\n",
    "df = tables[0].df\n",
    "\n",
    "# Find where the real header starts — in your example, row 4 is 'Cycle ...'\n",
    "header_row1 = df.iloc[4]\n",
    "header_row2 = df.iloc[5]\n",
    "\n",
    "# Merge the two header rows\n",
    "new_columns = []\n",
    "for h1, h2 in zip(header_row1, header_row2):\n",
    "    h1 = h1.strip()\n",
    "    h2 = h2.strip()\n",
    "    if h1 and h2:\n",
    "        new_columns.append(f\"{h1} {h2}\")\n",
    "    elif h1:\n",
    "        new_columns.append(h1)\n",
    "    else:\n",
    "        new_columns.append(h2)\n",
    "\n",
    "# Keep only the data rows (after row 5)\n",
    "df = df.iloc[6:].reset_index(drop=True)\n",
    "df.columns = new_columns\n",
    "\n",
    "print(df)\n"
   ]
  }
 ],
 "metadata": {
  "kernelspec": {
   "display_name": "Python 3",
   "language": "python",
   "name": "python3"
  },
  "language_info": {
   "codemirror_mode": {
    "name": "ipython",
    "version": 3
   },
   "file_extension": ".py",
   "mimetype": "text/x-python",
   "name": "python",
   "nbconvert_exporter": "python",
   "pygments_lexer": "ipython3",
   "version": "3.11.13"
  }
 },
 "nbformat": 4,
 "nbformat_minor": 5
}
