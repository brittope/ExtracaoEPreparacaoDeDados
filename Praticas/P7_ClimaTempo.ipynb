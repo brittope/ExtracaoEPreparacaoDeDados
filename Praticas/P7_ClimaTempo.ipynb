{
 "cells": [
  {
   "cell_type": "code",
   "execution_count": 2,
   "id": "6ded4512",
   "metadata": {},
   "outputs": [],
   "source": [
    "from selenium import webdriver\n",
    "import time\n",
    "from selenium.webdriver.common.by import By\n",
    "import requests\n",
    "from bs4 import BeautifulSoup\n",
    "from tqdm import tqdm \n",
    "import pandas as pd\n",
    "import geopandas as gpd\n",
    "from shapely.geometry import Point\n",
    "import folium\n",
    "from folium.plugins import HeatMap\n",
    "from IPython.display import IFrame"
   ]
  },
  {
   "cell_type": "code",
   "execution_count": 3,
   "id": "48116257",
   "metadata": {},
   "outputs": [],
   "source": [
    "options = webdriver.ChromeOptions()\n",
    "options.add_argument(\"--headless\")\n",
    "\n",
    "driver = webdriver.Chrome(options=options)\n",
    "\n",
    "driver.get(\"https://www.climatempo.com.br/previsao-do-tempo\")\n",
    "\n",
    "time.sleep(5)"
   ]
  },
  {
   "cell_type": "code",
   "execution_count": 4,
   "id": "f6bee3bf",
   "metadata": {},
   "outputs": [
    {
     "name": "stdout",
     "output_type": "stream",
     "text": [
      "Links filtrados: 8439\n"
     ]
    }
   ],
   "source": [
    "links = driver.find_elements(By.XPATH, \"//a[contains(@href, '/previsao-do-tempo/agora/cidade/')]\")\n",
    "print(f\"Links filtrados: {len(links)}\")"
   ]
  },
  {
   "cell_type": "code",
   "execution_count": 5,
   "id": "931056d3",
   "metadata": {},
   "outputs": [],
   "source": [
    "def extract_code_city_uf(url: str):\n",
    "    # Pega a parte depois de /cidade/\n",
    "    parts = url.split(\"/cidade/\")[1].split(\"/\")\n",
    "    \n",
    "    code = int(parts[0])   # código numérico da cidade\n",
    "    city_uf = parts[1]     # ex: \"sao-joao-da-boa-vista-sp\"\n",
    "    \n",
    "    # divide no último hífen: tudo antes é a cidade, os 2 últimos caracteres são a UF\n",
    "    if \"-\" in city_uf:\n",
    "        city, uf = city_uf.rsplit(\"-\", 1)\n",
    "    else:\n",
    "        city, uf = city_uf, \"\"\n",
    "    \n",
    "    return code, city, uf\n",
    "\n",
    "\n",
    "# Testes\n",
    "assert extract_code_city_uf(\"https://www.climatempo.com.br/previsao-do-tempo/agora/cidade/3523/vilaboa-go\") == (3523, \"vilaboa\", \"go\")\n",
    "assert extract_code_city_uf(\"https://www.climatempo.com.br/previsao-do-tempo/agora/cidade/6335/vilaflor-rn\") == (6335, \"vilaflor\", \"rn\")\n",
    "assert extract_code_city_uf(\"https://www.climatempo.com.br/previsao-do-tempo/agora/cidade/1234/sao-joao-da-boa-vista-sp\") == (1234, \"sao-joao-da-boa-vista\", \"sp\")\n"
   ]
  },
  {
   "cell_type": "code",
   "execution_count": 6,
   "id": "c8b4095b",
   "metadata": {},
   "outputs": [],
   "source": [
    "def get_id_locale(url: str) -> int:\n",
    "    # Faz a requisição da página\n",
    "    response = requests.get(url)\n",
    "    response.raise_for_status()  # erro se não conseguir baixar\n",
    "    \n",
    "    # Faz o parse do HTML\n",
    "    soup = BeautifulSoup(response.text, \"html.parser\")\n",
    "    \n",
    "    # Encontra o div com id=\"mainContent\"\n",
    "    main_div = soup.find(\"div\", {\"id\": \"mainContent\"})\n",
    "    if not main_div:\n",
    "        raise ValueError(\"Div com id='mainContent' não encontrada\")\n",
    "    \n",
    "    # Extrai o atributo data-id-locale\n",
    "    data_id = main_div.get(\"data-id-locale\")\n",
    "    if not data_id:\n",
    "        raise ValueError(\"Atributo 'data-id-locale' não encontrado\")\n",
    "    \n",
    "    return int(data_id)\n",
    "\n",
    "\n",
    "# Testes\n",
    "assert get_id_locale(\"https://www.climatempo.com.br/previsao-do-tempo/agora/cidade/956/xique-xique-ba\") == 7995\n",
    "assert get_id_locale(\"https://www.climatempo.com.br/previsao-do-tempo/15-dias/cidade/7965/yauco-pr\") == 1584"
   ]
  },
  {
   "cell_type": "code",
   "execution_count": 7,
   "id": "0d39badc",
   "metadata": {},
   "outputs": [],
   "source": [
    "def get_weather(id_locale):\n",
    "    url = f\"https://www.climatempo.com.br/json/myclimatempo/user/weatherNow?idlocale={id_locale}\"\n",
    "    response = requests.get(url)\n",
    "    response.raise_for_status()\n",
    "    return response.json()\n",
    "\n",
    "\n",
    "# Teste\n",
    "weather_json = get_weather(7994)\n",
    "assert weather_json['data']['getWeatherNow'][0]['data'][0]['locale']['idcity'] == 5354"
   ]
  },
  {
   "cell_type": "code",
   "execution_count": 9,
   "id": "b5601b2a",
   "metadata": {},
   "outputs": [
    {
     "name": "stderr",
     "output_type": "stream",
     "text": [
      "Processando links:   0%|          | 29/8439 [00:00<01:08, 122.58it/s]"
     ]
    },
    {
     "name": "stdout",
     "output_type": "stream",
     "text": [
      "7696 (1191, 'abaetetuba', 'pa')\n",
      "5916 (6422, 'abelfigueiredo', 'pa')\n"
     ]
    },
    {
     "name": "stderr",
     "output_type": "stream",
     "text": [
      "Processando links:   1%|          | 66/8439 [00:00<00:52, 159.37it/s]"
     ]
    },
    {
     "name": "stdout",
     "output_type": "stream",
     "text": [
      "7697 (1192, 'acara', 'pa')\n",
      "7698 (225, 'afua', 'pa')\n"
     ]
    },
    {
     "name": "stderr",
     "output_type": "stream",
     "text": [
      "Processando links:   2%|▏         | 168/8439 [00:00<00:36, 227.73it/s]"
     ]
    },
    {
     "name": "stdout",
     "output_type": "stream",
     "text": [
      "7699 (226, 'alenquer', 'pa')\n",
      "7700 (6974, 'algodoal', 'pa')\n"
     ]
    },
    {
     "name": "stderr",
     "output_type": "stream",
     "text": [
      "Processando links:   2%|▏         | 196/8439 [00:01<00:49, 166.42it/s]"
     ]
    },
    {
     "name": "stdout",
     "output_type": "stream",
     "text": [
      "7701 (227, 'almeirim', 'pa')\n",
      "7702 (228, 'altamira', 'pa')\n"
     ]
    },
    {
     "name": "stderr",
     "output_type": "stream",
     "text": [
      "Processando links:   3%|▎         | 292/8439 [00:01<00:42, 191.30it/s]"
     ]
    },
    {
     "name": "stdout",
     "output_type": "stream",
     "text": [
      "5917 (6423, 'anajas', 'pa')\n",
      "7703 (229, 'ananindeua', 'pa')\n",
      "5918 (6424, 'anapu', 'pa')\n"
     ]
    },
    {
     "name": "stderr",
     "output_type": "stream",
     "text": [
      "Processando links:   7%|▋         | 559/8439 [00:01<00:18, 416.27it/s]"
     ]
    },
    {
     "name": "stdout",
     "output_type": "stream",
     "text": [
      "5919 (6425, 'augustocorrea', 'pa')\n",
      "5920 (6426, 'auroradopara', 'pa')\n",
      "5921 (6427, 'aveiro', 'pa')\n"
     ]
    },
    {
     "name": "stderr",
     "output_type": "stream",
     "text": [
      "Processando links:   8%|▊         | 649/8439 [00:02<00:26, 289.50it/s]"
     ]
    },
    {
     "name": "stdout",
     "output_type": "stream",
     "text": [
      "5922 (6428, 'bagre', 'pa')\n",
      "5923 (6429, 'baiao', 'pa')\n",
      "5924 (6430, 'bannach', 'pa')\n"
     ]
    },
    {
     "name": "stderr",
     "output_type": "stream",
     "text": [
      "Processando links:   9%|▉         | 751/8439 [00:02<00:27, 282.00it/s]"
     ]
    },
    {
     "name": "stdout",
     "output_type": "stream",
     "text": [
      "5925 (6431, 'barcarena', 'pa')\n"
     ]
    },
    {
     "name": "stderr",
     "output_type": "stream",
     "text": [
      "Processando links:  10%|▉         | 808/8439 [00:03<00:27, 278.96it/s]"
     ]
    },
    {
     "name": "stdout",
     "output_type": "stream",
     "text": [
      "7705 (230, 'belomonte', 'pa')\n",
      "7706 (231, 'belterra', 'pa')\n",
      "7704 (232, 'belem', 'pa')\n"
     ]
    },
    {
     "name": "stderr",
     "output_type": "stream",
     "text": [
      "Processando links:  11%|█         | 915/8439 [00:03<00:26, 279.06it/s]"
     ]
    },
    {
     "name": "stdout",
     "output_type": "stream",
     "text": [
      "5926 (6432, 'benevides', 'pa')\n"
     ]
    },
    {
     "name": "stderr",
     "output_type": "stream",
     "text": [
      "Processando links:  12%|█▏        | 1003/8439 [00:03<00:28, 263.82it/s]"
     ]
    },
    {
     "name": "stdout",
     "output_type": "stream",
     "text": [
      "7707 (6433, 'bomjesusdotocantins', 'pa')\n",
      "5927 (6434, 'bonito', 'pa')\n"
     ]
    },
    {
     "name": "stderr",
     "output_type": "stream",
     "text": [
      "Processando links:  12%|█▏        | 1036/8439 [00:04<00:32, 229.51it/s]"
     ]
    },
    {
     "name": "stdout",
     "output_type": "stream",
     "text": [
      "7708 (233, 'braganca', 'pa')\n",
      "7806 (6435, 'brasilnovo', 'pa')\n"
     ]
    },
    {
     "name": "stderr",
     "output_type": "stream",
     "text": [
      "Processando links:  13%|█▎        | 1064/8439 [00:04<00:33, 221.11it/s]"
     ]
    },
    {
     "name": "stdout",
     "output_type": "stream",
     "text": [
      "7807 (6855, 'brejograndedoaraguaia', 'pa')\n",
      "7808 (6436, 'breubranco', 'pa')\n"
     ]
    },
    {
     "name": "stderr",
     "output_type": "stream",
     "text": [
      "Processando links:  13%|█▎        | 1118/8439 [00:04<00:42, 173.47it/s]"
     ]
    },
    {
     "name": "stdout",
     "output_type": "stream",
     "text": [
      "7809 (1193, 'breves', 'pa')\n",
      "7810 (1194, 'bujaru', 'pa')\n"
     ]
    },
    {
     "name": "stderr",
     "output_type": "stream",
     "text": [
      "Processando links:  14%|█▍        | 1211/8439 [00:04<00:33, 216.36it/s]"
     ]
    },
    {
     "name": "stdout",
     "output_type": "stream",
     "text": [
      "7811 (6437, 'cachoeiradoarari', 'pa')\n",
      "9120 (6438, 'cachoeiradopiria', 'pa')\n"
     ]
    },
    {
     "name": "stderr",
     "output_type": "stream",
     "text": [
      "Processando links:  16%|█▋        | 1390/8439 [00:05<00:17, 396.29it/s]"
     ]
    },
    {
     "name": "stdout",
     "output_type": "stream",
     "text": [
      "9121 (1195, 'cameta', 'pa')\n"
     ]
    },
    {
     "name": "stderr",
     "output_type": "stream",
     "text": [
      "Processando links:  17%|█▋        | 1438/8439 [00:05<00:22, 315.18it/s]"
     ]
    },
    {
     "name": "stdout",
     "output_type": "stream",
     "text": [
      "9122 (6439, 'canaadoscarajas', 'pa')\n",
      "9123 (234, 'capanema', 'pa')\n"
     ]
    },
    {
     "name": "stderr",
     "output_type": "stream",
     "text": [
      "Processando links:  18%|█▊        | 1478/8439 [00:05<00:26, 261.88it/s]"
     ]
    },
    {
     "name": "stdout",
     "output_type": "stream",
     "text": [
      "9124 (1196, 'capitaopoco', 'pa')\n",
      "6032 (6575, 'carajas', 'pa')\n"
     ]
    },
    {
     "name": "stderr",
     "output_type": "stream",
     "text": [
      "Processando links:  20%|█▉        | 1651/8439 [00:06<00:16, 399.82it/s]"
     ]
    },
    {
     "name": "stdout",
     "output_type": "stream",
     "text": [
      "9125 (235, 'castanhal', 'pa')\n"
     ]
    },
    {
     "name": "stderr",
     "output_type": "stream",
     "text": [
      "Processando links:  21%|██        | 1769/8439 [00:06<00:14, 450.31it/s]"
     ]
    },
    {
     "name": "stdout",
     "output_type": "stream",
     "text": [
      "9126 (6440, 'chaves', 'pa')\n"
     ]
    },
    {
     "name": "stderr",
     "output_type": "stream",
     "text": [
      "Processando links:  22%|██▏       | 1878/8439 [00:06<00:18, 355.28it/s]"
     ]
    },
    {
     "name": "stdout",
     "output_type": "stream",
     "text": [
      "9127 (6441, 'colares', 'pa')\n",
      "9128 (236, 'conceicaodoaraguaia', 'pa')\n"
     ]
    },
    {
     "name": "stderr",
     "output_type": "stream",
     "text": [
      "Processando links:  24%|██▎       | 1987/8439 [00:06<00:15, 414.87it/s]"
     ]
    },
    {
     "name": "stdout",
     "output_type": "stream",
     "text": [
      "9129 (6442, 'concordiadopara', 'pa')\n"
     ]
    },
    {
     "name": "stderr",
     "output_type": "stream",
     "text": [
      "Processando links:  24%|██▍       | 2054/8439 [00:07<00:13, 475.13it/s]"
     ]
    },
    {
     "name": "stdout",
     "output_type": "stream",
     "text": [
      "9130 (6443, 'cumarudonorte', 'pa')\n",
      "4034 (4989, 'curionopolis', 'pa')\n"
     ]
    },
    {
     "name": "stderr",
     "output_type": "stream",
     "text": [
      "Processando links:  25%|██▍       | 2107/8439 [00:07<00:20, 301.81it/s]"
     ]
    },
    {
     "name": "stdout",
     "output_type": "stream",
     "text": [
      "9131 (6444, 'curralinho', 'pa')\n",
      "9132 (6445, 'curua', 'pa')\n",
      "9133 (237, 'curuca', 'pa')\n"
     ]
    },
    {
     "name": "stderr",
     "output_type": "stream",
     "text": [
      "Processando links:  28%|██▊       | 2339/8439 [00:07<00:14, 417.33it/s]"
     ]
    },
    {
     "name": "stdout",
     "output_type": "stream",
     "text": [
      "3951 (4872, 'domeliseu', 'pa')\n"
     ]
    },
    {
     "name": "stderr",
     "output_type": "stream",
     "text": [
      "Processando links:  29%|██▉       | 2456/8439 [00:08<00:13, 458.35it/s]"
     ]
    },
    {
     "name": "stdout",
     "output_type": "stream",
     "text": [
      "9134 (1557, 'eldoradodoscarajas', 'pa')\n"
     ]
    },
    {
     "name": "stderr",
     "output_type": "stream",
     "text": [
      "Processando links:  30%|██▉       | 2509/8439 [00:08<00:14, 409.99it/s]"
     ]
    },
    {
     "name": "stdout",
     "output_type": "stream",
     "text": [
      "7444 (6446, 'faro', 'pa')\n"
     ]
    },
    {
     "name": "stderr",
     "output_type": "stream",
     "text": [
      "Processando links:  31%|███       | 2630/8439 [00:08<00:14, 388.42it/s]"
     ]
    },
    {
     "name": "stdout",
     "output_type": "stream",
     "text": [
      "7445 (5262, 'florestadoaraguaia', 'pa')\n"
     ]
    },
    {
     "name": "stderr",
     "output_type": "stream",
     "text": [
      "Processando links:  33%|███▎      | 2757/8439 [00:09<00:13, 414.56it/s]"
     ]
    },
    {
     "name": "stdout",
     "output_type": "stream",
     "text": [
      "7446 (6447, 'garrafaodonorte', 'pa')\n"
     ]
    },
    {
     "name": "stderr",
     "output_type": "stream",
     "text": [
      "Processando links:  34%|███▍      | 2870/8439 [00:09<00:12, 436.03it/s]"
     ]
    },
    {
     "name": "stdout",
     "output_type": "stream",
     "text": [
      "4194 (5194, 'goianesiadopara', 'pa')\n"
     ]
    },
    {
     "name": "stderr",
     "output_type": "stream",
     "text": [
      "Processando links:  36%|███▋      | 3072/8439 [00:09<00:10, 516.34it/s]"
     ]
    },
    {
     "name": "stdout",
     "output_type": "stream",
     "text": [
      "7447 (238, 'gurupa', 'pa')\n"
     ]
    },
    {
     "name": "stderr",
     "output_type": "stream",
     "text": [
      "Processando links:  37%|███▋      | 3140/8439 [00:09<00:09, 557.21it/s]"
     ]
    },
    {
     "name": "stdout",
     "output_type": "stream",
     "text": [
      "6351 (760, 'icoaraci', 'pa')\n",
      "7448 (239, 'igarape-acu', 'pa')\n",
      "7449 (1199, 'igarape-miri', 'pa')\n"
     ]
    },
    {
     "name": "stderr",
     "output_type": "stream",
     "text": [
      "Processando links:  38%|███▊      | 3248/8439 [00:10<00:15, 342.74it/s]"
     ]
    },
    {
     "name": "stdout",
     "output_type": "stream",
     "text": [
      "4074 (5031, 'ilhademarajo', 'pa')\n",
      "7450 (6448, 'inhangapi', 'pa')\n"
     ]
    },
    {
     "name": "stderr",
     "output_type": "stream",
     "text": [
      "Processando links:  39%|███▉      | 3328/8439 [00:10<00:17, 284.97it/s]"
     ]
    },
    {
     "name": "stdout",
     "output_type": "stream",
     "text": [
      "7451 (6449, 'ipixunadopara', 'pa')\n",
      "7452 (1200, 'irituia', 'pa')\n"
     ]
    },
    {
     "name": "stderr",
     "output_type": "stream",
     "text": [
      "Processando links:  40%|███▉      | 3361/8439 [00:11<00:43, 118.06it/s]"
     ]
    },
    {
     "name": "stdout",
     "output_type": "stream",
     "text": [
      "[Aviso] Atributo 'data-id-locale' não encontrado em https://www.climatempo.com.br/previsao-do-tempo/agora/cidade/9673/islamabad-pa\n"
     ]
    },
    {
     "name": "stderr",
     "output_type": "stream",
     "text": [
      "Processando links:  42%|████▏     | 3545/8439 [00:13<00:40, 121.17it/s]"
     ]
    },
    {
     "name": "stdout",
     "output_type": "stream",
     "text": [
      "7453 (240, 'itaituba', 'pa')\n"
     ]
    },
    {
     "name": "stderr",
     "output_type": "stream",
     "text": [
      "Processando links:  43%|████▎     | 3589/8439 [00:18<02:51, 28.31it/s] "
     ]
    },
    {
     "name": "stdout",
     "output_type": "stream",
     "text": [
      "7454 (5547, 'itupiranga', 'pa')\n",
      "7455 (241, 'jacareacanga', 'pa')\n"
     ]
    },
    {
     "name": "stderr",
     "output_type": "stream",
     "text": [
      "Processando links:  44%|████▎     | 3689/8439 [00:26<03:40, 21.59it/s]"
     ]
    },
    {
     "name": "stdout",
     "output_type": "stream",
     "text": [
      "4195 (5195, 'jacunda', 'pa')\n"
     ]
    },
    {
     "name": "stderr",
     "output_type": "stream",
     "text": [
      "Processando links:  45%|████▌     | 3811/8439 [00:30<03:28, 22.18it/s]"
     ]
    },
    {
     "name": "stdout",
     "output_type": "stream",
     "text": [
      "7456 (242, 'juruti', 'pa')\n"
     ]
    },
    {
     "name": "stderr",
     "output_type": "stream",
     "text": [
      "Processando links:  46%|████▋     | 3913/8439 [00:33<02:38, 28.51it/s]"
     ]
    },
    {
     "name": "stdout",
     "output_type": "stream",
     "text": [
      "[Aviso] Atributo 'data-id-locale' não encontrado em https://www.climatempo.com.br/previsao-do-tempo/agora/cidade/9675/karachi-pa\n"
     ]
    },
    {
     "name": "stderr",
     "output_type": "stream",
     "text": [
      "Processando links:  49%|████▊     | 4100/8439 [00:36<01:34, 45.97it/s]"
     ]
    },
    {
     "name": "stdout",
     "output_type": "stream",
     "text": [
      "[Aviso] Atributo 'data-id-locale' não encontrado em https://www.climatempo.com.br/previsao-do-tempo/agora/cidade/9674/lahore-pa\n"
     ]
    },
    {
     "name": "stderr",
     "output_type": "stream",
     "text": [
      "Processando links:  50%|████▉     | 4213/8439 [00:42<02:04, 34.08it/s]"
     ]
    },
    {
     "name": "stdout",
     "output_type": "stream",
     "text": [
      "7457 (6450, 'limoeirodoajuru', 'pa')\n"
     ]
    },
    {
     "name": "stderr",
     "output_type": "stream",
     "text": [
      "Processando links:  51%|█████     | 4324/8439 [00:47<02:24, 28.39it/s]"
     ]
    },
    {
     "name": "stdout",
     "output_type": "stream",
     "text": [
      "7459 (6451, 'magalhaesbarata', 'pa')\n",
      "7460 (1201, 'maraba', 'pa')\n"
     ]
    },
    {
     "name": "stderr",
     "output_type": "stream",
     "text": [
      "Processando links:  52%|█████▏    | 4364/8439 [00:53<04:09, 16.36it/s]"
     ]
    },
    {
     "name": "stdout",
     "output_type": "stream",
     "text": [
      "7461 (6452, 'maracana', 'pa')\n"
     ]
    },
    {
     "name": "stderr",
     "output_type": "stream",
     "text": [
      "Processando links:  52%|█████▏    | 4392/8439 [00:55<04:21, 15.49it/s]"
     ]
    },
    {
     "name": "stdout",
     "output_type": "stream",
     "text": [
      "7462 (6453, 'marapanim', 'pa')\n"
     ]
    },
    {
     "name": "stderr",
     "output_type": "stream",
     "text": [
      "Processando links:  52%|█████▏    | 4427/8439 [00:58<04:33, 14.66it/s]"
     ]
    },
    {
     "name": "stdout",
     "output_type": "stream",
     "text": [
      "7463 (6895, 'marituba', 'pa')\n"
     ]
    },
    {
     "name": "stderr",
     "output_type": "stream",
     "text": [
      "Processando links:  53%|█████▎    | 4509/8439 [01:01<03:02, 21.55it/s]"
     ]
    },
    {
     "name": "stdout",
     "output_type": "stream",
     "text": [
      "7464 (6944, 'maruda', 'pa')\n"
     ]
    },
    {
     "name": "stderr",
     "output_type": "stream",
     "text": [
      "Processando links:  54%|█████▎    | 4535/8439 [01:03<03:31, 18.45it/s]"
     ]
    },
    {
     "name": "stdout",
     "output_type": "stream",
     "text": [
      "4689 (5884, 'medicilandia', 'pa')\n"
     ]
    },
    {
     "name": "stderr",
     "output_type": "stream",
     "text": [
      "Processando links:  55%|█████▍    | 4620/8439 [01:09<03:15, 19.50it/s]"
     ]
    },
    {
     "name": "stdout",
     "output_type": "stream",
     "text": [
      "7465 (1202, 'melgaco', 'pa')\n"
     ]
    },
    {
     "name": "stderr",
     "output_type": "stream",
     "text": [
      "Processando links:  55%|█████▌    | 4649/8439 [01:12<03:57, 15.93it/s]"
     ]
    },
    {
     "name": "stdout",
     "output_type": "stream",
     "text": [
      "7466 (6454, 'mocajuba', 'pa')\n"
     ]
    },
    {
     "name": "stderr",
     "output_type": "stream",
     "text": [
      "Processando links:  55%|█████▌    | 4670/8439 [01:17<06:09, 10.20it/s]"
     ]
    },
    {
     "name": "stdout",
     "output_type": "stream",
     "text": [
      "7467 (1203, 'moju', 'pa')\n"
     ]
    },
    {
     "name": "stderr",
     "output_type": "stream",
     "text": [
      "Processando links:  56%|█████▌    | 4689/8439 [01:20<06:57,  8.98it/s]"
     ]
    },
    {
     "name": "stdout",
     "output_type": "stream",
     "text": [
      "7468 (243, 'montealegre', 'pa')\n"
     ]
    },
    {
     "name": "stderr",
     "output_type": "stream",
     "text": [
      "Processando links:  57%|█████▋    | 4772/8439 [01:24<03:58, 15.40it/s]"
     ]
    },
    {
     "name": "stdout",
     "output_type": "stream",
     "text": [
      "4323 (5365, 'montedourado', 'pa')\n"
     ]
    },
    {
     "name": "stderr",
     "output_type": "stream",
     "text": [
      "Processando links:  57%|█████▋    | 4802/8439 [01:29<05:21, 11.30it/s]"
     ]
    },
    {
     "name": "stdout",
     "output_type": "stream",
     "text": [
      "7469 (6455, 'muana', 'pa')\n"
     ]
    },
    {
     "name": "stderr",
     "output_type": "stream",
     "text": [
      "Processando links:  57%|█████▋    | 4851/8439 [01:33<05:13, 11.43it/s]"
     ]
    },
    {
     "name": "stdout",
     "output_type": "stream",
     "text": [
      "7458 (6456, 'maedorio', 'pa')\n"
     ]
    },
    {
     "name": "stderr",
     "output_type": "stream",
     "text": [
      "Processando links:  59%|█████▉    | 4973/8439 [01:36<02:36, 22.18it/s]"
     ]
    },
    {
     "name": "stdout",
     "output_type": "stream",
     "text": [
      "[Aviso] Atributo 'data-id-locale' não encontrado em https://www.climatempo.com.br/previsao-do-tempo/agora/cidade/9672/nawabshah-pa\n"
     ]
    },
    {
     "name": "stderr",
     "output_type": "stream",
     "text": [
      "Processando links:  59%|█████▉    | 5019/8439 [01:40<03:26, 16.57it/s]"
     ]
    },
    {
     "name": "stdout",
     "output_type": "stream",
     "text": [
      "7470 (6856, 'novaesperancadopiria', 'pa')\n"
     ]
    },
    {
     "name": "stderr",
     "output_type": "stream",
     "text": [
      "Processando links:  60%|█████▉    | 5039/8439 [01:45<04:46, 11.87it/s]"
     ]
    },
    {
     "name": "stdout",
     "output_type": "stream",
     "text": [
      "7471 (6457, 'novaipixuna', 'pa')\n"
     ]
    },
    {
     "name": "stderr",
     "output_type": "stream",
     "text": [
      "Processando links:  60%|██████    | 5087/8439 [01:50<04:56, 11.31it/s]"
     ]
    },
    {
     "name": "stdout",
     "output_type": "stream",
     "text": [
      "7472 (6458, 'novatimboteua', 'pa')\n"
     ]
    },
    {
     "name": "stderr",
     "output_type": "stream",
     "text": [
      "Processando links:  61%|██████    | 5125/8439 [01:54<05:20, 10.34it/s]"
     ]
    },
    {
     "name": "stdout",
     "output_type": "stream",
     "text": [
      "4196 (5196, 'novoprogresso', 'pa')\n"
     ]
    },
    {
     "name": "stderr",
     "output_type": "stream",
     "text": [
      "Processando links:  61%|██████    | 5133/8439 [01:58<07:01,  7.83it/s]"
     ]
    },
    {
     "name": "stdout",
     "output_type": "stream",
     "text": [
      "7473 (6459, 'novorepartimento', 'pa')\n"
     ]
    },
    {
     "name": "stderr",
     "output_type": "stream",
     "text": [
      "Processando links:  61%|██████▏   | 5169/8439 [02:02<06:51,  7.95it/s]"
     ]
    },
    {
     "name": "stdout",
     "output_type": "stream",
     "text": [
      "7475 (6460, 'oeirasdopara', 'pa')\n"
     ]
    },
    {
     "name": "stderr",
     "output_type": "stream",
     "text": [
      "Processando links:  62%|██████▏   | 5216/8439 [02:05<05:28,  9.81it/s]"
     ]
    },
    {
     "name": "stdout",
     "output_type": "stream",
     "text": [
      "7476 (244, 'oriximina', 'pa')\n"
     ]
    },
    {
     "name": "stderr",
     "output_type": "stream",
     "text": [
      "Processando links:  62%|██████▏   | 5250/8439 [02:11<06:09,  8.63it/s]"
     ]
    },
    {
     "name": "stdout",
     "output_type": "stream",
     "text": [
      "7478 (6461, 'ourilandiadonorte', 'pa')\n"
     ]
    },
    {
     "name": "stderr",
     "output_type": "stream",
     "text": [
      "Processando links:  62%|██████▏   | 5271/8439 [02:15<07:02,  7.50it/s]"
     ]
    },
    {
     "name": "stdout",
     "output_type": "stream",
     "text": [
      "7477 (1204, 'ourem', 'pa')\n"
     ]
    },
    {
     "name": "stderr",
     "output_type": "stream",
     "text": [
      "Processando links:  63%|██████▎   | 5279/8439 [02:18<08:09,  6.45it/s]"
     ]
    },
    {
     "name": "stdout",
     "output_type": "stream",
     "text": [
      "7479 (6462, 'pacaja', 'pa')\n"
     ]
    },
    {
     "name": "stderr",
     "output_type": "stream",
     "text": [
      "Processando links:  63%|██████▎   | 5312/8439 [02:23<07:55,  6.57it/s]"
     ]
    },
    {
     "name": "stdout",
     "output_type": "stream",
     "text": [
      "7480 (6463, 'palestinadopara', 'pa')\n"
     ]
    },
    {
     "name": "stderr",
     "output_type": "stream",
     "text": [
      "Processando links:  64%|██████▎   | 5372/8439 [02:27<05:53,  8.66it/s]"
     ]
    },
    {
     "name": "stdout",
     "output_type": "stream",
     "text": [
      "7481 (1205, 'paragominas', 'pa')\n"
     ]
    },
    {
     "name": "stderr",
     "output_type": "stream",
     "text": [
      "Processando links:  65%|██████▍   | 5477/8439 [02:32<03:22, 14.62it/s]"
     ]
    },
    {
     "name": "stdout",
     "output_type": "stream",
     "text": [
      "7482 (1206, 'parauapebas', 'pa')\n"
     ]
    },
    {
     "name": "stderr",
     "output_type": "stream",
     "text": [
      "Processando links:  66%|██████▌   | 5566/8439 [02:37<02:34, 18.61it/s]"
     ]
    },
    {
     "name": "stdout",
     "output_type": "stream",
     "text": [
      "7483 (6464, 'paudarco', 'pa')\n"
     ]
    },
    {
     "name": "stderr",
     "output_type": "stream",
     "text": [
      "Processando links:  66%|██████▋   | 5597/8439 [02:42<03:34, 13.26it/s]"
     ]
    },
    {
     "name": "stdout",
     "output_type": "stream",
     "text": [
      "7484 (6465, 'peixeboi', 'pa')\n"
     ]
    },
    {
     "name": "stderr",
     "output_type": "stream",
     "text": [
      "Processando links:  67%|██████▋   | 5682/8439 [02:45<02:20, 19.62it/s]"
     ]
    },
    {
     "name": "stdout",
     "output_type": "stream",
     "text": [
      "[Aviso] Atributo 'data-id-locale' não encontrado em https://www.climatempo.com.br/previsao-do-tempo/agora/cidade/9676/peshawar-pa\n"
     ]
    },
    {
     "name": "stderr",
     "output_type": "stream",
     "text": [
      "Processando links:  68%|██████▊   | 5755/8439 [02:45<01:21, 32.84it/s]"
     ]
    },
    {
     "name": "stdout",
     "output_type": "stream",
     "text": [
      "7485 (6466, 'picarra', 'pa')\n"
     ]
    },
    {
     "name": "stderr",
     "output_type": "stream",
     "text": [
      "Processando links:  69%|██████▊   | 5798/8439 [02:56<03:52, 11.36it/s]"
     ]
    },
    {
     "name": "stdout",
     "output_type": "stream",
     "text": [
      "7486 (5548, 'placas', 'pa')\n"
     ]
    },
    {
     "name": "stderr",
     "output_type": "stream",
     "text": [
      "Processando links:  69%|██████▉   | 5802/8439 [02:59<04:43,  9.30it/s]"
     ]
    },
    {
     "name": "stdout",
     "output_type": "stream",
     "text": [
      "4113 (5100, 'pontadepedras', 'pa')\n"
     ]
    },
    {
     "name": "stderr",
     "output_type": "stream",
     "text": [
      "Processando links:  69%|██████▉   | 5850/8439 [03:03<04:23,  9.82it/s]"
     ]
    },
    {
     "name": "stdout",
     "output_type": "stream",
     "text": [
      "7487 (2157, 'portel', 'pa')\n"
     ]
    },
    {
     "name": "stderr",
     "output_type": "stream",
     "text": [
      "Processando links:  70%|██████▉   | 5891/8439 [03:08<04:37,  9.18it/s]"
     ]
    },
    {
     "name": "stdout",
     "output_type": "stream",
     "text": [
      "4114 (5101, 'portotrombetas', 'pa')\n"
     ]
    },
    {
     "name": "stderr",
     "output_type": "stream",
     "text": [
      "Processando links:  70%|██████▉   | 5907/8439 [03:11<05:01,  8.38it/s]"
     ]
    },
    {
     "name": "stdout",
     "output_type": "stream",
     "text": [
      "7488 (245, 'portodemoz', 'pa')\n"
     ]
    },
    {
     "name": "stderr",
     "output_type": "stream",
     "text": [
      "Processando links:  71%|███████   | 5960/8439 [03:17<04:44,  8.73it/s]"
     ]
    },
    {
     "name": "stdout",
     "output_type": "stream",
     "text": [
      "7489 (246, 'prainha', 'pa')\n"
     ]
    },
    {
     "name": "stderr",
     "output_type": "stream",
     "text": [
      "Processando links:  72%|███████▏  | 6063/8439 [03:23<02:55, 13.53it/s]"
     ]
    },
    {
     "name": "stdout",
     "output_type": "stream",
     "text": [
      "7490 (6467, 'primavera', 'pa')\n"
     ]
    },
    {
     "name": "stderr",
     "output_type": "stream",
     "text": [
      "Processando links:  73%|███████▎  | 6148/8439 [03:25<01:52, 20.32it/s]"
     ]
    },
    {
     "name": "stdout",
     "output_type": "stream",
     "text": [
      "7491 (6468, 'quatipuru', 'pa')\n"
     ]
    },
    {
     "name": "stderr",
     "output_type": "stream",
     "text": [
      "Processando links:  74%|███████▍  | 6244/8439 [03:29<01:28, 24.74it/s]"
     ]
    },
    {
     "name": "stdout",
     "output_type": "stream",
     "text": [
      "7492 (1208, 'redencao', 'pa')\n"
     ]
    },
    {
     "name": "stderr",
     "output_type": "stream",
     "text": [
      "Processando links:  75%|███████▌  | 6363/8439 [03:34<01:15, 27.60it/s]"
     ]
    },
    {
     "name": "stdout",
     "output_type": "stream",
     "text": [
      "7493 (1209, 'riomaria', 'pa')\n"
     ]
    },
    {
     "name": "stderr",
     "output_type": "stream",
     "text": [
      "Processando links:  76%|███████▌  | 6399/8439 [03:39<02:02, 16.60it/s]"
     ]
    },
    {
     "name": "stdout",
     "output_type": "stream",
     "text": [
      "7494 (1210, 'rondondopara', 'pa')\n"
     ]
    },
    {
     "name": "stderr",
     "output_type": "stream",
     "text": [
      "Processando links:  76%|███████▌  | 6425/8439 [03:44<02:49, 11.88it/s]"
     ]
    },
    {
     "name": "stdout",
     "output_type": "stream",
     "text": [
      "7495 (5032, 'ruropolis', 'pa')\n"
     ]
    },
    {
     "name": "stderr",
     "output_type": "stream",
     "text": [
      "Processando links:  77%|███████▋  | 6476/8439 [03:49<02:53, 11.32it/s]"
     ]
    },
    {
     "name": "stdout",
     "output_type": "stream",
     "text": [
      "7496 (1212, 'salinopolis', 'pa')\n"
     ]
    },
    {
     "name": "stderr",
     "output_type": "stream",
     "text": [
      "Processando links:  78%|███████▊  | 6565/8439 [03:52<01:41, 18.40it/s]"
     ]
    },
    {
     "name": "stdout",
     "output_type": "stream",
     "text": [
      "7497 (248, 'salvaterra', 'pa')\n"
     ]
    },
    {
     "name": "stderr",
     "output_type": "stream",
     "text": [
      "Processando links:  78%|███████▊  | 6619/8439 [03:55<01:44, 17.41it/s]"
     ]
    },
    {
     "name": "stdout",
     "output_type": "stream",
     "text": [
      "7498 (6469, 'santabarbaradopara', 'pa')\n"
     ]
    },
    {
     "name": "stderr",
     "output_type": "stream",
     "text": [
      "Processando links:  79%|███████▉  | 6654/8439 [03:58<01:47, 16.63it/s]"
     ]
    },
    {
     "name": "stdout",
     "output_type": "stream",
     "text": [
      "7499 (6470, 'santacruzdoarari', 'pa')\n"
     ]
    },
    {
     "name": "stderr",
     "output_type": "stream",
     "text": [
      "Processando links:  79%|███████▉  | 6688/8439 [04:01<02:03, 14.21it/s]"
     ]
    },
    {
     "name": "stdout",
     "output_type": "stream",
     "text": [
      "7500 (6471, 'santaisabeldopara', 'pa')\n"
     ]
    },
    {
     "name": "stderr",
     "output_type": "stream",
     "text": [
      "Processando links:  79%|███████▉  | 6703/8439 [04:03<02:19, 12.42it/s]"
     ]
    },
    {
     "name": "stdout",
     "output_type": "stream",
     "text": [
      "7501 (6472, 'santaluziadopara', 'pa')\n"
     ]
    },
    {
     "name": "stderr",
     "output_type": "stream",
     "text": [
      "Processando links:  80%|███████▉  | 6718/8439 [04:06<02:48, 10.21it/s]"
     ]
    },
    {
     "name": "stdout",
     "output_type": "stream",
     "text": [
      "7502 (6858, 'santamariadasbarreiras', 'pa')\n"
     ]
    },
    {
     "name": "stderr",
     "output_type": "stream",
     "text": [
      "Processando links:  80%|████████  | 6787/8439 [04:10<01:47, 15.43it/s]"
     ]
    },
    {
     "name": "stdout",
     "output_type": "stream",
     "text": [
      "7503 (6473, 'santamariadopara', 'pa')\n"
     ]
    },
    {
     "name": "stderr",
     "output_type": "stream",
     "text": [
      "Processando links:  81%|████████  | 6808/8439 [04:15<02:47,  9.74it/s]"
     ]
    },
    {
     "name": "stdout",
     "output_type": "stream",
     "text": [
      "7504 (1559, 'santanadoaraguaia', 'pa')\n",
      "7506 (249, 'santarem', 'pa')\n"
     ]
    },
    {
     "name": "stderr",
     "output_type": "stream",
     "text": [
      "Processando links:  81%|████████  | 6823/8439 [04:23<04:45,  5.66it/s]"
     ]
    },
    {
     "name": "stdout",
     "output_type": "stream",
     "text": [
      "7505 (6474, 'santaremnovo', 'pa')\n"
     ]
    },
    {
     "name": "stderr",
     "output_type": "stream",
     "text": [
      "Processando links:  81%|████████▏ | 6876/8439 [04:26<03:10,  8.19it/s]"
     ]
    },
    {
     "name": "stdout",
     "output_type": "stream",
     "text": [
      "7507 (6475, 'santoantoniodotaua', 'pa')\n"
     ]
    },
    {
     "name": "stderr",
     "output_type": "stream",
     "text": [
      "Processando links:  82%|████████▏ | 6905/8439 [04:32<03:32,  7.22it/s]"
     ]
    },
    {
     "name": "stdout",
     "output_type": "stream",
     "text": [
      "7517 (6476, 'sapucaia', 'pa')\n"
     ]
    },
    {
     "name": "stderr",
     "output_type": "stream",
     "text": [
      "Processando links:  84%|████████▍ | 7096/8439 [04:37<00:59, 22.69it/s]"
     ]
    },
    {
     "name": "stdout",
     "output_type": "stream",
     "text": [
      "7518 (250, 'senadorjoseporfirio', 'pa')\n"
     ]
    },
    {
     "name": "stderr",
     "output_type": "stream",
     "text": [
      "Processando links:  85%|████████▌ | 7211/8439 [04:40<00:39, 31.21it/s]"
     ]
    },
    {
     "name": "stdout",
     "output_type": "stream",
     "text": [
      "7519 (251, 'soure', 'pa')\n",
      "7508 (247, 'saocaetanodeodivelas', 'pa')\n"
     ]
    },
    {
     "name": "stderr",
     "output_type": "stream",
     "text": [
      "Processando links:  86%|████████▌ | 7249/8439 [04:49<01:31, 13.03it/s]"
     ]
    },
    {
     "name": "stdout",
     "output_type": "stream",
     "text": [
      "7509 (6859, 'saodomingosdoaraguaia', 'pa')\n"
     ]
    },
    {
     "name": "stderr",
     "output_type": "stream",
     "text": [
      "Processando links:  86%|████████▌ | 7276/8439 [04:53<01:44, 11.17it/s]"
     ]
    },
    {
     "name": "stdout",
     "output_type": "stream",
     "text": [
      "7510 (1560, 'saodomingosdocapim', 'pa')\n",
      "7512 (6477, 'saofranciscodopara', 'pa')\n"
     ]
    },
    {
     "name": "stderr",
     "output_type": "stream",
     "text": [
      "Processando links:  86%|████████▋ | 7295/8439 [05:02<02:49,  6.73it/s]"
     ]
    },
    {
     "name": "stdout",
     "output_type": "stream",
     "text": [
      "7511 (1561, 'saofelixdoxingu', 'pa')\n"
     ]
    },
    {
     "name": "stderr",
     "output_type": "stream",
     "text": [
      "Processando links:  87%|████████▋ | 7376/8439 [05:04<01:22, 12.83it/s]"
     ]
    },
    {
     "name": "stdout",
     "output_type": "stream",
     "text": [
      "7513 (6857, 'saogeraldodoaraguaia', 'pa')\n"
     ]
    },
    {
     "name": "stderr",
     "output_type": "stream",
     "text": [
      "Processando links:  88%|████████▊ | 7410/8439 [05:09<01:38, 10.44it/s]"
     ]
    },
    {
     "name": "stdout",
     "output_type": "stream",
     "text": [
      "6046 (6595, 'saojoaodaponta', 'pa')\n",
      "6047 (6596, 'saojoaodepirabas', 'pa')\n"
     ]
    },
    {
     "name": "stderr",
     "output_type": "stream",
     "text": [
      "Processando links:  88%|████████▊ | 7429/8439 [05:16<02:22,  7.07it/s]"
     ]
    },
    {
     "name": "stdout",
     "output_type": "stream",
     "text": [
      "7514 (1562, 'saojoaodoaraguaia', 'pa')\n"
     ]
    },
    {
     "name": "stderr",
     "output_type": "stream",
     "text": [
      "Processando links:  89%|████████▉ | 7493/8439 [05:20<01:40,  9.45it/s]"
     ]
    },
    {
     "name": "stdout",
     "output_type": "stream",
     "text": [
      "7515 (1563, 'saomigueldoguama', 'pa')\n"
     ]
    },
    {
     "name": "stderr",
     "output_type": "stream",
     "text": [
      "Processando links:  90%|█████████ | 7605/8439 [05:24<00:51, 16.28it/s]"
     ]
    },
    {
     "name": "stdout",
     "output_type": "stream",
     "text": [
      "7516 (6860, 'saosebastiaodaboavista', 'pa')\n"
     ]
    },
    {
     "name": "stderr",
     "output_type": "stream",
     "text": [
      "Processando links:  91%|█████████ | 7695/8439 [05:28<00:32, 22.71it/s]"
     ]
    },
    {
     "name": "stdout",
     "output_type": "stream",
     "text": [
      "4004 (4948, 'tailandia', 'pa')\n"
     ]
    },
    {
     "name": "stderr",
     "output_type": "stream",
     "text": [
      "Processando links:  92%|█████████▏| 7769/8439 [05:29<00:24, 27.21it/s]"
     ]
    },
    {
     "name": "stdout",
     "output_type": "stream",
     "text": [
      "6048 (6597, 'terraalta', 'pa')\n"
     ]
    },
    {
     "name": "stderr",
     "output_type": "stream",
     "text": [
      "Processando links:  92%|█████████▏| 7793/8439 [05:34<00:40, 15.95it/s]"
     ]
    },
    {
     "name": "stdout",
     "output_type": "stream",
     "text": [
      "7520 (6478, 'terrasanta', 'pa')\n"
     ]
    },
    {
     "name": "stderr",
     "output_type": "stream",
     "text": [
      "Processando links:  93%|█████████▎| 7859/8439 [05:39<00:38, 15.07it/s]"
     ]
    },
    {
     "name": "stdout",
     "output_type": "stream",
     "text": [
      "7521 (1219, 'tome-acu', 'pa')\n"
     ]
    },
    {
     "name": "stderr",
     "output_type": "stream",
     "text": [
      "Processando links:  93%|█████████▎| 7885/8439 [05:43<00:45, 12.15it/s]"
     ]
    },
    {
     "name": "stdout",
     "output_type": "stream",
     "text": [
      "7522 (252, 'tracuateua', 'pa')\n"
     ]
    },
    {
     "name": "stderr",
     "output_type": "stream",
     "text": [
      "Processando links:  94%|█████████▎| 7894/8439 [05:48<01:05,  8.32it/s]"
     ]
    },
    {
     "name": "stdout",
     "output_type": "stream",
     "text": [
      "4197 (5197, 'trairao', 'pa')\n"
     ]
    },
    {
     "name": "stderr",
     "output_type": "stream",
     "text": [
      "Processando links:  94%|█████████▍| 7925/8439 [05:52<00:59,  8.58it/s]"
     ]
    },
    {
     "name": "stdout",
     "output_type": "stream",
     "text": [
      "5329 (1777, 'trombetas', 'pa')\n"
     ]
    },
    {
     "name": "stderr",
     "output_type": "stream",
     "text": [
      "Processando links:  94%|█████████▍| 7959/8439 [05:56<00:58,  8.21it/s]"
     ]
    },
    {
     "name": "stdout",
     "output_type": "stream",
     "text": [
      "7523 (5198, 'tucuma', 'pa')\n"
     ]
    },
    {
     "name": "stderr",
     "output_type": "stream",
     "text": [
      "Processando links:  95%|█████████▌| 8028/8439 [06:02<00:35, 11.67it/s]"
     ]
    },
    {
     "name": "stdout",
     "output_type": "stream",
     "text": [
      "7524 (1220, 'tucurui', 'pa')\n"
     ]
    },
    {
     "name": "stderr",
     "output_type": "stream",
     "text": [
      "Processando links:  95%|█████████▌| 8050/8439 [06:06<00:43,  8.93it/s]"
     ]
    },
    {
     "name": "stdout",
     "output_type": "stream",
     "text": [
      "4005 (4949, 'ulianopolis', 'pa')\n"
     ]
    },
    {
     "name": "stderr",
     "output_type": "stream",
     "text": [
      "Processando links:  96%|█████████▋| 8138/8439 [06:10<00:18, 16.18it/s]"
     ]
    },
    {
     "name": "stdout",
     "output_type": "stream",
     "text": [
      "3197 (3375, 'uruara', 'pa')\n"
     ]
    },
    {
     "name": "stderr",
     "output_type": "stream",
     "text": [
      "Processando links:  98%|█████████▊| 8251/8439 [06:12<00:07, 25.40it/s]"
     ]
    },
    {
     "name": "stdout",
     "output_type": "stream",
     "text": [
      "6049 (6598, 'vigia', 'pa')\n"
     ]
    },
    {
     "name": "stderr",
     "output_type": "stream",
     "text": [
      "Processando links:  98%|█████████▊| 8280/8439 [06:16<00:09, 16.24it/s]"
     ]
    },
    {
     "name": "stdout",
     "output_type": "stream",
     "text": [
      "7525 (253, 'viseu', 'pa')\n"
     ]
    },
    {
     "name": "stderr",
     "output_type": "stream",
     "text": [
      "Processando links:  99%|█████████▉| 8366/8439 [06:20<00:03, 21.86it/s]"
     ]
    },
    {
     "name": "stdout",
     "output_type": "stream",
     "text": [
      "7526 (6479, 'vitoriadoxingu', 'pa')\n"
     ]
    },
    {
     "name": "stderr",
     "output_type": "stream",
     "text": [
      "Processando links: 100%|██████████| 8439/8439 [06:22<00:00, 22.08it/s]"
     ]
    },
    {
     "name": "stdout",
     "output_type": "stream",
     "text": [
      "7527 (1221, 'xinguara', 'pa')\n"
     ]
    },
    {
     "name": "stderr",
     "output_type": "stream",
     "text": [
      "\n"
     ]
    }
   ],
   "source": [
    "id_locales = []\n",
    "\n",
    "for link in tqdm(links, desc=\"Processando links\"):\n",
    "    pagina_cidade = link.get_attribute(\"href\")\n",
    "    city_tuple = extract_code_city_uf(pagina_cidade)\n",
    "    \n",
    "    if city_tuple and city_tuple[2] == 'pa':  # garante que city_tuple não seja None\n",
    "        try:\n",
    "            id_locale = get_id_locale(pagina_cidade)\n",
    "            id_locales.append(id_locale)\n",
    "            print(id_locale, city_tuple)\n",
    "        except ValueError as e:\n",
    "            print(f\"[Aviso] {e} em {pagina_cidade}\")\n",
    "            continue\n"
   ]
  },
  {
   "cell_type": "code",
   "execution_count": 11,
   "id": "2194ab9d",
   "metadata": {},
   "outputs": [
    {
     "name": "stdout",
     "output_type": "stream",
     "text": [
      "{'data': {'getWeatherNow': [{'data': [{'locale': {'idlocale': 7696, 'idcity': 1191, 'capital': False, 'idcountry': 7, 'ac': 'BR', 'country': 'Brasil', 'uf': 'PA', 'city': 'Abaetetuba', 'region': 'N', 'seaside': False, 'latitude': -1.718, 'longitude': -48.883, 'tourist': False, 'agricultural': False, 'base': 'cities'}, 'weather': {'id': 7696, 'name': 'Abaetetuba', 'date': '04/09/2025', 'dayWeek': 'Quinta-feira', 'dateUpdate': '22:29:00', 'temperature': 29, 'windDirection': 0, 'windVelocity': 8, 'windDirectionDegrees': 237, 'humidity': 82, 'condition': 'Céu limpo', 'pressure': 1012, 'icon': '1n', 'sensation': 34, 'slugCondition': 'céu-limpo'}}]}]}, 'status_code': 200}\n",
      "{'data': {'getWeatherNow': [{'data': [{'locale': {'idlocale': 5916, 'idcity': 6422, 'capital': False, 'idcountry': 7, 'ac': 'BR', 'country': 'Brasil', 'uf': 'PA', 'city': 'Abel Figueiredo', 'region': 'N', 'seaside': False, 'latitude': -4.954, 'longitude': -48.393, 'tourist': False, 'agricultural': False, 'base': 'cities'}, 'weather': {'id': 5916, 'name': 'Abel Figueiredo', 'date': '04/09/2025', 'dayWeek': 'Quinta-feira', 'dateUpdate': '22:29:00', 'temperature': 30, 'windDirection': 0, 'windVelocity': 3, 'windDirectionDegrees': 270, 'humidity': 61, 'condition': 'Algumas nuvens', 'pressure': 1010, 'icon': '2n', 'sensation': 32, 'slugCondition': 'algumas-nuvens'}}]}]}, 'status_code': 200}\n",
      "{'data': {'getWeatherNow': [{'data': [{'locale': {'idlocale': 7697, 'idcity': 1192, 'capital': False, 'idcountry': 7, 'ac': 'BR', 'country': 'Brasil', 'uf': 'PA', 'city': 'Acará', 'region': 'N', 'seaside': False, 'latitude': -1.961, 'longitude': -48.197, 'tourist': False, 'agricultural': False, 'base': 'cities'}, 'weather': {'id': 7697, 'name': 'Acará', 'date': '04/09/2025', 'dayWeek': 'Quinta-feira', 'dateUpdate': '22:29:00', 'temperature': 27, 'windDirection': 0, 'windVelocity': 6, 'windDirectionDegrees': 236, 'humidity': 79, 'condition': 'Muitas nuvens', 'pressure': 1012, 'icon': '2rn', 'sensation': 29, 'slugCondition': 'muitas-nuvens'}}]}]}, 'status_code': 200}\n",
      "{'data': {'getWeatherNow': [{'data': [{'locale': {'idlocale': 7698, 'idcity': 225, 'capital': False, 'idcountry': 7, 'ac': 'BR', 'country': 'Brasil', 'uf': 'PA', 'city': 'Afuá', 'region': 'N', 'seaside': False, 'latitude': -0.157, 'longitude': -50.387, 'tourist': False, 'agricultural': False, 'base': 'cities'}, 'weather': {'id': 7698, 'name': 'Afuá', 'date': '04/09/2025', 'dayWeek': 'Quinta-feira', 'dateUpdate': '22:29:00', 'temperature': 27, 'windDirection': 0, 'windVelocity': 10, 'windDirectionDegrees': 151, 'humidity': 85, 'condition': 'Nublado', 'pressure': 1012, 'icon': '3n', 'sensation': 30, 'slugCondition': 'nublado'}}]}]}, 'status_code': 200}\n",
      "{'data': {'getWeatherNow': [{'data': [{'locale': {'idlocale': 7699, 'idcity': 226, 'capital': False, 'idcountry': 7, 'ac': 'BR', 'country': 'Brasil', 'uf': 'PA', 'city': 'Alenquer', 'region': 'N', 'seaside': False, 'latitude': -1.942, 'longitude': -54.738, 'tourist': False, 'agricultural': False, 'base': 'cities'}, 'weather': {'id': 7699, 'name': 'Alenquer', 'date': '04/09/2025', 'dayWeek': 'Quinta-feira', 'dateUpdate': '22:29:00', 'temperature': 29, 'windDirection': 0, 'windVelocity': 15, 'windDirectionDegrees': 200, 'humidity': 76, 'condition': 'Muitas nuvens', 'pressure': 0, 'icon': '2rn', 'sensation': 33, 'slugCondition': 'muitas-nuvens'}}]}]}, 'status_code': 200}\n",
      "{'data': {'getWeatherNow': [{'data': [{'locale': {'idlocale': 7700, 'idcity': 6974, 'capital': False, 'idcountry': 7, 'ac': 'BR', 'country': 'Brasil', 'uf': 'PA', 'city': 'Algodoal', 'region': 'N', 'seaside': False, 'latitude': -0.583, 'longitude': -47.567, 'tourist': False, 'agricultural': False, 'base': 'cities'}, 'weather': {'id': 7700, 'name': 'Algodoal', 'date': '04/09/2025', 'dayWeek': 'Quinta-feira', 'dateUpdate': '22:29:00', 'temperature': 26, 'windDirection': 0, 'windVelocity': 9, 'windDirectionDegrees': 242, 'humidity': 84, 'condition': 'Nublado', 'pressure': 1012, 'icon': '3n', 'sensation': 28, 'slugCondition': 'nublado'}}]}]}, 'status_code': 200}\n",
      "{'data': {'getWeatherNow': [{'data': [{'locale': {'idlocale': 7701, 'idcity': 227, 'capital': False, 'idcountry': 7, 'ac': 'BR', 'country': 'Brasil', 'uf': 'PA', 'city': 'Almeirim', 'region': 'N', 'seaside': False, 'latitude': -1.523, 'longitude': -52.582, 'tourist': False, 'agricultural': False, 'base': 'cities'}, 'weather': {'id': 7701, 'name': 'Almeirim', 'date': '04/09/2025', 'dayWeek': 'Quinta-feira', 'dateUpdate': '22:29:00', 'temperature': 28, 'windDirection': 0, 'windVelocity': 11, 'windDirectionDegrees': 135, 'humidity': 84, 'condition': 'Céu limpo', 'pressure': 0, 'icon': '1n', 'sensation': 33, 'slugCondition': 'céu-limpo'}}]}]}, 'status_code': 200}\n",
      "{'data': {'getWeatherNow': [{'data': [{'locale': {'idlocale': 7702, 'idcity': 228, 'capital': False, 'idcountry': 7, 'ac': 'BR', 'country': 'Brasil', 'uf': 'PA', 'city': 'Altamira', 'region': 'N', 'seaside': False, 'latitude': -3.203, 'longitude': -52.206, 'tourist': False, 'agricultural': False, 'base': 'cities'}, 'weather': {'id': 7702, 'name': 'Altamira', 'date': '04/09/2025', 'dayWeek': 'Quinta-feira', 'dateUpdate': '22:29:00', 'temperature': 29, 'windDirection': 0, 'windVelocity': 6, 'windDirectionDegrees': 180, 'humidity': 70, 'condition': 'Céu limpo', 'pressure': 0, 'icon': '1n', 'sensation': 33, 'slugCondition': 'céu-limpo'}}]}]}, 'status_code': 200}\n",
      "{'data': {'getWeatherNow': [{'data': [{'locale': {'idlocale': 5917, 'idcity': 6423, 'capital': False, 'idcountry': 7, 'ac': 'BR', 'country': 'Brasil', 'uf': 'PA', 'city': 'Anajás', 'region': 'N', 'seaside': False, 'latitude': -0.987, 'longitude': -49.94, 'tourist': False, 'agricultural': False, 'base': 'cities'}, 'weather': {'id': 5917, 'name': 'Anajás', 'date': '04/09/2025', 'dayWeek': 'Quinta-feira', 'dateUpdate': '22:29:00', 'temperature': 28, 'windDirection': 0, 'windVelocity': 9, 'windDirectionDegrees': 203, 'humidity': 85, 'condition': 'Muitas nuvens', 'pressure': 1012, 'icon': '2rn', 'sensation': 31, 'slugCondition': 'muitas-nuvens'}}]}]}, 'status_code': 200}\n",
      "{'data': {'getWeatherNow': [{'data': [{'locale': {'idlocale': 7703, 'idcity': 229, 'capital': False, 'idcountry': 7, 'ac': 'BR', 'country': 'Brasil', 'uf': 'PA', 'city': 'Ananindeua', 'region': 'N', 'seaside': False, 'latitude': -1.366, 'longitude': -48.372, 'tourist': False, 'agricultural': False, 'base': 'cities'}, 'weather': {'id': 7703, 'name': 'Ananindeua', 'date': '04/09/2025', 'dayWeek': 'Quinta-feira', 'dateUpdate': '22:29:00', 'temperature': 28, 'windDirection': 0, 'windVelocity': 8, 'windDirectionDegrees': 241, 'humidity': 83, 'condition': 'Chuvoso', 'pressure': 1012, 'icon': '5n', 'sensation': 32, 'slugCondition': 'chuvoso'}}]}]}, 'status_code': 200}\n",
      "{'data': {'getWeatherNow': [{'data': [{'locale': {'idlocale': 5918, 'idcity': 6424, 'capital': False, 'idcountry': 7, 'ac': 'BR', 'country': 'Brasil', 'uf': 'PA', 'city': 'Anapu', 'region': 'N', 'seaside': False, 'latitude': -3.472, 'longitude': -51.198, 'tourist': False, 'agricultural': False, 'base': 'cities'}, 'weather': {'id': 5918, 'name': 'Anapu', 'date': '04/09/2025', 'dayWeek': 'Quinta-feira', 'dateUpdate': '22:29:00', 'temperature': 29, 'windDirection': 0, 'windVelocity': 4, 'windDirectionDegrees': 192, 'humidity': 76, 'condition': 'Céu limpo', 'pressure': 221, 'icon': '1n', 'sensation': 33, 'slugCondition': 'céu-limpo'}}]}]}, 'status_code': 200}\n",
      "{'data': {'getWeatherNow': [{'data': [{'locale': {'idlocale': 5919, 'idcity': 6425, 'capital': False, 'idcountry': 7, 'ac': 'BR', 'country': 'Brasil', 'uf': 'PA', 'city': 'Augusto Corrêa', 'region': 'N', 'seaside': True, 'latitude': -1.022, 'longitude': -46.635, 'tourist': False, 'agricultural': False, 'base': 'cities'}, 'weather': {'id': 5919, 'name': 'Augusto Corrêa', 'date': '04/09/2025', 'dayWeek': 'Quinta-feira', 'dateUpdate': '22:29:00', 'temperature': 26, 'windDirection': 0, 'windVelocity': 9, 'windDirectionDegrees': 230, 'humidity': 82, 'condition': 'Nublado', 'pressure': 1012, 'icon': '3n', 'sensation': 27, 'slugCondition': 'nublado'}}]}]}, 'status_code': 200}\n",
      "{'data': {'getWeatherNow': [{'data': [{'locale': {'idlocale': 5920, 'idcity': 6426, 'capital': False, 'idcountry': 7, 'ac': 'BR', 'country': 'Brasil', 'uf': 'PA', 'city': 'Aurora do Pará', 'region': 'N', 'seaside': False, 'latitude': -2.134, 'longitude': -47.559, 'tourist': False, 'agricultural': False, 'base': 'cities'}, 'weather': {'id': 5920, 'name': 'Aurora do Pará', 'date': '04/09/2025', 'dayWeek': 'Quinta-feira', 'dateUpdate': '22:29:00', 'temperature': 26, 'windDirection': 0, 'windVelocity': 6, 'windDirectionDegrees': 231, 'humidity': 79, 'condition': 'Céu limpo', 'pressure': 1012, 'icon': '1n', 'sensation': 27, 'slugCondition': 'céu-limpo'}}]}]}, 'status_code': 200}\n",
      "{'data': {'getWeatherNow': [{'data': [{'locale': {'idlocale': 5921, 'idcity': 6427, 'capital': False, 'idcountry': 7, 'ac': 'BR', 'country': 'Brasil', 'uf': 'PA', 'city': 'Aveiro', 'region': 'N', 'seaside': False, 'latitude': -3.606, 'longitude': -55.332, 'tourist': False, 'agricultural': False, 'base': 'cities'}, 'weather': {'id': 5921, 'name': 'Aveiro', 'date': '04/09/2025', 'dayWeek': 'Quinta-feira', 'dateUpdate': '22:29:00', 'temperature': 29, 'windDirection': 0, 'windVelocity': 13, 'windDirectionDegrees': 209, 'humidity': 74, 'condition': 'Muitas nuvens', 'pressure': 0, 'icon': '2rn', 'sensation': 33, 'slugCondition': 'muitas-nuvens'}}]}]}, 'status_code': 200}\n",
      "{'data': {'getWeatherNow': [{'data': [{'locale': {'idlocale': 5922, 'idcity': 6428, 'capital': False, 'idcountry': 7, 'ac': 'BR', 'country': 'Brasil', 'uf': 'PA', 'city': 'Bagre', 'region': 'N', 'seaside': False, 'latitude': -1.9, 'longitude': -50.164, 'tourist': False, 'agricultural': False, 'base': 'cities'}, 'weather': {'id': 5922, 'name': 'Bagre', 'date': '04/09/2025', 'dayWeek': 'Quinta-feira', 'dateUpdate': '22:29:00', 'temperature': 28, 'windDirection': 0, 'windVelocity': 9, 'windDirectionDegrees': 200, 'humidity': 83, 'condition': 'Céu limpo', 'pressure': 1012, 'icon': '1n', 'sensation': 33, 'slugCondition': 'céu-limpo'}}]}]}, 'status_code': 200}\n",
      "{'data': {'getWeatherNow': [{'data': [{'locale': {'idlocale': 5923, 'idcity': 6429, 'capital': False, 'idcountry': 7, 'ac': 'BR', 'country': 'Brasil', 'uf': 'PA', 'city': 'Baião', 'region': 'N', 'seaside': False, 'latitude': -2.791, 'longitude': -49.672, 'tourist': False, 'agricultural': False, 'base': 'cities'}, 'weather': {'id': 5923, 'name': 'Baião', 'date': '04/09/2025', 'dayWeek': 'Quinta-feira', 'dateUpdate': '22:29:00', 'temperature': 29, 'windDirection': 0, 'windVelocity': 7, 'windDirectionDegrees': 220, 'humidity': 80, 'condition': 'Céu limpo', 'pressure': 1012, 'icon': '1n', 'sensation': 34, 'slugCondition': 'céu-limpo'}}]}]}, 'status_code': 200}\n",
      "{'data': {'getWeatherNow': [{'data': [{'locale': {'idlocale': 5924, 'idcity': 6430, 'capital': False, 'idcountry': 7, 'ac': 'BR', 'country': 'Brasil', 'uf': 'PA', 'city': 'Bannach', 'region': 'N', 'seaside': False, 'latitude': -7.348, 'longitude': -50.396, 'tourist': False, 'agricultural': False, 'base': 'cities'}, 'weather': {'id': 5924, 'name': 'Bannach', 'date': '04/09/2025', 'dayWeek': 'Quinta-feira', 'dateUpdate': '22:29:00', 'temperature': 27, 'windDirection': 0, 'windVelocity': 2, 'windDirectionDegrees': 52, 'humidity': 50, 'condition': 'Céu limpo', 'pressure': 1010, 'icon': '1n', 'sensation': 27, 'slugCondition': 'céu-limpo'}}]}]}, 'status_code': 200}\n",
      "{'data': {'getWeatherNow': [{'data': [{'locale': {'idlocale': 5925, 'idcity': 6431, 'capital': False, 'idcountry': 7, 'ac': 'BR', 'country': 'Brasil', 'uf': 'PA', 'city': 'Barcarena', 'region': 'N', 'seaside': False, 'latitude': -1.506, 'longitude': -48.626, 'tourist': False, 'agricultural': False, 'base': 'cities'}, 'weather': {'id': 5925, 'name': 'Barcarena', 'date': '04/09/2025', 'dayWeek': 'Quinta-feira', 'dateUpdate': '22:29:00', 'temperature': 29, 'windDirection': 0, 'windVelocity': 8, 'windDirectionDegrees': 240, 'humidity': 83, 'condition': 'Pancadas de chuva', 'pressure': 1012, 'icon': '4n', 'sensation': 35, 'slugCondition': 'pancadas-de-chuva'}}]}]}, 'status_code': 200}\n",
      "{'data': {'getWeatherNow': [{'data': [{'locale': {'idlocale': 7705, 'idcity': 230, 'capital': False, 'idcountry': 7, 'ac': 'BR', 'country': 'Brasil', 'uf': 'PA', 'city': 'Belo Monte', 'region': 'N', 'seaside': False, 'latitude': -3.083, 'longitude': -51.767, 'tourist': False, 'agricultural': False, 'base': 'cities'}, 'weather': {'id': 7705, 'name': 'Belo Monte', 'date': '04/09/2025', 'dayWeek': 'Quinta-feira', 'dateUpdate': '22:29:00', 'temperature': 29, 'windDirection': 0, 'windVelocity': 6, 'windDirectionDegrees': 180, 'humidity': 80, 'condition': 'Céu limpo', 'pressure': 0, 'icon': '1n', 'sensation': 35, 'slugCondition': 'céu-limpo'}}]}]}, 'status_code': 200}\n",
      "{'data': {'getWeatherNow': [{'data': [{'locale': {'idlocale': 7706, 'idcity': 231, 'capital': False, 'idcountry': 7, 'ac': 'BR', 'country': 'Brasil', 'uf': 'PA', 'city': 'Belterra', 'region': 'N', 'seaside': False, 'latitude': -2.636, 'longitude': -54.937, 'tourist': False, 'agricultural': False, 'base': 'cities'}, 'weather': {'id': 7706, 'name': 'Belterra', 'date': '04/09/2025', 'dayWeek': 'Quinta-feira', 'dateUpdate': '22:29:00', 'temperature': 29, 'windDirection': 0, 'windVelocity': 13, 'windDirectionDegrees': 207, 'humidity': 73, 'condition': 'Muitas nuvens', 'pressure': 0, 'icon': '2rn', 'sensation': 33, 'slugCondition': 'muitas-nuvens'}}]}]}, 'status_code': 200}\n",
      "{'data': {'getWeatherNow': [{'data': [{'locale': {'idlocale': 7704, 'idcity': 232, 'capital': True, 'idcountry': 7, 'ac': 'BR', 'country': 'Brasil', 'uf': 'PA', 'city': 'Belém', 'region': 'N', 'seaside': False, 'latitude': -1.411, 'longitude': -48.44, 'tourist': True, 'agricultural': False, 'base': 'cities'}, 'weather': {'id': 7704, 'name': 'Belém', 'date': '04/09/2025', 'dayWeek': 'Quinta-feira', 'dateUpdate': '22:29:00', 'temperature': 29, 'windDirection': 0, 'windVelocity': 3, 'windDirectionDegrees': 220, 'humidity': 79, 'condition': 'Chuvoso', 'pressure': 1012, 'icon': '5n', 'sensation': 34, 'slugCondition': 'chuvoso'}}]}]}, 'status_code': 200}\n",
      "{'data': {'getWeatherNow': [{'data': [{'locale': {'idlocale': 5926, 'idcity': 6432, 'capital': False, 'idcountry': 7, 'ac': 'BR', 'country': 'Brasil', 'uf': 'PA', 'city': 'Benevides', 'region': 'N', 'seaside': False, 'latitude': -1.361, 'longitude': -48.245, 'tourist': False, 'agricultural': False, 'base': 'cities'}, 'weather': {'id': 5926, 'name': 'Benevides', 'date': '04/09/2025', 'dayWeek': 'Quinta-feira', 'dateUpdate': '22:29:00', 'temperature': 27, 'windDirection': 0, 'windVelocity': 8, 'windDirectionDegrees': 240, 'humidity': 83, 'condition': 'Chuvoso', 'pressure': 1012, 'icon': '5n', 'sensation': 30, 'slugCondition': 'chuvoso'}}]}]}, 'status_code': 200}\n",
      "{'data': {'getWeatherNow': [{'data': [{'locale': {'idlocale': 7707, 'idcity': 6433, 'capital': False, 'idcountry': 7, 'ac': 'BR', 'country': 'Brasil', 'uf': 'PA', 'city': 'Bom Jesus do Tocantins', 'region': 'N', 'seaside': False, 'latitude': -5.051, 'longitude': -48.609, 'tourist': False, 'agricultural': False, 'base': 'cities'}, 'weather': {'id': 7707, 'name': 'Bom Jesus do Tocantins', 'date': '04/09/2025', 'dayWeek': 'Quinta-feira', 'dateUpdate': '22:29:00', 'temperature': 29, 'windDirection': 0, 'windVelocity': 3, 'windDirectionDegrees': 270, 'humidity': 62, 'condition': 'Algumas nuvens', 'pressure': 1010, 'icon': '2n', 'sensation': 32, 'slugCondition': 'algumas-nuvens'}}]}]}, 'status_code': 200}\n",
      "{'data': {'getWeatherNow': [{'data': [{'locale': {'idlocale': 5927, 'idcity': 6434, 'capital': False, 'idcountry': 7, 'ac': 'BR', 'country': 'Brasil', 'uf': 'PA', 'city': 'Bonito', 'region': 'N', 'seaside': False, 'latitude': -1.363, 'longitude': -47.306, 'tourist': False, 'agricultural': False, 'base': 'cities'}, 'weather': {'id': 5927, 'name': 'Bonito', 'date': '04/09/2025', 'dayWeek': 'Quinta-feira', 'dateUpdate': '22:29:00', 'temperature': 25, 'windDirection': 0, 'windVelocity': 7, 'windDirectionDegrees': 235, 'humidity': 81, 'condition': 'Chuvoso', 'pressure': 1012, 'icon': '5n', 'sensation': 25, 'slugCondition': 'chuvoso'}}]}]}, 'status_code': 200}\n",
      "{'data': {'getWeatherNow': [{'data': [{'locale': {'idlocale': 7708, 'idcity': 233, 'capital': False, 'idcountry': 7, 'ac': 'BR', 'country': 'Brasil', 'uf': 'PA', 'city': 'Bragança', 'region': 'N', 'seaside': True, 'latitude': -1.054, 'longitude': -46.766, 'tourist': False, 'agricultural': False, 'base': 'cities'}, 'weather': {'id': 7708, 'name': 'Bragança', 'date': '04/09/2025', 'dayWeek': 'Quinta-feira', 'dateUpdate': '22:29:00', 'temperature': 24, 'windDirection': 0, 'windVelocity': 1, 'windDirectionDegrees': 270, 'humidity': 82, 'condition': 'Nublado', 'pressure': 1014, 'icon': '3n', 'sensation': 24, 'slugCondition': 'nublado'}}]}]}, 'status_code': 200}\n",
      "{'data': {'getWeatherNow': [{'data': [{'locale': {'idlocale': 7806, 'idcity': 6435, 'capital': False, 'idcountry': 7, 'ac': 'BR', 'country': 'Brasil', 'uf': 'PA', 'city': 'Brasil Novo', 'region': 'N', 'seaside': False, 'latitude': -3.305, 'longitude': -53.536, 'tourist': False, 'agricultural': False, 'base': 'cities'}, 'weather': {'id': 7806, 'name': 'Brasil Novo', 'date': '04/09/2025', 'dayWeek': 'Quinta-feira', 'dateUpdate': '22:29:00', 'temperature': 29, 'windDirection': 0, 'windVelocity': 9, 'windDirectionDegrees': 194, 'humidity': 75, 'condition': 'Muitas nuvens', 'pressure': 0, 'icon': '2rn', 'sensation': 34, 'slugCondition': 'muitas-nuvens'}}]}]}, 'status_code': 200}\n",
      "{'data': {'getWeatherNow': [{'data': [{'locale': {'idlocale': 7807, 'idcity': 6855, 'capital': False, 'idcountry': 7, 'ac': 'BR', 'country': 'Brasil', 'uf': 'PA', 'city': 'Brejo Grande do Araguaia', 'region': 'N', 'seaside': False, 'latitude': -5.699, 'longitude': -48.413, 'tourist': False, 'agricultural': False, 'base': 'cities'}, 'weather': {'id': 7807, 'name': 'Brejo Grande do Araguaia', 'date': '04/09/2025', 'dayWeek': 'Quinta-feira', 'dateUpdate': '22:29:00', 'temperature': 31, 'windDirection': 0, 'windVelocity': 3, 'windDirectionDegrees': 360, 'humidity': 55, 'condition': 'Céu limpo', 'pressure': 1010, 'icon': '1n', 'sensation': 33, 'slugCondition': 'céu-limpo'}}]}]}, 'status_code': 200}\n",
      "{'data': {'getWeatherNow': [{'data': [{'locale': {'idlocale': 7808, 'idcity': 6436, 'capital': False, 'idcountry': 7, 'ac': 'BR', 'country': 'Brasil', 'uf': 'PA', 'city': 'Breu Branco', 'region': 'N', 'seaside': False, 'latitude': -4.068, 'longitude': -49.637, 'tourist': False, 'agricultural': False, 'base': 'cities'}, 'weather': {'id': 7808, 'name': 'Breu Branco', 'date': '04/09/2025', 'dayWeek': 'Quinta-feira', 'dateUpdate': '22:29:00', 'temperature': 29, 'windDirection': 0, 'windVelocity': 4, 'windDirectionDegrees': 227, 'humidity': 71, 'condition': 'Céu limpo', 'pressure': 1011, 'icon': '1n', 'sensation': 33, 'slugCondition': 'céu-limpo'}}]}]}, 'status_code': 200}\n",
      "{'data': {'getWeatherNow': [{'data': [{'locale': {'idlocale': 7809, 'idcity': 1193, 'capital': False, 'idcountry': 7, 'ac': 'BR', 'country': 'Brasil', 'uf': 'PA', 'city': 'Breves', 'region': 'N', 'seaside': False, 'latitude': -1.682, 'longitude': -50.48, 'tourist': False, 'agricultural': False, 'base': 'cities'}, 'weather': {'id': 7809, 'name': 'Breves', 'date': '04/09/2025', 'dayWeek': 'Quinta-feira', 'dateUpdate': '22:29:00', 'temperature': 28, 'windDirection': 0, 'windVelocity': 8, 'windDirectionDegrees': 185, 'humidity': 83, 'condition': 'Céu limpo', 'pressure': 1012, 'icon': '1n', 'sensation': 32, 'slugCondition': 'céu-limpo'}}]}]}, 'status_code': 200}\n",
      "{'data': {'getWeatherNow': [{'data': [{'locale': {'idlocale': 7810, 'idcity': 1194, 'capital': False, 'idcountry': 7, 'ac': 'BR', 'country': 'Brasil', 'uf': 'PA', 'city': 'Bujaru', 'region': 'N', 'seaside': False, 'latitude': -1.515, 'longitude': -48.045, 'tourist': False, 'agricultural': False, 'base': 'cities'}, 'weather': {'id': 7810, 'name': 'Bujaru', 'date': '04/09/2025', 'dayWeek': 'Quinta-feira', 'dateUpdate': '22:29:00', 'temperature': 26, 'windDirection': 0, 'windVelocity': 0, 'windDirectionDegrees': 71, 'humidity': 82, 'condition': 'Muitas nuvens', 'pressure': 1012, 'icon': '2rn', 'sensation': 28, 'slugCondition': 'muitas-nuvens'}}]}]}, 'status_code': 200}\n",
      "{'data': {'getWeatherNow': [{'data': [{'locale': {'idlocale': 7811, 'idcity': 6437, 'capital': False, 'idcountry': 7, 'ac': 'BR', 'country': 'Brasil', 'uf': 'PA', 'city': 'Cachoeira do Arari', 'region': 'N', 'seaside': False, 'latitude': -1.011, 'longitude': -48.963, 'tourist': False, 'agricultural': False, 'base': 'cities'}, 'weather': {'id': 7811, 'name': 'Cachoeira do Arari', 'date': '04/09/2025', 'dayWeek': 'Quinta-feira', 'dateUpdate': '22:29:00', 'temperature': 28, 'windDirection': 0, 'windVelocity': 8, 'windDirectionDegrees': 236, 'humidity': 84, 'condition': 'Muitas nuvens', 'pressure': 1012, 'icon': '2rn', 'sensation': 32, 'slugCondition': 'muitas-nuvens'}}]}]}, 'status_code': 200}\n",
      "{'data': {'getWeatherNow': [{'data': [{'locale': {'idlocale': 9120, 'idcity': 6438, 'capital': False, 'idcountry': 7, 'ac': 'BR', 'country': 'Brasil', 'uf': 'PA', 'city': 'Cachoeira do Piriá', 'region': 'N', 'seaside': False, 'latitude': -1.76, 'longitude': -46.545, 'tourist': False, 'agricultural': False, 'base': 'cities'}, 'weather': {'id': 9120, 'name': 'Cachoeira do Piriá', 'date': '04/09/2025', 'dayWeek': 'Quinta-feira', 'dateUpdate': '22:29:00', 'temperature': 25, 'windDirection': 0, 'windVelocity': 8, 'windDirectionDegrees': 222, 'humidity': 80, 'condition': 'Muitas nuvens', 'pressure': 1012, 'icon': '2rn', 'sensation': 25, 'slugCondition': 'muitas-nuvens'}}]}]}, 'status_code': 200}\n",
      "{'data': {'getWeatherNow': [{'data': [{'locale': {'idlocale': 9121, 'idcity': 1195, 'capital': False, 'idcountry': 7, 'ac': 'BR', 'country': 'Brasil', 'uf': 'PA', 'city': 'Cametá', 'region': 'N', 'seaside': False, 'latitude': -2.244, 'longitude': -49.496, 'tourist': False, 'agricultural': False, 'base': 'cities'}, 'weather': {'id': 9121, 'name': 'Cametá', 'date': '04/09/2025', 'dayWeek': 'Quinta-feira', 'dateUpdate': '22:29:00', 'temperature': 29, 'windDirection': 0, 'windVelocity': 8, 'windDirectionDegrees': 225, 'humidity': 81, 'condition': 'Céu limpo', 'pressure': 1012, 'icon': '1n', 'sensation': 34, 'slugCondition': 'céu-limpo'}}]}]}, 'status_code': 200}\n",
      "{'data': {'getWeatherNow': [{'data': [{'locale': {'idlocale': 9122, 'idcity': 6439, 'capital': False, 'idcountry': 7, 'ac': 'BR', 'country': 'Brasil', 'uf': 'PA', 'city': 'Canaã dos Carajás', 'region': 'N', 'seaside': False, 'latitude': -6.497, 'longitude': -49.878, 'tourist': False, 'agricultural': False, 'base': 'cities'}, 'weather': {'id': 9122, 'name': 'Canaã dos Carajás', 'date': '04/09/2025', 'dayWeek': 'Quinta-feira', 'dateUpdate': '22:29:00', 'temperature': 26, 'windDirection': 0, 'windVelocity': 2, 'windDirectionDegrees': 180, 'humidity': 47, 'condition': 'Céu limpo', 'pressure': 1010, 'icon': '1n', 'sensation': 27, 'slugCondition': 'céu-limpo'}}]}]}, 'status_code': 200}\n",
      "{'data': {'getWeatherNow': [{'data': [{'locale': {'idlocale': 9123, 'idcity': 234, 'capital': False, 'idcountry': 7, 'ac': 'BR', 'country': 'Brasil', 'uf': 'PA', 'city': 'Capanema', 'region': 'N', 'seaside': False, 'latitude': -1.196, 'longitude': -47.181, 'tourist': False, 'agricultural': False, 'base': 'cities'}, 'weather': {'id': 9123, 'name': 'Capanema', 'date': '04/09/2025', 'dayWeek': 'Quinta-feira', 'dateUpdate': '22:29:00', 'temperature': 25, 'windDirection': 0, 'windVelocity': 8, 'windDirectionDegrees': 235, 'humidity': 82, 'condition': 'Nublado', 'pressure': 1012, 'icon': '3n', 'sensation': 25, 'slugCondition': 'nublado'}}]}]}, 'status_code': 200}\n",
      "{'data': {'getWeatherNow': [{'data': [{'locale': {'idlocale': 9124, 'idcity': 1196, 'capital': False, 'idcountry': 7, 'ac': 'BR', 'country': 'Brasil', 'uf': 'PA', 'city': 'Capitão Poço', 'region': 'N', 'seaside': False, 'latitude': -1.746, 'longitude': -47.059, 'tourist': False, 'agricultural': False, 'base': 'cities'}, 'weather': {'id': 9124, 'name': 'Capitão Poço', 'date': '04/09/2025', 'dayWeek': 'Quinta-feira', 'dateUpdate': '22:29:00', 'temperature': 24, 'windDirection': 0, 'windVelocity': 6, 'windDirectionDegrees': 100, 'humidity': 84, 'condition': 'Muitas nuvens', 'pressure': 1012, 'icon': '2rn', 'sensation': 24, 'slugCondition': 'muitas-nuvens'}}]}]}, 'status_code': 200}\n",
      "{'data': {'getWeatherNow': [{'data': [{'locale': {'idlocale': 6032, 'idcity': 6575, 'capital': False, 'idcountry': 7, 'ac': 'BR', 'country': 'Brasil', 'uf': 'PA', 'city': 'Carajás', 'region': 'N', 'seaside': False, 'latitude': -2.95, 'longitude': -51.867, 'tourist': False, 'agricultural': False, 'base': 'cities'}, 'weather': {'id': 6032, 'name': 'Carajás', 'date': '04/09/2025', 'dayWeek': 'Quinta-feira', 'dateUpdate': '22:29:00', 'temperature': 29, 'windDirection': 0, 'windVelocity': 6, 'windDirectionDegrees': 175, 'humidity': 81, 'condition': 'Céu limpo', 'pressure': 0, 'icon': '1n', 'sensation': 35, 'slugCondition': 'céu-limpo'}}]}]}, 'status_code': 200}\n",
      "{'data': {'getWeatherNow': [{'data': [{'locale': {'idlocale': 9125, 'idcity': 235, 'capital': False, 'idcountry': 7, 'ac': 'BR', 'country': 'Brasil', 'uf': 'PA', 'city': 'Castanhal', 'region': 'N', 'seaside': False, 'latitude': -1.294, 'longitude': -47.926, 'tourist': False, 'agricultural': False, 'base': 'cities'}, 'weather': {'id': 9125, 'name': 'Castanhal', 'date': '04/09/2025', 'dayWeek': 'Quinta-feira', 'dateUpdate': '22:29:00', 'temperature': 25, 'windDirection': 0, 'windVelocity': 7, 'windDirectionDegrees': 330, 'humidity': 89, 'condition': 'Chuva e trovoadas', 'pressure': 1012, 'icon': '6n', 'sensation': 25, 'slugCondition': 'chuva-e-trovoadas'}}]}]}, 'status_code': 200}\n",
      "{'data': {'getWeatherNow': [{'data': [{'locale': {'idlocale': 9126, 'idcity': 6440, 'capital': False, 'idcountry': 7, 'ac': 'BR', 'country': 'Brasil', 'uf': 'PA', 'city': 'Chaves', 'region': 'N', 'seaside': True, 'latitude': -0.16, 'longitude': -49.988, 'tourist': False, 'agricultural': False, 'base': 'cities'}, 'weather': {'id': 9126, 'name': 'Chaves', 'date': '04/09/2025', 'dayWeek': 'Quinta-feira', 'dateUpdate': '22:29:00', 'temperature': 27, 'windDirection': 0, 'windVelocity': 10, 'windDirectionDegrees': 180, 'humidity': 85, 'condition': 'Nublado', 'pressure': 1012, 'icon': '3n', 'sensation': 31, 'slugCondition': 'nublado'}}]}]}, 'status_code': 200}\n",
      "{'data': {'getWeatherNow': [{'data': [{'locale': {'idlocale': 9127, 'idcity': 6441, 'capital': False, 'idcountry': 7, 'ac': 'BR', 'country': 'Brasil', 'uf': 'PA', 'city': 'Colares', 'region': 'N', 'seaside': False, 'latitude': -0.937, 'longitude': -48.282, 'tourist': False, 'agricultural': False, 'base': 'cities'}, 'weather': {'id': 9127, 'name': 'Colares', 'date': '04/09/2025', 'dayWeek': 'Quinta-feira', 'dateUpdate': '22:29:00', 'temperature': 27, 'windDirection': 0, 'windVelocity': 9, 'windDirectionDegrees': 244, 'humidity': 84, 'condition': 'Chuva e trovoadas', 'pressure': 1012, 'icon': '6n', 'sensation': 31, 'slugCondition': 'chuva-e-trovoadas'}}]}]}, 'status_code': 200}\n",
      "{'data': {'getWeatherNow': [{'data': [{'locale': {'idlocale': 9128, 'idcity': 236, 'capital': False, 'idcountry': 7, 'ac': 'BR', 'country': 'Brasil', 'uf': 'PA', 'city': 'Conceição do Araguaia', 'region': 'N', 'seaside': False, 'latitude': -8.258, 'longitude': -49.265, 'tourist': False, 'agricultural': False, 'base': 'cities'}, 'weather': {'id': 9128, 'name': 'Conceição do Araguaia', 'date': '04/09/2025', 'dayWeek': 'Quinta-feira', 'dateUpdate': '22:29:00', 'temperature': 28, 'windDirection': 0, 'windVelocity': 3, 'windDirectionDegrees': 150, 'humidity': 46, 'condition': 'Céu limpo', 'pressure': 1011, 'icon': '1n', 'sensation': 28, 'slugCondition': 'céu-limpo'}}]}]}, 'status_code': 200}\n",
      "{'data': {'getWeatherNow': [{'data': [{'locale': {'idlocale': 9129, 'idcity': 6442, 'capital': False, 'idcountry': 7, 'ac': 'BR', 'country': 'Brasil', 'uf': 'PA', 'city': 'Concórdia do Pará', 'region': 'N', 'seaside': False, 'latitude': -2.002, 'longitude': -47.95, 'tourist': False, 'agricultural': False, 'base': 'cities'}, 'weather': {'id': 9129, 'name': 'Concórdia do Pará', 'date': '04/09/2025', 'dayWeek': 'Quinta-feira', 'dateUpdate': '22:29:00', 'temperature': 26, 'windDirection': 0, 'windVelocity': 7, 'windDirectionDegrees': 235, 'humidity': 80, 'condition': 'Muitas nuvens', 'pressure': 1012, 'icon': '2rn', 'sensation': 28, 'slugCondition': 'muitas-nuvens'}}]}]}, 'status_code': 200}\n",
      "{'data': {'getWeatherNow': [{'data': [{'locale': {'idlocale': 9130, 'idcity': 6443, 'capital': False, 'idcountry': 7, 'ac': 'BR', 'country': 'Brasil', 'uf': 'PA', 'city': 'Cumaru do Norte', 'region': 'N', 'seaside': False, 'latitude': -7.825, 'longitude': -50.773, 'tourist': False, 'agricultural': False, 'base': 'cities'}, 'weather': {'id': 9130, 'name': 'Cumaru do Norte', 'date': '04/09/2025', 'dayWeek': 'Quinta-feira', 'dateUpdate': '22:29:00', 'temperature': 29, 'windDirection': 0, 'windVelocity': 3, 'windDirectionDegrees': 56, 'humidity': 52, 'condition': 'Céu limpo', 'pressure': 1009, 'icon': '1n', 'sensation': 29, 'slugCondition': 'céu-limpo'}}]}]}, 'status_code': 200}\n",
      "{'data': {'getWeatherNow': [{'data': [{'locale': {'idlocale': 4034, 'idcity': 4989, 'capital': False, 'idcountry': 7, 'ac': 'BR', 'country': 'Brasil', 'uf': 'PA', 'city': 'Curionópolis', 'region': 'N', 'seaside': False, 'latitude': -6.102, 'longitude': -49.598, 'tourist': False, 'agricultural': False, 'base': 'cities'}, 'weather': {'id': 4034, 'name': 'Curionópolis', 'date': '04/09/2025', 'dayWeek': 'Quinta-feira', 'dateUpdate': '22:29:00', 'temperature': 26, 'windDirection': 0, 'windVelocity': 2, 'windDirectionDegrees': 180, 'humidity': 55, 'condition': 'Céu limpo', 'pressure': 1010, 'icon': '1n', 'sensation': 26, 'slugCondition': 'céu-limpo'}}]}]}, 'status_code': 200}\n",
      "{'data': {'getWeatherNow': [{'data': [{'locale': {'idlocale': 9131, 'idcity': 6444, 'capital': False, 'idcountry': 7, 'ac': 'BR', 'country': 'Brasil', 'uf': 'PA', 'city': 'Curralinho', 'region': 'N', 'seaside': False, 'latitude': -1.814, 'longitude': -49.795, 'tourist': False, 'agricultural': False, 'base': 'cities'}, 'weather': {'id': 9131, 'name': 'Curralinho', 'date': '04/09/2025', 'dayWeek': 'Quinta-feira', 'dateUpdate': '22:29:00', 'temperature': 28, 'windDirection': 0, 'windVelocity': 9, 'windDirectionDegrees': 214, 'humidity': 82, 'condition': 'Céu limpo', 'pressure': 1012, 'icon': '1n', 'sensation': 33, 'slugCondition': 'céu-limpo'}}]}]}, 'status_code': 200}\n",
      "{'data': {'getWeatherNow': [{'data': [{'locale': {'idlocale': 9132, 'idcity': 6445, 'capital': False, 'idcountry': 7, 'ac': 'BR', 'country': 'Brasil', 'uf': 'PA', 'city': 'Curuá', 'region': 'N', 'seaside': False, 'latitude': -1.888, 'longitude': -55.117, 'tourist': False, 'agricultural': False, 'base': 'cities'}, 'weather': {'id': 9132, 'name': 'Curuá', 'date': '04/09/2025', 'dayWeek': 'Quinta-feira', 'dateUpdate': '22:29:00', 'temperature': 29, 'windDirection': 0, 'windVelocity': 14, 'windDirectionDegrees': 205, 'humidity': 74, 'condition': 'Muitas nuvens', 'pressure': 0, 'icon': '2rn', 'sensation': 32, 'slugCondition': 'muitas-nuvens'}}]}]}, 'status_code': 200}\n",
      "{'data': {'getWeatherNow': [{'data': [{'locale': {'idlocale': 9133, 'idcity': 237, 'capital': False, 'idcountry': 7, 'ac': 'BR', 'country': 'Brasil', 'uf': 'PA', 'city': 'Curuçá', 'region': 'N', 'seaside': True, 'latitude': -0.729, 'longitude': -47.848, 'tourist': False, 'agricultural': False, 'base': 'cities'}, 'weather': {'id': 9133, 'name': 'Curuçá', 'date': '04/09/2025', 'dayWeek': 'Quinta-feira', 'dateUpdate': '22:29:00', 'temperature': 27, 'windDirection': 0, 'windVelocity': 8, 'windDirectionDegrees': 243, 'humidity': 84, 'condition': 'Nublado', 'pressure': 1012, 'icon': '3n', 'sensation': 29, 'slugCondition': 'nublado'}}]}]}, 'status_code': 200}\n",
      "{'data': {'getWeatherNow': [{'data': [{'locale': {'idlocale': 3951, 'idcity': 4872, 'capital': False, 'idcountry': 7, 'ac': 'BR', 'country': 'Brasil', 'uf': 'PA', 'city': 'Dom Eliseu', 'region': 'N', 'seaside': False, 'latitude': -4.285, 'longitude': -47.505, 'tourist': False, 'agricultural': False, 'base': 'cities'}, 'weather': {'id': 3951, 'name': 'Dom Eliseu', 'date': '04/09/2025', 'dayWeek': 'Quinta-feira', 'dateUpdate': '22:29:00', 'temperature': 30, 'windDirection': 0, 'windVelocity': 5, 'windDirectionDegrees': 218, 'humidity': 67, 'condition': 'Céu limpo', 'pressure': 1010, 'icon': '1n', 'sensation': 34, 'slugCondition': 'céu-limpo'}}]}]}, 'status_code': 200}\n",
      "{'data': {'getWeatherNow': [{'data': [{'locale': {'idlocale': 9134, 'idcity': 1557, 'capital': False, 'idcountry': 7, 'ac': 'BR', 'country': 'Brasil', 'uf': 'PA', 'city': 'Eldorado dos Carajás', 'region': 'N', 'seaside': False, 'latitude': -6.104, 'longitude': -49.355, 'tourist': False, 'agricultural': False, 'base': 'cities'}, 'weather': {'id': 9134, 'name': 'Eldorado dos Carajás', 'date': '04/09/2025', 'dayWeek': 'Quinta-feira', 'dateUpdate': '22:29:00', 'temperature': 27, 'windDirection': 0, 'windVelocity': 3, 'windDirectionDegrees': 90, 'humidity': 57, 'condition': 'Céu limpo', 'pressure': 1010, 'icon': '1n', 'sensation': 28, 'slugCondition': 'céu-limpo'}}]}]}, 'status_code': 200}\n",
      "{'data': {'getWeatherNow': [{'data': [{'locale': {'idlocale': 7444, 'idcity': 6446, 'capital': False, 'idcountry': 7, 'ac': 'BR', 'country': 'Brasil', 'uf': 'PA', 'city': 'Faro', 'region': 'N', 'seaside': False, 'latitude': -2.171, 'longitude': -56.745, 'tourist': False, 'agricultural': False, 'base': 'cities'}, 'weather': {'id': 7444, 'name': 'Faro', 'date': '04/09/2025', 'dayWeek': 'Quinta-feira', 'dateUpdate': '22:29:00', 'temperature': 27, 'windDirection': 0, 'windVelocity': 14, 'windDirectionDegrees': 198, 'humidity': 78, 'condition': 'Muitas nuvens', 'pressure': 0, 'icon': '2rn', 'sensation': 30, 'slugCondition': 'muitas-nuvens'}}]}]}, 'status_code': 200}\n",
      "{'data': {'getWeatherNow': [{'data': [{'locale': {'idlocale': 7445, 'idcity': 5262, 'capital': False, 'idcountry': 7, 'ac': 'BR', 'country': 'Brasil', 'uf': 'PA', 'city': 'Floresta do Araguaia', 'region': 'N', 'seaside': False, 'latitude': -7.554, 'longitude': -49.713, 'tourist': False, 'agricultural': False, 'base': 'cities'}, 'weather': {'id': 7445, 'name': 'Floresta do Araguaia', 'date': '04/09/2025', 'dayWeek': 'Quinta-feira', 'dateUpdate': '22:12:00', 'temperature': 35, 'windDirection': 0, 'windVelocity': 0, 'windDirectionDegrees': 109, 'humidity': 52, 'condition': 'Céu limpo', 'pressure': 1011, 'icon': '1n', 'sensation': 35, 'slugCondition': 'céu-limpo'}}]}]}, 'status_code': 200}\n",
      "{'data': {'getWeatherNow': [{'data': [{'locale': {'idlocale': 7446, 'idcity': 6447, 'capital': False, 'idcountry': 7, 'ac': 'BR', 'country': 'Brasil', 'uf': 'PA', 'city': 'Garrafão do Norte', 'region': 'N', 'seaside': False, 'latitude': -1.934, 'longitude': -47.052, 'tourist': False, 'agricultural': False, 'base': 'cities'}, 'weather': {'id': 7446, 'name': 'Garrafão do Norte', 'date': '04/09/2025', 'dayWeek': 'Quinta-feira', 'dateUpdate': '22:29:00', 'temperature': 25, 'windDirection': 0, 'windVelocity': 7, 'windDirectionDegrees': 228, 'humidity': 79, 'condition': 'Muitas nuvens', 'pressure': 1012, 'icon': '2rn', 'sensation': 25, 'slugCondition': 'muitas-nuvens'}}]}]}, 'status_code': 200}\n",
      "{'data': {'getWeatherNow': [{'data': [{'locale': {'idlocale': 4194, 'idcity': 5194, 'capital': False, 'idcountry': 7, 'ac': 'BR', 'country': 'Brasil', 'uf': 'PA', 'city': 'Goianésia do Pará', 'region': 'N', 'seaside': False, 'latitude': -3.843, 'longitude': -49.097, 'tourist': False, 'agricultural': False, 'base': 'cities'}, 'weather': {'id': 4194, 'name': 'Goianésia do Pará', 'date': '04/09/2025', 'dayWeek': 'Quinta-feira', 'dateUpdate': '22:29:00', 'temperature': 29, 'windDirection': 0, 'windVelocity': 4, 'windDirectionDegrees': 237, 'humidity': 71, 'condition': 'Céu limpo', 'pressure': 1011, 'icon': '1n', 'sensation': 32, 'slugCondition': 'céu-limpo'}}]}]}, 'status_code': 200}\n",
      "{'data': {'getWeatherNow': [{'data': [{'locale': {'idlocale': 7447, 'idcity': 238, 'capital': False, 'idcountry': 7, 'ac': 'BR', 'country': 'Brasil', 'uf': 'PA', 'city': 'Gurupá', 'region': 'N', 'seaside': False, 'latitude': -1.405, 'longitude': -51.64, 'tourist': False, 'agricultural': False, 'base': 'cities'}, 'weather': {'id': 7447, 'name': 'Gurupá', 'date': '04/09/2025', 'dayWeek': 'Quinta-feira', 'dateUpdate': '22:29:00', 'temperature': 28, 'windDirection': 0, 'windVelocity': 10, 'windDirectionDegrees': 134, 'humidity': 85, 'condition': 'Chuvoso', 'pressure': 1012, 'icon': '5n', 'sensation': 32, 'slugCondition': 'chuvoso'}}]}]}, 'status_code': 200}\n",
      "{'data': {'getWeatherNow': [{'data': [{'locale': {'idlocale': 6351, 'idcity': 760, 'capital': False, 'idcountry': 7, 'ac': 'BR', 'country': 'Brasil', 'uf': 'PA', 'city': 'Icoaraci', 'region': 'N', 'seaside': False, 'latitude': -1.302, 'longitude': -48.485, 'tourist': False, 'agricultural': False, 'base': 'cities'}, 'weather': {'id': 6351, 'name': 'Icoaraci', 'date': '04/09/2025', 'dayWeek': 'Quinta-feira', 'dateUpdate': '22:29:00', 'temperature': 28, 'windDirection': 0, 'windVelocity': 8, 'windDirectionDegrees': 242, 'humidity': 83, 'condition': 'Chuvoso', 'pressure': 1012, 'icon': '5n', 'sensation': 33, 'slugCondition': 'chuvoso'}}]}]}, 'status_code': 200}\n",
      "{'data': {'getWeatherNow': [{'data': [{'locale': {'idlocale': 7448, 'idcity': 239, 'capital': False, 'idcountry': 7, 'ac': 'BR', 'country': 'Brasil', 'uf': 'PA', 'city': 'Igarapé-Açu', 'region': 'N', 'seaside': False, 'latitude': -1.129, 'longitude': -47.62, 'tourist': False, 'agricultural': False, 'base': 'cities'}, 'weather': {'id': 7448, 'name': 'Igarapé-Açu', 'date': '04/09/2025', 'dayWeek': 'Quinta-feira', 'dateUpdate': '22:29:00', 'temperature': 25, 'windDirection': 0, 'windVelocity': 8, 'windDirectionDegrees': 238, 'humidity': 83, 'condition': 'Chuvoso', 'pressure': 1012, 'icon': '5n', 'sensation': 25, 'slugCondition': 'chuvoso'}}]}]}, 'status_code': 200}\n",
      "{'data': {'getWeatherNow': [{'data': [{'locale': {'idlocale': 7449, 'idcity': 1199, 'capital': False, 'idcountry': 7, 'ac': 'BR', 'country': 'Brasil', 'uf': 'PA', 'city': 'Igarapé-Miri', 'region': 'N', 'seaside': False, 'latitude': -1.975, 'longitude': -48.96, 'tourist': False, 'agricultural': False, 'base': 'cities'}, 'weather': {'id': 7449, 'name': 'Igarapé-Miri', 'date': '04/09/2025', 'dayWeek': 'Quinta-feira', 'dateUpdate': '22:29:00', 'temperature': 29, 'windDirection': 0, 'windVelocity': 7, 'windDirectionDegrees': 234, 'humidity': 81, 'condition': 'Céu limpo', 'pressure': 1012, 'icon': '1n', 'sensation': 34, 'slugCondition': 'céu-limpo'}}]}]}, 'status_code': 200}\n",
      "{'data': {'getWeatherNow': [{'data': [{'locale': {'idlocale': 4074, 'idcity': 5031, 'capital': False, 'idcountry': 7, 'ac': 'BR', 'country': 'Brasil', 'uf': 'PA', 'city': 'Ilha de Marajó', 'region': 'N', 'seaside': False, 'latitude': -0.983, 'longitude': -49.95, 'tourist': True, 'agricultural': False, 'base': 'cities'}, 'weather': {'id': 4074, 'name': 'Ilha de Marajó', 'date': '04/09/2025', 'dayWeek': 'Quinta-feira', 'dateUpdate': '22:29:00', 'temperature': 28, 'windDirection': 0, 'windVelocity': 9, 'windDirectionDegrees': 203, 'humidity': 85, 'condition': 'Muitas nuvens', 'pressure': 1012, 'icon': '2rn', 'sensation': 31, 'slugCondition': 'muitas-nuvens'}}]}]}, 'status_code': 200}\n",
      "{'data': {'getWeatherNow': [{'data': [{'locale': {'idlocale': 7450, 'idcity': 6448, 'capital': False, 'idcountry': 7, 'ac': 'BR', 'country': 'Brasil', 'uf': 'PA', 'city': 'Inhangapi', 'region': 'N', 'seaside': False, 'latitude': -1.43, 'longitude': -47.92, 'tourist': False, 'agricultural': False, 'base': 'cities'}, 'weather': {'id': 7450, 'name': 'Inhangapi', 'date': '04/09/2025', 'dayWeek': 'Quinta-feira', 'dateUpdate': '22:29:00', 'temperature': 25, 'windDirection': 0, 'windVelocity': 8, 'windDirectionDegrees': 239, 'humidity': 82, 'condition': 'Chuva e trovoadas', 'pressure': 1012, 'icon': '6n', 'sensation': 25, 'slugCondition': 'chuva-e-trovoadas'}}]}]}, 'status_code': 200}\n",
      "{'data': {'getWeatherNow': [{'data': [{'locale': {'idlocale': 7451, 'idcity': 6449, 'capital': False, 'idcountry': 7, 'ac': 'BR', 'country': 'Brasil', 'uf': 'PA', 'city': 'Ipixuna do Pará', 'region': 'N', 'seaside': False, 'latitude': -2.558, 'longitude': -47.495, 'tourist': False, 'agricultural': False, 'base': 'cities'}, 'weather': {'id': 7451, 'name': 'Ipixuna do Pará', 'date': '04/09/2025', 'dayWeek': 'Quinta-feira', 'dateUpdate': '22:29:00', 'temperature': 26, 'windDirection': 0, 'windVelocity': 6, 'windDirectionDegrees': 228, 'humidity': 76, 'condition': 'Céu limpo', 'pressure': 1012, 'icon': '1n', 'sensation': 28, 'slugCondition': 'céu-limpo'}}]}]}, 'status_code': 200}\n",
      "{'data': {'getWeatherNow': [{'data': [{'locale': {'idlocale': 7452, 'idcity': 1200, 'capital': False, 'idcountry': 7, 'ac': 'BR', 'country': 'Brasil', 'uf': 'PA', 'city': 'Irituia', 'region': 'N', 'seaside': False, 'latitude': -1.771, 'longitude': -47.438, 'tourist': False, 'agricultural': False, 'base': 'cities'}, 'weather': {'id': 7452, 'name': 'Irituia', 'date': '04/09/2025', 'dayWeek': 'Quinta-feira', 'dateUpdate': '22:29:00', 'temperature': 25, 'windDirection': 0, 'windVelocity': 7, 'windDirectionDegrees': 233, 'humidity': 80, 'condition': 'Chuvoso', 'pressure': 1012, 'icon': '5n', 'sensation': 25, 'slugCondition': 'chuvoso'}}]}]}, 'status_code': 200}\n",
      "{'data': {'getWeatherNow': [{'data': [{'locale': {'idlocale': 7453, 'idcity': 240, 'capital': False, 'idcountry': 7, 'ac': 'BR', 'country': 'Brasil', 'uf': 'PA', 'city': 'Itaituba', 'region': 'N', 'seaside': False, 'latitude': -4.276, 'longitude': -55.984, 'tourist': False, 'agricultural': False, 'base': 'cities'}, 'weather': {'id': 7453, 'name': 'Itaituba', 'date': '04/09/2025', 'dayWeek': 'Quinta-feira', 'dateUpdate': '22:29:00', 'temperature': 29, 'windDirection': 0, 'windVelocity': 7, 'windDirectionDegrees': 280, 'humidity': 70, 'condition': 'Chuvoso', 'pressure': 0, 'icon': '5n', 'sensation': 33, 'slugCondition': 'chuvoso'}}]}]}, 'status_code': 200}\n",
      "{'data': {'getWeatherNow': [{'data': [{'locale': {'idlocale': 7454, 'idcity': 5547, 'capital': False, 'idcountry': 7, 'ac': 'BR', 'country': 'Brasil', 'uf': 'PA', 'city': 'Itupiranga', 'region': 'N', 'seaside': False, 'latitude': -5.135, 'longitude': -49.327, 'tourist': False, 'agricultural': False, 'base': 'cities'}, 'weather': {'id': 7454, 'name': 'Itupiranga', 'date': '04/09/2025', 'dayWeek': 'Quinta-feira', 'dateUpdate': '22:29:00', 'temperature': 29, 'windDirection': 0, 'windVelocity': 3, 'windDirectionDegrees': 219, 'humidity': 65, 'condition': 'Céu limpo', 'pressure': 1010, 'icon': '1n', 'sensation': 32, 'slugCondition': 'céu-limpo'}}]}]}, 'status_code': 200}\n",
      "{'data': {'getWeatherNow': [{'data': [{'locale': {'idlocale': 7455, 'idcity': 241, 'capital': False, 'idcountry': 7, 'ac': 'BR', 'country': 'Brasil', 'uf': 'PA', 'city': 'Jacareacanga', 'region': 'N', 'seaside': False, 'latitude': -6.222, 'longitude': -57.753, 'tourist': False, 'agricultural': False, 'base': 'cities'}, 'weather': {'id': 7455, 'name': 'Jacareacanga', 'date': '04/09/2025', 'dayWeek': 'Quinta-feira', 'dateUpdate': '22:29:00', 'temperature': 29, 'windDirection': 0, 'windVelocity': 7, 'windDirectionDegrees': 90, 'humidity': 77, 'condition': 'Nublado', 'pressure': 0, 'icon': '3n', 'sensation': 34, 'slugCondition': 'nublado'}}]}]}, 'status_code': 200}\n",
      "{'data': {'getWeatherNow': [{'data': [{'locale': {'idlocale': 4195, 'idcity': 5195, 'capital': False, 'idcountry': 7, 'ac': 'BR', 'country': 'Brasil', 'uf': 'PA', 'city': 'Jacundá', 'region': 'N', 'seaside': False, 'latitude': -4.451, 'longitude': -49.116, 'tourist': False, 'agricultural': False, 'base': 'cities'}, 'weather': {'id': 4195, 'name': 'Jacundá', 'date': '04/09/2025', 'dayWeek': 'Quinta-feira', 'dateUpdate': '22:29:00', 'temperature': 29, 'windDirection': 0, 'windVelocity': 3, 'windDirectionDegrees': 233, 'humidity': 66, 'condition': 'Céu limpo', 'pressure': 1011, 'icon': '1n', 'sensation': 31, 'slugCondition': 'céu-limpo'}}]}]}, 'status_code': 200}\n",
      "{'data': {'getWeatherNow': [{'data': [{'locale': {'idlocale': 7456, 'idcity': 242, 'capital': False, 'idcountry': 7, 'ac': 'BR', 'country': 'Brasil', 'uf': 'PA', 'city': 'Juruti', 'region': 'N', 'seaside': False, 'latitude': -2.152, 'longitude': -56.092, 'tourist': False, 'agricultural': False, 'base': 'cities'}, 'weather': {'id': 7456, 'name': 'Juruti', 'date': '04/09/2025', 'dayWeek': 'Quinta-feira', 'dateUpdate': '22:29:00', 'temperature': 28, 'windDirection': 0, 'windVelocity': 17, 'windDirectionDegrees': 204, 'humidity': 77, 'condition': 'Chuvoso', 'pressure': 0, 'icon': '5n', 'sensation': 32, 'slugCondition': 'chuvoso'}}]}]}, 'status_code': 200}\n",
      "{'data': {'getWeatherNow': [{'data': [{'locale': {'idlocale': 7457, 'idcity': 6450, 'capital': False, 'idcountry': 7, 'ac': 'BR', 'country': 'Brasil', 'uf': 'PA', 'city': 'Limoeiro do Ajuru', 'region': 'N', 'seaside': False, 'latitude': -1.895, 'longitude': -49.381, 'tourist': False, 'agricultural': False, 'base': 'cities'}, 'weather': {'id': 7457, 'name': 'Limoeiro do Ajuru', 'date': '04/09/2025', 'dayWeek': 'Quinta-feira', 'dateUpdate': '22:29:00', 'temperature': 29, 'windDirection': 0, 'windVelocity': 9, 'windDirectionDegrees': 227, 'humidity': 82, 'condition': 'Céu limpo', 'pressure': 1012, 'icon': '1n', 'sensation': 34, 'slugCondition': 'céu-limpo'}}]}]}, 'status_code': 200}\n",
      "{'data': {'getWeatherNow': [{'data': [{'locale': {'idlocale': 7459, 'idcity': 6451, 'capital': False, 'idcountry': 7, 'ac': 'BR', 'country': 'Brasil', 'uf': 'PA', 'city': 'Magalhães Barata', 'region': 'N', 'seaside': True, 'latitude': -0.794, 'longitude': -47.599, 'tourist': False, 'agricultural': False, 'base': 'cities'}, 'weather': {'id': 7459, 'name': 'Magalhães Barata', 'date': '04/09/2025', 'dayWeek': 'Quinta-feira', 'dateUpdate': '22:29:00', 'temperature': 26, 'windDirection': 0, 'windVelocity': 8, 'windDirectionDegrees': 241, 'humidity': 84, 'condition': 'Chuvoso', 'pressure': 1012, 'icon': '5n', 'sensation': 28, 'slugCondition': 'chuvoso'}}]}]}, 'status_code': 200}\n",
      "{'data': {'getWeatherNow': [{'data': [{'locale': {'idlocale': 7460, 'idcity': 1201, 'capital': False, 'idcountry': 7, 'ac': 'BR', 'country': 'Brasil', 'uf': 'PA', 'city': 'Marabá', 'region': 'N', 'seaside': False, 'latitude': -5.369, 'longitude': -49.118, 'tourist': False, 'agricultural': False, 'base': 'cities'}, 'weather': {'id': 7460, 'name': 'Marabá', 'date': '04/09/2025', 'dayWeek': 'Quinta-feira', 'dateUpdate': '22:29:00', 'temperature': 29, 'windDirection': 0, 'windVelocity': 3, 'windDirectionDegrees': 180, 'humidity': 62, 'condition': 'Céu limpo', 'pressure': 1010, 'icon': '1n', 'sensation': 32, 'slugCondition': 'céu-limpo'}}]}]}, 'status_code': 200}\n",
      "{'data': {'getWeatherNow': [{'data': [{'locale': {'idlocale': 7461, 'idcity': 6452, 'capital': False, 'idcountry': 7, 'ac': 'BR', 'country': 'Brasil', 'uf': 'PA', 'city': 'Maracanã', 'region': 'N', 'seaside': True, 'latitude': -0.595, 'longitude': -47.582, 'tourist': False, 'agricultural': False, 'base': 'cities'}, 'weather': {'id': 7461, 'name': 'Maracanã', 'date': '04/09/2025', 'dayWeek': 'Quinta-feira', 'dateUpdate': '22:29:00', 'temperature': 26, 'windDirection': 0, 'windVelocity': 9, 'windDirectionDegrees': 242, 'humidity': 84, 'condition': 'Muitas nuvens', 'pressure': 1012, 'icon': '2rn', 'sensation': 28, 'slugCondition': 'muitas-nuvens'}}]}]}, 'status_code': 200}\n",
      "{'data': {'getWeatherNow': [{'data': [{'locale': {'idlocale': 7462, 'idcity': 6453, 'capital': False, 'idcountry': 7, 'ac': 'BR', 'country': 'Brasil', 'uf': 'PA', 'city': 'Marapanim', 'region': 'N', 'seaside': True, 'latitude': -0.718, 'longitude': -47.7, 'tourist': False, 'agricultural': False, 'base': 'cities'}, 'weather': {'id': 7462, 'name': 'Marapanim', 'date': '04/09/2025', 'dayWeek': 'Quinta-feira', 'dateUpdate': '22:29:00', 'temperature': 27, 'windDirection': 0, 'windVelocity': 8, 'windDirectionDegrees': 242, 'humidity': 84, 'condition': 'Chuvoso', 'pressure': 1012, 'icon': '5n', 'sensation': 29, 'slugCondition': 'chuvoso'}}]}]}, 'status_code': 200}\n",
      "{'data': {'getWeatherNow': [{'data': [{'locale': {'idlocale': 7463, 'idcity': 6895, 'capital': False, 'idcountry': 7, 'ac': 'BR', 'country': 'Brasil', 'uf': 'PA', 'city': 'Marituba', 'region': 'N', 'seaside': False, 'latitude': -1.355, 'longitude': -48.342, 'tourist': False, 'agricultural': False, 'base': 'cities'}, 'weather': {'id': 7463, 'name': 'Marituba', 'date': '04/09/2025', 'dayWeek': 'Quinta-feira', 'dateUpdate': '22:29:00', 'temperature': 28, 'windDirection': 0, 'windVelocity': 8, 'windDirectionDegrees': 241, 'humidity': 83, 'condition': 'Chuva e trovoadas', 'pressure': 1012, 'icon': '6n', 'sensation': 32, 'slugCondition': 'chuva-e-trovoadas'}}]}]}, 'status_code': 200}\n",
      "{'data': {'getWeatherNow': [{'data': [{'locale': {'idlocale': 7464, 'idcity': 6944, 'capital': False, 'idcountry': 7, 'ac': 'BR', 'country': 'Brasil', 'uf': 'PA', 'city': 'Marudá', 'region': 'N', 'seaside': False, 'latitude': -0.626, 'longitude': -47.636, 'tourist': False, 'agricultural': False, 'base': 'cities'}, 'weather': {'id': 7464, 'name': 'Marudá', 'date': '04/09/2025', 'dayWeek': 'Quinta-feira', 'dateUpdate': '22:29:00', 'temperature': 26, 'windDirection': 0, 'windVelocity': 9, 'windDirectionDegrees': 242, 'humidity': 84, 'condition': 'Nublado', 'pressure': 1012, 'icon': '3n', 'sensation': 28, 'slugCondition': 'nublado'}}]}]}, 'status_code': 200}\n",
      "{'data': {'getWeatherNow': [{'data': [{'locale': {'idlocale': 4689, 'idcity': 5884, 'capital': False, 'idcountry': 7, 'ac': 'BR', 'country': 'Brasil', 'uf': 'PA', 'city': 'Medicilândia', 'region': 'N', 'seaside': False, 'latitude': -3.446, 'longitude': -52.889, 'tourist': False, 'agricultural': False, 'base': 'cities'}, 'weather': {'id': 4689, 'name': 'Medicilândia', 'date': '04/09/2025', 'dayWeek': 'Quinta-feira', 'dateUpdate': '22:29:00', 'temperature': 29, 'windDirection': 0, 'windVelocity': 6, 'windDirectionDegrees': 189, 'humidity': 76, 'condition': 'Céu limpo', 'pressure': 0, 'icon': '1n', 'sensation': 33, 'slugCondition': 'céu-limpo'}}]}]}, 'status_code': 200}\n",
      "{'data': {'getWeatherNow': [{'data': [{'locale': {'idlocale': 7465, 'idcity': 1202, 'capital': False, 'idcountry': 7, 'ac': 'BR', 'country': 'Brasil', 'uf': 'PA', 'city': 'Melgaço', 'region': 'N', 'seaside': False, 'latitude': -1.804, 'longitude': -50.712, 'tourist': False, 'agricultural': False, 'base': 'cities'}, 'weather': {'id': 7465, 'name': 'Melgaço', 'date': '04/09/2025', 'dayWeek': 'Quinta-feira', 'dateUpdate': '22:29:00', 'temperature': 28, 'windDirection': 0, 'windVelocity': 9, 'windDirectionDegrees': 176, 'humidity': 84, 'condition': 'Céu limpo', 'pressure': 1012, 'icon': '1n', 'sensation': 33, 'slugCondition': 'céu-limpo'}}]}]}, 'status_code': 200}\n",
      "{'data': {'getWeatherNow': [{'data': [{'locale': {'idlocale': 7466, 'idcity': 6454, 'capital': False, 'idcountry': 7, 'ac': 'BR', 'country': 'Brasil', 'uf': 'PA', 'city': 'Mocajuba', 'region': 'N', 'seaside': False, 'latitude': -2.584, 'longitude': -49.507, 'tourist': False, 'agricultural': False, 'base': 'cities'}, 'weather': {'id': 7466, 'name': 'Mocajuba', 'date': '04/09/2025', 'dayWeek': 'Quinta-feira', 'dateUpdate': '22:29:00', 'temperature': 29, 'windDirection': 0, 'windVelocity': 6, 'windDirectionDegrees': 225, 'humidity': 78, 'condition': 'Céu limpo', 'pressure': 1012, 'icon': '1n', 'sensation': 33, 'slugCondition': 'céu-limpo'}}]}]}, 'status_code': 200}\n",
      "{'data': {'getWeatherNow': [{'data': [{'locale': {'idlocale': 7467, 'idcity': 1203, 'capital': False, 'idcountry': 7, 'ac': 'BR', 'country': 'Brasil', 'uf': 'PA', 'city': 'Moju', 'region': 'N', 'seaside': False, 'latitude': -1.884, 'longitude': -48.769, 'tourist': False, 'agricultural': False, 'base': 'cities'}, 'weather': {'id': 7467, 'name': 'Moju', 'date': '04/09/2025', 'dayWeek': 'Quinta-feira', 'dateUpdate': '22:29:00', 'temperature': 29, 'windDirection': 0, 'windVelocity': 7, 'windDirectionDegrees': 237, 'humidity': 81, 'condition': 'Céu limpo', 'pressure': 1012, 'icon': '1n', 'sensation': 34, 'slugCondition': 'céu-limpo'}}]}]}, 'status_code': 200}\n",
      "{'data': {'getWeatherNow': [{'data': [{'locale': {'idlocale': 7468, 'idcity': 243, 'capital': False, 'idcountry': 7, 'ac': 'BR', 'country': 'Brasil', 'uf': 'PA', 'city': 'Monte Alegre', 'region': 'N', 'seaside': False, 'latitude': -2.008, 'longitude': -54.069, 'tourist': False, 'agricultural': False, 'base': 'cities'}, 'weather': {'id': 7468, 'name': 'Monte Alegre', 'date': '04/09/2025', 'dayWeek': 'Quinta-feira', 'dateUpdate': '22:29:00', 'temperature': 29, 'windDirection': 0, 'windVelocity': 13, 'windDirectionDegrees': 188, 'humidity': 77, 'condition': 'Algumas nuvens', 'pressure': 0, 'icon': '2n', 'sensation': 33, 'slugCondition': 'algumas-nuvens'}}]}]}, 'status_code': 200}\n",
      "{'data': {'getWeatherNow': [{'data': [{'locale': {'idlocale': 4323, 'idcity': 5365, 'capital': False, 'idcountry': 7, 'ac': 'BR', 'country': 'Brasil', 'uf': 'PA', 'city': 'Monte Dourado', 'region': 'N', 'seaside': False, 'latitude': -0.867, 'longitude': -52.528, 'tourist': False, 'agricultural': False, 'base': 'cities'}, 'weather': {'id': 4323, 'name': 'Monte Dourado', 'date': '04/09/2025', 'dayWeek': 'Quinta-feira', 'dateUpdate': '22:29:00', 'temperature': 28, 'windDirection': 0, 'windVelocity': 9, 'windDirectionDegrees': 118, 'humidity': 82, 'condition': 'Céu limpo', 'pressure': 0, 'icon': '1n', 'sensation': 31, 'slugCondition': 'céu-limpo'}}]}]}, 'status_code': 200}\n",
      "{'data': {'getWeatherNow': [{'data': [{'locale': {'idlocale': 7469, 'idcity': 6455, 'capital': False, 'idcountry': 7, 'ac': 'BR', 'country': 'Brasil', 'uf': 'PA', 'city': 'Muaná', 'region': 'N', 'seaside': False, 'latitude': -1.528, 'longitude': -49.217, 'tourist': False, 'agricultural': False, 'base': 'cities'}, 'weather': {'id': 7469, 'name': 'Muaná', 'date': '04/09/2025', 'dayWeek': 'Quinta-feira', 'dateUpdate': '22:29:00', 'temperature': 28, 'windDirection': 0, 'windVelocity': 9, 'windDirectionDegrees': 230, 'humidity': 83, 'condition': 'Céu limpo', 'pressure': 1012, 'icon': '1n', 'sensation': 34, 'slugCondition': 'céu-limpo'}}]}]}, 'status_code': 200}\n",
      "{'data': {'getWeatherNow': [{'data': [{'locale': {'idlocale': 7458, 'idcity': 6456, 'capital': False, 'idcountry': 7, 'ac': 'BR', 'country': 'Brasil', 'uf': 'PA', 'city': 'Mãe do Rio', 'region': 'N', 'seaside': False, 'latitude': -2.046, 'longitude': -47.551, 'tourist': False, 'agricultural': False, 'base': 'cities'}, 'weather': {'id': 7458, 'name': 'Mãe do Rio', 'date': '04/09/2025', 'dayWeek': 'Quinta-feira', 'dateUpdate': '22:29:00', 'temperature': 26, 'windDirection': 0, 'windVelocity': 7, 'windDirectionDegrees': 232, 'humidity': 79, 'condition': 'Algumas nuvens', 'pressure': 1012, 'icon': '2n', 'sensation': 27, 'slugCondition': 'algumas-nuvens'}}]}]}, 'status_code': 200}\n",
      "{'data': {'getWeatherNow': [{'data': [{'locale': {'idlocale': 7470, 'idcity': 6856, 'capital': False, 'idcountry': 7, 'ac': 'BR', 'country': 'Brasil', 'uf': 'PA', 'city': 'Nova Esperança do Piriá', 'region': 'N', 'seaside': False, 'latitude': -2.268, 'longitude': -46.968, 'tourist': False, 'agricultural': False, 'base': 'cities'}, 'weather': {'id': 7470, 'name': 'Nova Esperança do Piriá', 'date': '04/09/2025', 'dayWeek': 'Quinta-feira', 'dateUpdate': '22:29:00', 'temperature': 25, 'windDirection': 0, 'windVelocity': 6, 'windDirectionDegrees': 223, 'humidity': 77, 'condition': 'Céu limpo', 'pressure': 1012, 'icon': '1n', 'sensation': 25, 'slugCondition': 'céu-limpo'}}]}]}, 'status_code': 200}\n",
      "{'data': {'getWeatherNow': [{'data': [{'locale': {'idlocale': 7471, 'idcity': 6457, 'capital': False, 'idcountry': 7, 'ac': 'BR', 'country': 'Brasil', 'uf': 'PA', 'city': 'Nova Ipixuna', 'region': 'N', 'seaside': False, 'latitude': -4.921, 'longitude': -49.077, 'tourist': False, 'agricultural': False, 'base': 'cities'}, 'weather': {'id': 7471, 'name': 'Nova Ipixuna', 'date': '04/09/2025', 'dayWeek': 'Quinta-feira', 'dateUpdate': '22:29:00', 'temperature': 28, 'windDirection': 0, 'windVelocity': 3, 'windDirectionDegrees': 226, 'humidity': 62, 'condition': 'Céu limpo', 'pressure': 1010, 'icon': '1n', 'sensation': 30, 'slugCondition': 'céu-limpo'}}]}]}, 'status_code': 200}\n",
      "{'data': {'getWeatherNow': [{'data': [{'locale': {'idlocale': 7472, 'idcity': 6458, 'capital': False, 'idcountry': 7, 'ac': 'BR', 'country': 'Brasil', 'uf': 'PA', 'city': 'Nova Timboteua', 'region': 'N', 'seaside': False, 'latitude': -1.208, 'longitude': -47.392, 'tourist': False, 'agricultural': False, 'base': 'cities'}, 'weather': {'id': 7472, 'name': 'Nova Timboteua', 'date': '04/09/2025', 'dayWeek': 'Quinta-feira', 'dateUpdate': '22:29:00', 'temperature': 25, 'windDirection': 0, 'windVelocity': 8, 'windDirectionDegrees': 237, 'humidity': 82, 'condition': 'Chuvoso', 'pressure': 1012, 'icon': '5n', 'sensation': 25, 'slugCondition': 'chuvoso'}}]}]}, 'status_code': 200}\n",
      "{'data': {'getWeatherNow': [{'data': [{'locale': {'idlocale': 4196, 'idcity': 5196, 'capital': False, 'idcountry': 7, 'ac': 'BR', 'country': 'Brasil', 'uf': 'PA', 'city': 'Novo Progresso', 'region': 'N', 'seaside': False, 'latitude': -7.148, 'longitude': -55.381, 'tourist': False, 'agricultural': False, 'base': 'cities'}, 'weather': {'id': 4196, 'name': 'Novo Progresso', 'date': '04/09/2025', 'dayWeek': 'Quinta-feira', 'dateUpdate': '22:29:00', 'temperature': 29, 'windDirection': 0, 'windVelocity': 0, 'windDirectionDegrees': 180, 'humidity': 24, 'condition': 'Nublado', 'pressure': 0, 'icon': '3n', 'sensation': 29, 'slugCondition': 'nublado'}}]}]}, 'status_code': 200}\n",
      "{'data': {'getWeatherNow': [{'data': [{'locale': {'idlocale': 7473, 'idcity': 6459, 'capital': False, 'idcountry': 7, 'ac': 'BR', 'country': 'Brasil', 'uf': 'PA', 'city': 'Novo Repartimento', 'region': 'N', 'seaside': False, 'latitude': -4.4, 'longitude': -49.796, 'tourist': False, 'agricultural': False, 'base': 'cities'}, 'weather': {'id': 7473, 'name': 'Novo Repartimento', 'date': '04/09/2025', 'dayWeek': 'Quinta-feira', 'dateUpdate': '22:29:00', 'temperature': 28, 'windDirection': 0, 'windVelocity': 3, 'windDirectionDegrees': 220, 'humidity': 69, 'condition': 'Céu limpo', 'pressure': 1011, 'icon': '1n', 'sensation': 31, 'slugCondition': 'céu-limpo'}}]}]}, 'status_code': 200}\n",
      "{'data': {'getWeatherNow': [{'data': [{'locale': {'idlocale': 7475, 'idcity': 6460, 'capital': False, 'idcountry': 7, 'ac': 'BR', 'country': 'Brasil', 'uf': 'PA', 'city': 'Oeiras do Pará', 'region': 'N', 'seaside': False, 'latitude': -2.003, 'longitude': -49.854, 'tourist': False, 'agricultural': False, 'base': 'cities'}, 'weather': {'id': 7475, 'name': 'Oeiras do Pará', 'date': '04/09/2025', 'dayWeek': 'Quinta-feira', 'dateUpdate': '22:29:00', 'temperature': 29, 'windDirection': 0, 'windVelocity': 8, 'windDirectionDegrees': 214, 'humidity': 82, 'condition': 'Céu limpo', 'pressure': 1012, 'icon': '1n', 'sensation': 34, 'slugCondition': 'céu-limpo'}}]}]}, 'status_code': 200}\n",
      "{'data': {'getWeatherNow': [{'data': [{'locale': {'idlocale': 7476, 'idcity': 244, 'capital': False, 'idcountry': 7, 'ac': 'BR', 'country': 'Brasil', 'uf': 'PA', 'city': 'Oriximiná', 'region': 'N', 'seaside': False, 'latitude': -1.766, 'longitude': -55.866, 'tourist': False, 'agricultural': False, 'base': 'cities'}, 'weather': {'id': 7476, 'name': 'Oriximiná', 'date': '04/09/2025', 'dayWeek': 'Quinta-feira', 'dateUpdate': '22:29:00', 'temperature': 29, 'windDirection': 0, 'windVelocity': 16, 'windDirectionDegrees': 206, 'humidity': 75, 'condition': 'Chuvoso', 'pressure': 0, 'icon': '5n', 'sensation': 32, 'slugCondition': 'chuvoso'}}]}]}, 'status_code': 200}\n",
      "{'data': {'getWeatherNow': [{'data': [{'locale': {'idlocale': 7478, 'idcity': 6461, 'capital': False, 'idcountry': 7, 'ac': 'BR', 'country': 'Brasil', 'uf': 'PA', 'city': 'Ourilândia do Norte', 'region': 'N', 'seaside': False, 'latitude': -6.755, 'longitude': -51.084, 'tourist': False, 'agricultural': False, 'base': 'cities'}, 'weather': {'id': 7478, 'name': 'Ourilândia do Norte', 'date': '04/09/2025', 'dayWeek': 'Quinta-feira', 'dateUpdate': '22:29:00', 'temperature': 27, 'windDirection': 0, 'windVelocity': 2, 'windDirectionDegrees': 180, 'humidity': 56, 'condition': 'Céu limpo', 'pressure': 1010, 'icon': '1n', 'sensation': 28, 'slugCondition': 'céu-limpo'}}]}]}, 'status_code': 200}\n",
      "{'data': {'getWeatherNow': [{'data': [{'locale': {'idlocale': 7477, 'idcity': 1204, 'capital': False, 'idcountry': 7, 'ac': 'BR', 'country': 'Brasil', 'uf': 'PA', 'city': 'Ourém', 'region': 'N', 'seaside': False, 'latitude': -1.552, 'longitude': -47.114, 'tourist': False, 'agricultural': False, 'base': 'cities'}, 'weather': {'id': 7477, 'name': 'Ourém', 'date': '04/09/2025', 'dayWeek': 'Quinta-feira', 'dateUpdate': '22:29:00', 'temperature': 25, 'windDirection': 0, 'windVelocity': 7, 'windDirectionDegrees': 231, 'humidity': 80, 'condition': 'Muitas nuvens', 'pressure': 1012, 'icon': '2rn', 'sensation': 25, 'slugCondition': 'muitas-nuvens'}}]}]}, 'status_code': 200}\n",
      "{'data': {'getWeatherNow': [{'data': [{'locale': {'idlocale': 7479, 'idcity': 6462, 'capital': False, 'idcountry': 7, 'ac': 'BR', 'country': 'Brasil', 'uf': 'PA', 'city': 'Pacajá', 'region': 'N', 'seaside': False, 'latitude': -3.838, 'longitude': -50.638, 'tourist': False, 'agricultural': False, 'base': 'cities'}, 'weather': {'id': 7479, 'name': 'Pacajá', 'date': '04/09/2025', 'dayWeek': 'Quinta-feira', 'dateUpdate': '22:29:00', 'temperature': 28, 'windDirection': 0, 'windVelocity': 4, 'windDirectionDegrees': 203, 'humidity': 74, 'condition': 'Céu limpo', 'pressure': 1011, 'icon': '1n', 'sensation': 32, 'slugCondition': 'céu-limpo'}}]}]}, 'status_code': 200}\n",
      "{'data': {'getWeatherNow': [{'data': [{'locale': {'idlocale': 7480, 'idcity': 6463, 'capital': False, 'idcountry': 7, 'ac': 'BR', 'country': 'Brasil', 'uf': 'PA', 'city': 'Palestina do Pará', 'region': 'N', 'seaside': False, 'latitude': -5.742, 'longitude': -48.317, 'tourist': False, 'agricultural': False, 'base': 'cities'}, 'weather': {'id': 7480, 'name': 'Palestina do Pará', 'date': '04/09/2025', 'dayWeek': 'Quinta-feira', 'dateUpdate': '22:29:00', 'temperature': 32, 'windDirection': 0, 'windVelocity': 3, 'windDirectionDegrees': 40, 'humidity': 57, 'condition': 'Algumas nuvens', 'pressure': 1010, 'icon': '2n', 'sensation': 36, 'slugCondition': 'algumas-nuvens'}}]}]}, 'status_code': 200}\n",
      "{'data': {'getWeatherNow': [{'data': [{'locale': {'idlocale': 7481, 'idcity': 1205, 'capital': False, 'idcountry': 7, 'ac': 'BR', 'country': 'Brasil', 'uf': 'PA', 'city': 'Paragominas', 'region': 'N', 'seaside': False, 'latitude': -2.996, 'longitude': -47.353, 'tourist': False, 'agricultural': False, 'base': 'cities'}, 'weather': {'id': 7481, 'name': 'Paragominas', 'date': '04/09/2025', 'dayWeek': 'Quinta-feira', 'dateUpdate': '22:29:00', 'temperature': 27, 'windDirection': 0, 'windVelocity': 6, 'windDirectionDegrees': 222, 'humidity': 75, 'condition': 'Céu limpo', 'pressure': 1011, 'icon': '1n', 'sensation': 30, 'slugCondition': 'céu-limpo'}}]}]}, 'status_code': 200}\n",
      "{'data': {'getWeatherNow': [{'data': [{'locale': {'idlocale': 7482, 'idcity': 1206, 'capital': False, 'idcountry': 7, 'ac': 'BR', 'country': 'Brasil', 'uf': 'PA', 'city': 'Parauapebas', 'region': 'N', 'seaside': False, 'latitude': -6.067, 'longitude': -49.902, 'tourist': False, 'agricultural': False, 'base': 'cities'}, 'weather': {'id': 7482, 'name': 'Parauapebas', 'date': '04/09/2025', 'dayWeek': 'Quinta-feira', 'dateUpdate': '22:29:00', 'temperature': 24, 'windDirection': 0, 'windVelocity': 2, 'windDirectionDegrees': 300, 'humidity': 78, 'condition': 'Céu limpo', 'pressure': 1010, 'icon': '1n', 'sensation': 24, 'slugCondition': 'céu-limpo'}}]}]}, 'status_code': 200}\n",
      "{'data': {'getWeatherNow': [{'data': [{'locale': {'idlocale': 7483, 'idcity': 6464, 'capital': False, 'idcountry': 7, 'ac': 'BR', 'country': 'Brasil', 'uf': 'PA', 'city': \"Pau d'Arco\", 'region': 'N', 'seaside': False, 'latitude': -7.833, 'longitude': -50.044, 'tourist': False, 'agricultural': False, 'base': 'cities'}, 'weather': {'id': 7483, 'name': \"Pau d'Arco\", 'date': '04/09/2025', 'dayWeek': 'Quinta-feira', 'dateUpdate': '22:29:00', 'temperature': 29, 'windDirection': 0, 'windVelocity': 3, 'windDirectionDegrees': 41, 'humidity': 52, 'condition': 'Céu limpo', 'pressure': 1010, 'icon': '1n', 'sensation': 30, 'slugCondition': 'céu-limpo'}}]}]}, 'status_code': 200}\n",
      "{'data': {'getWeatherNow': [{'data': [{'locale': {'idlocale': 7484, 'idcity': 6465, 'capital': False, 'idcountry': 7, 'ac': 'BR', 'country': 'Brasil', 'uf': 'PA', 'city': 'Peixe Boi', 'region': 'N', 'seaside': False, 'latitude': -1.192, 'longitude': -47.312, 'tourist': False, 'agricultural': False, 'base': 'cities'}, 'weather': {'id': 7484, 'name': 'Peixe Boi', 'date': '04/09/2025', 'dayWeek': 'Quinta-feira', 'dateUpdate': '22:29:00', 'temperature': 25, 'windDirection': 0, 'windVelocity': 8, 'windDirectionDegrees': 236, 'humidity': 82, 'condition': 'Chuvoso', 'pressure': 1012, 'icon': '5n', 'sensation': 25, 'slugCondition': 'chuvoso'}}]}]}, 'status_code': 200}\n",
      "{'data': {'getWeatherNow': [{'data': [{'locale': {'idlocale': 7485, 'idcity': 6466, 'capital': False, 'idcountry': 7, 'ac': 'BR', 'country': 'Brasil', 'uf': 'PA', 'city': 'Piçarra', 'region': 'N', 'seaside': False, 'latitude': -6.438, 'longitude': -48.872, 'tourist': False, 'agricultural': False, 'base': 'cities'}, 'weather': {'id': 7485, 'name': 'Piçarra', 'date': '04/09/2025', 'dayWeek': 'Quinta-feira', 'dateUpdate': '22:29:00', 'temperature': 28, 'windDirection': 0, 'windVelocity': 3, 'windDirectionDegrees': 32, 'humidity': 53, 'condition': 'Céu limpo', 'pressure': 1010, 'icon': '1n', 'sensation': 28, 'slugCondition': 'céu-limpo'}}]}]}, 'status_code': 200}\n",
      "{'data': {'getWeatherNow': [{'data': [{'locale': {'idlocale': 7486, 'idcity': 5548, 'capital': False, 'idcountry': 7, 'ac': 'BR', 'country': 'Brasil', 'uf': 'PA', 'city': 'Placas', 'region': 'N', 'seaside': False, 'latitude': -3.868, 'longitude': -54.22, 'tourist': False, 'agricultural': False, 'base': 'cities'}, 'weather': {'id': 7486, 'name': 'Placas', 'date': '04/09/2025', 'dayWeek': 'Quinta-feira', 'dateUpdate': '22:29:00', 'temperature': 29, 'windDirection': 0, 'windVelocity': 9, 'windDirectionDegrees': 204, 'humidity': 73, 'condition': 'Algumas nuvens', 'pressure': 0, 'icon': '2n', 'sensation': 32, 'slugCondition': 'algumas-nuvens'}}]}]}, 'status_code': 200}\n",
      "{'data': {'getWeatherNow': [{'data': [{'locale': {'idlocale': 4113, 'idcity': 5100, 'capital': False, 'idcountry': 7, 'ac': 'BR', 'country': 'Brasil', 'uf': 'PA', 'city': 'Ponta de Pedras', 'region': 'N', 'seaside': False, 'latitude': -1.39, 'longitude': -48.871, 'tourist': False, 'agricultural': False, 'base': 'cities'}, 'weather': {'id': 4113, 'name': 'Ponta de Pedras', 'date': '04/09/2025', 'dayWeek': 'Quinta-feira', 'dateUpdate': '22:29:00', 'temperature': 29, 'windDirection': 0, 'windVelocity': 9, 'windDirectionDegrees': 238, 'humidity': 83, 'condition': 'Muitas nuvens', 'pressure': 1012, 'icon': '2rn', 'sensation': 34, 'slugCondition': 'muitas-nuvens'}}]}]}, 'status_code': 200}\n",
      "{'data': {'getWeatherNow': [{'data': [{'locale': {'idlocale': 7487, 'idcity': 2157, 'capital': False, 'idcountry': 7, 'ac': 'BR', 'country': 'Brasil', 'uf': 'PA', 'city': 'Portel', 'region': 'N', 'seaside': False, 'latitude': -1.936, 'longitude': -50.821, 'tourist': False, 'agricultural': False, 'base': 'cities'}, 'weather': {'id': 7487, 'name': 'Portel', 'date': '04/09/2025', 'dayWeek': 'Quinta-feira', 'dateUpdate': '22:29:00', 'temperature': 28, 'windDirection': 0, 'windVelocity': 9, 'windDirectionDegrees': 173, 'humidity': 83, 'condition': 'Céu limpo', 'pressure': 1012, 'icon': '1n', 'sensation': 33, 'slugCondition': 'céu-limpo'}}]}]}, 'status_code': 200}\n",
      "{'data': {'getWeatherNow': [{'data': [{'locale': {'idlocale': 4114, 'idcity': 5101, 'capital': False, 'idcountry': 7, 'ac': 'BR', 'country': 'Brasil', 'uf': 'PA', 'city': 'Porto Trombetas', 'region': 'N', 'seaside': False, 'latitude': -1.383, 'longitude': -56.45, 'tourist': False, 'agricultural': False, 'base': 'cities'}, 'weather': {'id': 4114, 'name': 'Porto Trombetas', 'date': '04/09/2025', 'dayWeek': 'Quinta-feira', 'dateUpdate': '22:29:00', 'temperature': 28, 'windDirection': 0, 'windVelocity': 16, 'windDirectionDegrees': 202, 'humidity': 77, 'condition': 'Chuva e trovoadas', 'pressure': 0, 'icon': '6n', 'sensation': 32, 'slugCondition': 'chuva-e-trovoadas'}}]}]}, 'status_code': 200}\n",
      "{'data': {'getWeatherNow': [{'data': [{'locale': {'idlocale': 7488, 'idcity': 245, 'capital': False, 'idcountry': 7, 'ac': 'BR', 'country': 'Brasil', 'uf': 'PA', 'city': 'Porto de Moz', 'region': 'N', 'seaside': False, 'latitude': -1.748, 'longitude': -52.238, 'tourist': False, 'agricultural': False, 'base': 'cities'}, 'weather': {'id': 7488, 'name': 'Porto de Moz', 'date': '04/09/2025', 'dayWeek': 'Quinta-feira', 'dateUpdate': '22:29:00', 'temperature': 28, 'windDirection': 0, 'windVelocity': 10, 'windDirectionDegrees': 140, 'humidity': 84, 'condition': 'Céu limpo', 'pressure': 0, 'icon': '1n', 'sensation': 33, 'slugCondition': 'céu-limpo'}}]}]}, 'status_code': 200}\n",
      "{'data': {'getWeatherNow': [{'data': [{'locale': {'idlocale': 7489, 'idcity': 246, 'capital': False, 'idcountry': 7, 'ac': 'BR', 'country': 'Brasil', 'uf': 'PA', 'city': 'Prainha', 'region': 'N', 'seaside': False, 'latitude': -1.8, 'longitude': -53.48, 'tourist': False, 'agricultural': False, 'base': 'cities'}, 'weather': {'id': 7489, 'name': 'Prainha', 'date': '04/09/2025', 'dayWeek': 'Quinta-feira', 'dateUpdate': '22:29:00', 'temperature': 29, 'windDirection': 0, 'windVelocity': 12, 'windDirectionDegrees': 163, 'humidity': 80, 'condition': 'Algumas nuvens', 'pressure': 0, 'icon': '2n', 'sensation': 34, 'slugCondition': 'algumas-nuvens'}}]}]}, 'status_code': 200}\n",
      "{'data': {'getWeatherNow': [{'data': [{'locale': {'idlocale': 7490, 'idcity': 6467, 'capital': False, 'idcountry': 7, 'ac': 'BR', 'country': 'Brasil', 'uf': 'PA', 'city': 'Primavera', 'region': 'N', 'seaside': False, 'latitude': -0.94, 'longitude': -47.116, 'tourist': False, 'agricultural': False, 'base': 'cities'}, 'weather': {'id': 7490, 'name': 'Primavera', 'date': '04/09/2025', 'dayWeek': 'Quinta-feira', 'dateUpdate': '22:29:00', 'temperature': 25, 'windDirection': 0, 'windVelocity': 8, 'windDirectionDegrees': 236, 'humidity': 83, 'condition': 'Muitas nuvens', 'pressure': 1012, 'icon': '2rn', 'sensation': 25, 'slugCondition': 'muitas-nuvens'}}]}]}, 'status_code': 200}\n",
      "{'data': {'getWeatherNow': [{'data': [{'locale': {'idlocale': 7491, 'idcity': 6468, 'capital': False, 'idcountry': 7, 'ac': 'BR', 'country': 'Brasil', 'uf': 'PA', 'city': 'Quatipuru', 'region': 'N', 'seaside': True, 'latitude': -0.897, 'longitude': -47.005, 'tourist': False, 'agricultural': False, 'base': 'cities'}, 'weather': {'id': 7491, 'name': 'Quatipuru', 'date': '04/09/2025', 'dayWeek': 'Quinta-feira', 'dateUpdate': '22:29:00', 'temperature': 26, 'windDirection': 0, 'windVelocity': 9, 'windDirectionDegrees': 236, 'humidity': 83, 'condition': 'Muitas nuvens', 'pressure': 1012, 'icon': '2rn', 'sensation': 27, 'slugCondition': 'muitas-nuvens'}}]}]}, 'status_code': 200}\n",
      "{'data': {'getWeatherNow': [{'data': [{'locale': {'idlocale': 7492, 'idcity': 1208, 'capital': False, 'idcountry': 7, 'ac': 'BR', 'country': 'Brasil', 'uf': 'PA', 'city': 'Redenção', 'region': 'N', 'seaside': False, 'latitude': -8.029, 'longitude': -50.031, 'tourist': False, 'agricultural': False, 'base': 'cities'}, 'weather': {'id': 7492, 'name': 'Redenção', 'date': '04/09/2025', 'dayWeek': 'Quinta-feira', 'dateUpdate': '22:29:00', 'temperature': 29, 'windDirection': 0, 'windVelocity': 3, 'windDirectionDegrees': 41, 'humidity': 50, 'condition': 'Céu limpo', 'pressure': 1010, 'icon': '1n', 'sensation': 29, 'slugCondition': 'céu-limpo'}}]}]}, 'status_code': 200}\n",
      "{'data': {'getWeatherNow': [{'data': [{'locale': {'idlocale': 7493, 'idcity': 1209, 'capital': False, 'idcountry': 7, 'ac': 'BR', 'country': 'Brasil', 'uf': 'PA', 'city': 'Rio Maria', 'region': 'N', 'seaside': False, 'latitude': -7.311, 'longitude': -50.048, 'tourist': False, 'agricultural': False, 'base': 'cities'}, 'weather': {'id': 7493, 'name': 'Rio Maria', 'date': '04/09/2025', 'dayWeek': 'Quinta-feira', 'dateUpdate': '22:29:00', 'temperature': 27, 'windDirection': 0, 'windVelocity': 2, 'windDirectionDegrees': 44, 'humidity': 53, 'condition': 'Céu limpo', 'pressure': 1010, 'icon': '1n', 'sensation': 28, 'slugCondition': 'céu-limpo'}}]}]}, 'status_code': 200}\n",
      "{'data': {'getWeatherNow': [{'data': [{'locale': {'idlocale': 7494, 'idcity': 1210, 'capital': False, 'idcountry': 7, 'ac': 'BR', 'country': 'Brasil', 'uf': 'PA', 'city': 'Rondon do Pará', 'region': 'N', 'seaside': False, 'latitude': -4.776, 'longitude': -48.067, 'tourist': False, 'agricultural': False, 'base': 'cities'}, 'weather': {'id': 7494, 'name': 'Rondon do Pará', 'date': '04/09/2025', 'dayWeek': 'Quinta-feira', 'dateUpdate': '22:29:00', 'temperature': 30, 'windDirection': 0, 'windVelocity': 4, 'windDirectionDegrees': 247, 'humidity': 62, 'condition': 'Algumas nuvens', 'pressure': 1010, 'icon': '2n', 'sensation': 32, 'slugCondition': 'algumas-nuvens'}}]}]}, 'status_code': 200}\n",
      "{'data': {'getWeatherNow': [{'data': [{'locale': {'idlocale': 7495, 'idcity': 5032, 'capital': False, 'idcountry': 7, 'ac': 'BR', 'country': 'Brasil', 'uf': 'PA', 'city': 'Rurópolis', 'region': 'N', 'seaside': False, 'latitude': -4.096, 'longitude': -54.91, 'tourist': False, 'agricultural': False, 'base': 'cities'}, 'weather': {'id': 7495, 'name': 'Rurópolis', 'date': '04/09/2025', 'dayWeek': 'Quinta-feira', 'dateUpdate': '22:29:00', 'temperature': 28, 'windDirection': 0, 'windVelocity': 10, 'windDirectionDegrees': 209, 'humidity': 71, 'condition': 'Muitas nuvens', 'pressure': 0, 'icon': '2rn', 'sensation': 31, 'slugCondition': 'muitas-nuvens'}}]}]}, 'status_code': 200}\n",
      "{'data': {'getWeatherNow': [{'data': [{'locale': {'idlocale': 7496, 'idcity': 1212, 'capital': False, 'idcountry': 7, 'ac': 'BR', 'country': 'Brasil', 'uf': 'PA', 'city': 'Salinópolis', 'region': 'N', 'seaside': True, 'latitude': -0.614, 'longitude': -47.356, 'tourist': False, 'agricultural': False, 'base': 'cities'}, 'weather': {'id': 7496, 'name': 'Salinópolis', 'date': '04/09/2025', 'dayWeek': 'Quinta-feira', 'dateUpdate': '22:29:00', 'temperature': 26, 'windDirection': 0, 'windVelocity': 14, 'windDirectionDegrees': 300, 'humidity': 78, 'condition': 'Muitas nuvens', 'pressure': 1012, 'icon': '2rn', 'sensation': 28, 'slugCondition': 'muitas-nuvens'}}]}]}, 'status_code': 200}\n",
      "{'data': {'getWeatherNow': [{'data': [{'locale': {'idlocale': 7497, 'idcity': 248, 'capital': False, 'idcountry': 7, 'ac': 'BR', 'country': 'Brasil', 'uf': 'PA', 'city': 'Salvaterra', 'region': 'N', 'seaside': False, 'latitude': -0.753, 'longitude': -48.6, 'tourist': False, 'agricultural': False, 'base': 'cities'}, 'weather': {'id': 7497, 'name': 'Salvaterra', 'date': '04/09/2025', 'dayWeek': 'Quinta-feira', 'dateUpdate': '22:29:00', 'temperature': 27, 'windDirection': 0, 'windVelocity': 9, 'windDirectionDegrees': 243, 'humidity': 84, 'condition': 'Chuva e trovoadas', 'pressure': 1012, 'icon': '6n', 'sensation': 31, 'slugCondition': 'chuva-e-trovoadas'}}]}]}, 'status_code': 200}\n",
      "{'data': {'getWeatherNow': [{'data': [{'locale': {'idlocale': 7498, 'idcity': 6469, 'capital': False, 'idcountry': 7, 'ac': 'BR', 'country': 'Brasil', 'uf': 'PA', 'city': 'Santa Bárbara do Pará', 'region': 'N', 'seaside': False, 'latitude': -1.224, 'longitude': -48.294, 'tourist': False, 'agricultural': False, 'base': 'cities'}, 'weather': {'id': 7498, 'name': 'Santa Bárbara do Pará', 'date': '04/09/2025', 'dayWeek': 'Quinta-feira', 'dateUpdate': '22:29:00', 'temperature': 28, 'windDirection': 0, 'windVelocity': 8, 'windDirectionDegrees': 242, 'humidity': 83, 'condition': 'Chuva e trovoadas', 'pressure': 1012, 'icon': '6n', 'sensation': 32, 'slugCondition': 'chuva-e-trovoadas'}}]}]}, 'status_code': 200}\n",
      "{'data': {'getWeatherNow': [{'data': [{'locale': {'idlocale': 7499, 'idcity': 6470, 'capital': False, 'idcountry': 7, 'ac': 'BR', 'country': 'Brasil', 'uf': 'PA', 'city': 'Santa Cruz do Arari', 'region': 'N', 'seaside': False, 'latitude': -0.663, 'longitude': -49.175, 'tourist': False, 'agricultural': False, 'base': 'cities'}, 'weather': {'id': 7499, 'name': 'Santa Cruz do Arari', 'date': '04/09/2025', 'dayWeek': 'Quinta-feira', 'dateUpdate': '22:29:00', 'temperature': 27, 'windDirection': 0, 'windVelocity': 9, 'windDirectionDegrees': 231, 'humidity': 84, 'condition': 'Muitas nuvens', 'pressure': 1012, 'icon': '2rn', 'sensation': 31, 'slugCondition': 'muitas-nuvens'}}]}]}, 'status_code': 200}\n",
      "{'data': {'getWeatherNow': [{'data': [{'locale': {'idlocale': 7500, 'idcity': 6471, 'capital': False, 'idcountry': 7, 'ac': 'BR', 'country': 'Brasil', 'uf': 'PA', 'city': 'Santa Isabel do Pará', 'region': 'N', 'seaside': False, 'latitude': -1.299, 'longitude': -48.161, 'tourist': False, 'agricultural': False, 'base': 'cities'}, 'weather': {'id': 7500, 'name': 'Santa Isabel do Pará', 'date': '04/09/2025', 'dayWeek': 'Quinta-feira', 'dateUpdate': '22:29:00', 'temperature': 27, 'windDirection': 0, 'windVelocity': 7, 'windDirectionDegrees': 241, 'humidity': 83, 'condition': 'Chuva e trovoadas', 'pressure': 1012, 'icon': '6n', 'sensation': 31, 'slugCondition': 'chuva-e-trovoadas'}}]}]}, 'status_code': 200}\n",
      "{'data': {'getWeatherNow': [{'data': [{'locale': {'idlocale': 7501, 'idcity': 6472, 'capital': False, 'idcountry': 7, 'ac': 'BR', 'country': 'Brasil', 'uf': 'PA', 'city': 'Santa Luzia do Pará', 'region': 'N', 'seaside': False, 'latitude': -1.524, 'longitude': -46.898, 'tourist': False, 'agricultural': False, 'base': 'cities'}, 'weather': {'id': 7501, 'name': 'Santa Luzia do Pará', 'date': '04/09/2025', 'dayWeek': 'Quinta-feira', 'dateUpdate': '22:29:00', 'temperature': 25, 'windDirection': 0, 'windVelocity': 7, 'windDirectionDegrees': 230, 'humidity': 80, 'condition': 'Muitas nuvens', 'pressure': 1012, 'icon': '2rn', 'sensation': 25, 'slugCondition': 'muitas-nuvens'}}]}]}, 'status_code': 200}\n",
      "{'data': {'getWeatherNow': [{'data': [{'locale': {'idlocale': 7502, 'idcity': 6858, 'capital': False, 'idcountry': 7, 'ac': 'BR', 'country': 'Brasil', 'uf': 'PA', 'city': 'Santa Maria das Barreiras', 'region': 'N', 'seaside': False, 'latitude': -8.872, 'longitude': -49.713, 'tourist': False, 'agricultural': False, 'base': 'cities'}, 'weather': {'id': 7502, 'name': 'Santa Maria das Barreiras', 'date': '04/09/2025', 'dayWeek': 'Quinta-feira', 'dateUpdate': '22:29:00', 'temperature': 32, 'windDirection': 0, 'windVelocity': 3, 'windDirectionDegrees': 30, 'humidity': 49, 'condition': 'Céu limpo', 'pressure': 1009, 'icon': '1n', 'sensation': 33, 'slugCondition': 'céu-limpo'}}]}]}, 'status_code': 200}\n",
      "{'data': {'getWeatherNow': [{'data': [{'locale': {'idlocale': 7503, 'idcity': 6473, 'capital': False, 'idcountry': 7, 'ac': 'BR', 'country': 'Brasil', 'uf': 'PA', 'city': 'Santa Maria do Pará', 'region': 'N', 'seaside': False, 'latitude': -1.35, 'longitude': -47.576, 'tourist': False, 'agricultural': False, 'base': 'cities'}, 'weather': {'id': 7503, 'name': 'Santa Maria do Pará', 'date': '04/09/2025', 'dayWeek': 'Quinta-feira', 'dateUpdate': '22:29:00', 'temperature': 25, 'windDirection': 0, 'windVelocity': 7, 'windDirectionDegrees': 237, 'humidity': 82, 'condition': 'Chuva e trovoadas', 'pressure': 1012, 'icon': '6n', 'sensation': 25, 'slugCondition': 'chuva-e-trovoadas'}}]}]}, 'status_code': 200}\n",
      "{'data': {'getWeatherNow': [{'data': [{'locale': {'idlocale': 7504, 'idcity': 1559, 'capital': False, 'idcountry': 7, 'ac': 'BR', 'country': 'Brasil', 'uf': 'PA', 'city': 'Santana do Araguaia', 'region': 'N', 'seaside': False, 'latitude': -9.297, 'longitude': -50.102, 'tourist': False, 'agricultural': False, 'base': 'cities'}, 'weather': {'id': 7504, 'name': 'Santana do Araguaia', 'date': '04/09/2025', 'dayWeek': 'Quinta-feira', 'dateUpdate': '22:29:00', 'temperature': 32, 'windDirection': 0, 'windVelocity': 4, 'windDirectionDegrees': 31, 'humidity': 48, 'condition': 'Céu limpo', 'pressure': 1009, 'icon': '1n', 'sensation': 34, 'slugCondition': 'céu-limpo'}}]}]}, 'status_code': 200}\n",
      "{'data': {'getWeatherNow': [{'data': [{'locale': {'idlocale': 7506, 'idcity': 249, 'capital': False, 'idcountry': 7, 'ac': 'BR', 'country': 'Brasil', 'uf': 'PA', 'city': 'Santarém', 'region': 'N', 'seaside': False, 'latitude': -2.5, 'longitude': -54.708, 'tourist': False, 'agricultural': False, 'base': 'cities'}, 'weather': {'id': 7506, 'name': 'Santarém', 'date': '04/09/2025', 'dayWeek': 'Quinta-feira', 'dateUpdate': '22:29:00', 'temperature': 29, 'windDirection': 0, 'windVelocity': 12, 'windDirectionDegrees': 204, 'humidity': 73, 'condition': 'Muitas nuvens', 'pressure': 0, 'icon': '2rn', 'sensation': 33, 'slugCondition': 'muitas-nuvens'}}]}]}, 'status_code': 200}\n",
      "{'data': {'getWeatherNow': [{'data': [{'locale': {'idlocale': 7505, 'idcity': 6474, 'capital': False, 'idcountry': 7, 'ac': 'BR', 'country': 'Brasil', 'uf': 'PA', 'city': 'Santarém Novo', 'region': 'N', 'seaside': False, 'latitude': -0.929, 'longitude': -47.397, 'tourist': False, 'agricultural': False, 'base': 'cities'}, 'weather': {'id': 7505, 'name': 'Santarém Novo', 'date': '04/09/2025', 'dayWeek': 'Quinta-feira', 'dateUpdate': '22:29:00', 'temperature': 26, 'windDirection': 0, 'windVelocity': 8, 'windDirectionDegrees': 240, 'humidity': 83, 'condition': 'Chuvoso', 'pressure': 1012, 'icon': '5n', 'sensation': 27, 'slugCondition': 'chuvoso'}}]}]}, 'status_code': 200}\n",
      "{'data': {'getWeatherNow': [{'data': [{'locale': {'idlocale': 7507, 'idcity': 6475, 'capital': False, 'idcountry': 7, 'ac': 'BR', 'country': 'Brasil', 'uf': 'PA', 'city': 'Santo Antônio do Tauá', 'region': 'N', 'seaside': False, 'latitude': -1.152, 'longitude': -48.129, 'tourist': False, 'agricultural': False, 'base': 'cities'}, 'weather': {'id': 7507, 'name': 'Santo Antônio do Tauá', 'date': '04/09/2025', 'dayWeek': 'Quinta-feira', 'dateUpdate': '22:29:00', 'temperature': 27, 'windDirection': 0, 'windVelocity': 8, 'windDirectionDegrees': 241, 'humidity': 83, 'condition': 'Chuvoso', 'pressure': 1012, 'icon': '5n', 'sensation': 30, 'slugCondition': 'chuvoso'}}]}]}, 'status_code': 200}\n",
      "{'data': {'getWeatherNow': [{'data': [{'locale': {'idlocale': 7517, 'idcity': 6476, 'capital': False, 'idcountry': 7, 'ac': 'BR', 'country': 'Brasil', 'uf': 'PA', 'city': 'Sapucaia', 'region': 'N', 'seaside': False, 'latitude': -6.947, 'longitude': -49.682, 'tourist': False, 'agricultural': False, 'base': 'cities'}, 'weather': {'id': 7517, 'name': 'Sapucaia', 'date': '04/09/2025', 'dayWeek': 'Quinta-feira', 'dateUpdate': '22:29:00', 'temperature': 26, 'windDirection': 0, 'windVelocity': 2, 'windDirectionDegrees': 40, 'humidity': 53, 'condition': 'Céu limpo', 'pressure': 1010, 'icon': '1n', 'sensation': 26, 'slugCondition': 'céu-limpo'}}]}]}, 'status_code': 200}\n",
      "{'data': {'getWeatherNow': [{'data': [{'locale': {'idlocale': 7518, 'idcity': 250, 'capital': False, 'idcountry': 7, 'ac': 'BR', 'country': 'Brasil', 'uf': 'PA', 'city': 'Senador José Porfírio', 'region': 'N', 'seaside': False, 'latitude': -2.591, 'longitude': -51.954, 'tourist': False, 'agricultural': False, 'base': 'cities'}, 'weather': {'id': 7518, 'name': 'Senador José Porfírio', 'date': '04/09/2025', 'dayWeek': 'Quinta-feira', 'dateUpdate': '22:29:00', 'temperature': 29, 'windDirection': 0, 'windVelocity': 8, 'windDirectionDegrees': 164, 'humidity': 82, 'condition': 'Céu limpo', 'pressure': 0, 'icon': '1n', 'sensation': 35, 'slugCondition': 'céu-limpo'}}]}]}, 'status_code': 200}\n",
      "{'data': {'getWeatherNow': [{'data': [{'locale': {'idlocale': 7519, 'idcity': 251, 'capital': False, 'idcountry': 7, 'ac': 'BR', 'country': 'Brasil', 'uf': 'PA', 'city': 'Soure', 'region': 'N', 'seaside': True, 'latitude': -0.717, 'longitude': -48.6, 'tourist': False, 'agricultural': False, 'base': 'cities'}, 'weather': {'id': 7519, 'name': 'Soure', 'date': '04/09/2025', 'dayWeek': 'Quinta-feira', 'dateUpdate': '22:29:00', 'temperature': 27, 'windDirection': 0, 'windVelocity': 9, 'windDirectionDegrees': 243, 'humidity': 84, 'condition': 'Chuva e trovoadas', 'pressure': 1012, 'icon': '6n', 'sensation': 31, 'slugCondition': 'chuva-e-trovoadas'}}]}]}, 'status_code': 200}\n",
      "{'data': {'getWeatherNow': [{'data': [{'locale': {'idlocale': 7508, 'idcity': 247, 'capital': False, 'idcountry': 7, 'ac': 'BR', 'country': 'Brasil', 'uf': 'PA', 'city': 'São Caetano de Odivelas', 'region': 'N', 'seaside': True, 'latitude': -0.75, 'longitude': -48, 'tourist': False, 'agricultural': False, 'base': 'cities'}, 'weather': {'id': 7508, 'name': 'São Caetano de Odivelas', 'date': '04/09/2025', 'dayWeek': 'Quinta-feira', 'dateUpdate': '22:29:00', 'temperature': 27, 'windDirection': 0, 'windVelocity': 9, 'windDirectionDegrees': 243, 'humidity': 84, 'condition': 'Nublado', 'pressure': 1012, 'icon': '3n', 'sensation': 29, 'slugCondition': 'nublado'}}]}]}, 'status_code': 200}\n",
      "{'data': {'getWeatherNow': [{'data': [{'locale': {'idlocale': 7509, 'idcity': 6859, 'capital': False, 'idcountry': 7, 'ac': 'BR', 'country': 'Brasil', 'uf': 'PA', 'city': 'São Domingos do Araguaia', 'region': 'N', 'seaside': False, 'latitude': -5.538, 'longitude': -48.733, 'tourist': False, 'agricultural': False, 'base': 'cities'}, 'weather': {'id': 7509, 'name': 'São Domingos do Araguaia', 'date': '04/09/2025', 'dayWeek': 'Quinta-feira', 'dateUpdate': '22:29:00', 'temperature': 30, 'windDirection': 0, 'windVelocity': 3, 'windDirectionDegrees': 180, 'humidity': 59, 'condition': 'Céu limpo', 'pressure': 1010, 'icon': '1n', 'sensation': 33, 'slugCondition': 'céu-limpo'}}]}]}, 'status_code': 200}\n",
      "{'data': {'getWeatherNow': [{'data': [{'locale': {'idlocale': 7510, 'idcity': 1560, 'capital': False, 'idcountry': 7, 'ac': 'BR', 'country': 'Brasil', 'uf': 'PA', 'city': 'São Domingos do Capim', 'region': 'N', 'seaside': False, 'latitude': -1.674, 'longitude': -47.771, 'tourist': False, 'agricultural': False, 'base': 'cities'}, 'weather': {'id': 7510, 'name': 'São Domingos do Capim', 'date': '04/09/2025', 'dayWeek': 'Quinta-feira', 'dateUpdate': '22:12:00', 'temperature': 27, 'windDirection': 0, 'windVelocity': 0, 'windDirectionDegrees': 69, 'humidity': 81, 'condition': 'Nublado', 'pressure': 1012, 'icon': '3n', 'sensation': 30, 'slugCondition': 'nublado'}}]}]}, 'status_code': 200}\n",
      "{'data': {'getWeatherNow': [{'data': [{'locale': {'idlocale': 7512, 'idcity': 6477, 'capital': False, 'idcountry': 7, 'ac': 'BR', 'country': 'Brasil', 'uf': 'PA', 'city': 'São Francisco do Pará', 'region': 'N', 'seaside': False, 'latitude': -1.169, 'longitude': -47.795, 'tourist': False, 'agricultural': False, 'base': 'cities'}, 'weather': {'id': 7512, 'name': 'São Francisco do Pará', 'date': '04/09/2025', 'dayWeek': 'Quinta-feira', 'dateUpdate': '22:29:00', 'temperature': 26, 'windDirection': 0, 'windVelocity': 8, 'windDirectionDegrees': 240, 'humidity': 83, 'condition': 'Chuva e trovoadas', 'pressure': 1012, 'icon': '6n', 'sensation': 28, 'slugCondition': 'chuva-e-trovoadas'}}]}]}, 'status_code': 200}\n",
      "{'data': {'getWeatherNow': [{'data': [{'locale': {'idlocale': 7511, 'idcity': 1561, 'capital': False, 'idcountry': 7, 'ac': 'BR', 'country': 'Brasil', 'uf': 'PA', 'city': 'São Félix do Xingu', 'region': 'N', 'seaside': False, 'latitude': -6.645, 'longitude': -51.995, 'tourist': False, 'agricultural': False, 'base': 'cities'}, 'weather': {'id': 7511, 'name': 'São Félix do Xingu', 'date': '04/09/2025', 'dayWeek': 'Quinta-feira', 'dateUpdate': '22:29:00', 'temperature': 28, 'windDirection': 0, 'windVelocity': 2, 'windDirectionDegrees': 180, 'humidity': 61, 'condition': 'Céu limpo', 'pressure': 789, 'icon': '1n', 'sensation': 29, 'slugCondition': 'céu-limpo'}}]}]}, 'status_code': 200}\n",
      "{'data': {'getWeatherNow': [{'data': [{'locale': {'idlocale': 7513, 'idcity': 6857, 'capital': False, 'idcountry': 7, 'ac': 'BR', 'country': 'Brasil', 'uf': 'PA', 'city': 'São Geraldo do Araguaia', 'region': 'N', 'seaside': False, 'latitude': -6.401, 'longitude': -48.555, 'tourist': False, 'agricultural': False, 'base': 'cities'}, 'weather': {'id': 7513, 'name': 'São Geraldo do Araguaia', 'date': '04/09/2025', 'dayWeek': 'Quinta-feira', 'dateUpdate': '22:29:00', 'temperature': 29, 'windDirection': 0, 'windVelocity': 3, 'windDirectionDegrees': 32, 'humidity': 54, 'condition': 'Céu limpo', 'pressure': 1010, 'icon': '1n', 'sensation': 30, 'slugCondition': 'céu-limpo'}}]}]}, 'status_code': 200}\n",
      "{'data': {'getWeatherNow': [{'data': [{'locale': {'idlocale': 6046, 'idcity': 6595, 'capital': False, 'idcountry': 7, 'ac': 'BR', 'country': 'Brasil', 'uf': 'PA', 'city': 'São João da Ponta', 'region': 'N', 'seaside': False, 'latitude': -0.85, 'longitude': -47.92, 'tourist': False, 'agricultural': False, 'base': 'cities'}, 'weather': {'id': 6046, 'name': 'São João da Ponta', 'date': '04/09/2025', 'dayWeek': 'Quinta-feira', 'dateUpdate': '22:29:00', 'temperature': 27, 'windDirection': 0, 'windVelocity': 8, 'windDirectionDegrees': 242, 'humidity': 84, 'condition': 'Chuva e trovoadas', 'pressure': 1012, 'icon': '6n', 'sensation': 29, 'slugCondition': 'chuva-e-trovoadas'}}]}]}, 'status_code': 200}\n",
      "{'data': {'getWeatherNow': [{'data': [{'locale': {'idlocale': 6047, 'idcity': 6596, 'capital': False, 'idcountry': 7, 'ac': 'BR', 'country': 'Brasil', 'uf': 'PA', 'city': 'São João de Pirabas', 'region': 'N', 'seaside': True, 'latitude': -0.775, 'longitude': -47.3, 'tourist': False, 'agricultural': False, 'base': 'cities'}, 'weather': {'id': 6047, 'name': 'São João de Pirabas', 'date': '04/09/2025', 'dayWeek': 'Quinta-feira', 'dateUpdate': '22:29:00', 'temperature': 26, 'windDirection': 0, 'windVelocity': 8, 'windDirectionDegrees': 240, 'humidity': 83, 'condition': 'Muitas nuvens', 'pressure': 1012, 'icon': '2rn', 'sensation': 28, 'slugCondition': 'muitas-nuvens'}}]}]}, 'status_code': 200}\n",
      "{'data': {'getWeatherNow': [{'data': [{'locale': {'idlocale': 7514, 'idcity': 1562, 'capital': False, 'idcountry': 7, 'ac': 'BR', 'country': 'Brasil', 'uf': 'PA', 'city': 'São João do Araguaia', 'region': 'N', 'seaside': False, 'latitude': -5.358, 'longitude': -48.791, 'tourist': False, 'agricultural': False, 'base': 'cities'}, 'weather': {'id': 7514, 'name': 'São João do Araguaia', 'date': '04/09/2025', 'dayWeek': 'Quinta-feira', 'dateUpdate': '22:29:00', 'temperature': 30, 'windDirection': 0, 'windVelocity': 3, 'windDirectionDegrees': 180, 'humidity': 61, 'condition': 'Algumas nuvens', 'pressure': 1010, 'icon': '2n', 'sensation': 33, 'slugCondition': 'algumas-nuvens'}}]}]}, 'status_code': 200}\n",
      "{'data': {'getWeatherNow': [{'data': [{'locale': {'idlocale': 7515, 'idcity': 1563, 'capital': False, 'idcountry': 7, 'ac': 'BR', 'country': 'Brasil', 'uf': 'PA', 'city': 'São Miguel do Guamá', 'region': 'N', 'seaside': False, 'latitude': -1.627, 'longitude': -47.483, 'tourist': False, 'agricultural': False, 'base': 'cities'}, 'weather': {'id': 7515, 'name': 'São Miguel do Guamá', 'date': '04/09/2025', 'dayWeek': 'Quinta-feira', 'dateUpdate': '22:29:00', 'temperature': 25, 'windDirection': 0, 'windVelocity': 7, 'windDirectionDegrees': 234, 'humidity': 81, 'condition': 'Chuvoso', 'pressure': 1012, 'icon': '5n', 'sensation': 25, 'slugCondition': 'chuvoso'}}]}]}, 'status_code': 200}\n",
      "{'data': {'getWeatherNow': [{'data': [{'locale': {'idlocale': 7516, 'idcity': 6860, 'capital': False, 'idcountry': 7, 'ac': 'BR', 'country': 'Brasil', 'uf': 'PA', 'city': 'São Sebastião da Boa Vista', 'region': 'N', 'seaside': False, 'latitude': -1.718, 'longitude': -49.541, 'tourist': False, 'agricultural': False, 'base': 'cities'}, 'weather': {'id': 7516, 'name': 'São Sebastião da Boa Vista', 'date': '04/09/2025', 'dayWeek': 'Quinta-feira', 'dateUpdate': '22:29:00', 'temperature': 28, 'windDirection': 0, 'windVelocity': 9, 'windDirectionDegrees': 221, 'humidity': 83, 'condition': 'Céu limpo', 'pressure': 1012, 'icon': '1n', 'sensation': 33, 'slugCondition': 'céu-limpo'}}]}]}, 'status_code': 200}\n",
      "{'data': {'getWeatherNow': [{'data': [{'locale': {'idlocale': 4004, 'idcity': 4948, 'capital': False, 'idcountry': 7, 'ac': 'BR', 'country': 'Brasil', 'uf': 'PA', 'city': 'Tailândia', 'region': 'N', 'seaside': False, 'latitude': -2.947, 'longitude': -48.953, 'tourist': False, 'agricultural': False, 'base': 'cities'}, 'weather': {'id': 4004, 'name': 'Tailândia', 'date': '04/09/2025', 'dayWeek': 'Quinta-feira', 'dateUpdate': '22:29:00', 'temperature': 29, 'windDirection': 0, 'windVelocity': 5, 'windDirectionDegrees': 235, 'humidity': 75, 'condition': 'Céu limpo', 'pressure': 1012, 'icon': '1n', 'sensation': 32, 'slugCondition': 'céu-limpo'}}]}]}, 'status_code': 200}\n",
      "{'data': {'getWeatherNow': [{'data': [{'locale': {'idlocale': 6048, 'idcity': 6597, 'capital': False, 'idcountry': 7, 'ac': 'BR', 'country': 'Brasil', 'uf': 'PA', 'city': 'Terra Alta', 'region': 'N', 'seaside': False, 'latitude': -1.041, 'longitude': -47.907, 'tourist': False, 'agricultural': False, 'base': 'cities'}, 'weather': {'id': 6048, 'name': 'Terra Alta', 'date': '04/09/2025', 'dayWeek': 'Quinta-feira', 'dateUpdate': '22:29:00', 'temperature': 27, 'windDirection': 0, 'windVelocity': 8, 'windDirectionDegrees': 241, 'humidity': 83, 'condition': 'Chuva e trovoadas', 'pressure': 1012, 'icon': '6n', 'sensation': 30, 'slugCondition': 'chuva-e-trovoadas'}}]}]}, 'status_code': 200}\n",
      "{'data': {'getWeatherNow': [{'data': [{'locale': {'idlocale': 7520, 'idcity': 6478, 'capital': False, 'idcountry': 7, 'ac': 'BR', 'country': 'Brasil', 'uf': 'PA', 'city': 'Terra Santa', 'region': 'N', 'seaside': False, 'latitude': -2.104, 'longitude': -56.487, 'tourist': False, 'agricultural': False, 'base': 'cities'}, 'weather': {'id': 7520, 'name': 'Terra Santa', 'date': '04/09/2025', 'dayWeek': 'Quinta-feira', 'dateUpdate': '22:29:00', 'temperature': 28, 'windDirection': 0, 'windVelocity': 15, 'windDirectionDegrees': 201, 'humidity': 78, 'condition': 'Chuvoso', 'pressure': 0, 'icon': '5n', 'sensation': 31, 'slugCondition': 'chuvoso'}}]}]}, 'status_code': 200}\n",
      "{'data': {'getWeatherNow': [{'data': [{'locale': {'idlocale': 7521, 'idcity': 1219, 'capital': False, 'idcountry': 7, 'ac': 'BR', 'country': 'Brasil', 'uf': 'PA', 'city': 'Tomé-Açu', 'region': 'N', 'seaside': False, 'latitude': -2.419, 'longitude': -48.152, 'tourist': False, 'agricultural': False, 'base': 'cities'}, 'weather': {'id': 7521, 'name': 'Tomé-Açu', 'date': '04/09/2025', 'dayWeek': 'Quinta-feira', 'dateUpdate': '22:29:00', 'temperature': 27, 'windDirection': 0, 'windVelocity': 6, 'windDirectionDegrees': 235, 'humidity': 78, 'condition': 'Algumas nuvens', 'pressure': 1012, 'icon': '2n', 'sensation': 30, 'slugCondition': 'algumas-nuvens'}}]}]}, 'status_code': 200}\n",
      "{'data': {'getWeatherNow': [{'data': [{'locale': {'idlocale': 7522, 'idcity': 252, 'capital': False, 'idcountry': 7, 'ac': 'BR', 'country': 'Brasil', 'uf': 'PA', 'city': 'Tracuateua', 'region': 'N', 'seaside': True, 'latitude': -1.076, 'longitude': -46.903, 'tourist': False, 'agricultural': False, 'base': 'cities'}, 'weather': {'id': 7522, 'name': 'Tracuateua', 'date': '04/09/2025', 'dayWeek': 'Quinta-feira', 'dateUpdate': '22:29:00', 'temperature': 25, 'windDirection': 0, 'windVelocity': 8, 'windDirectionDegrees': 233, 'humidity': 82, 'condition': 'Muitas nuvens', 'pressure': 1012, 'icon': '2rn', 'sensation': 25, 'slugCondition': 'muitas-nuvens'}}]}]}, 'status_code': 200}\n",
      "{'data': {'getWeatherNow': [{'data': [{'locale': {'idlocale': 4197, 'idcity': 5197, 'capital': False, 'idcountry': 7, 'ac': 'BR', 'country': 'Brasil', 'uf': 'PA', 'city': 'Trairão', 'region': 'N', 'seaside': False, 'latitude': -3.5134, 'longitude': -55.6787, 'tourist': False, 'agricultural': False, 'base': 'cities'}, 'weather': {'id': 4197, 'name': 'Trairão', 'date': '04/09/2025', 'dayWeek': 'Quinta-feira', 'dateUpdate': '22:29:00', 'temperature': 28, 'windDirection': 0, 'windVelocity': 12, 'windDirectionDegrees': 208, 'humidity': 73, 'condition': 'Muitas nuvens', 'pressure': 0, 'icon': '2rn', 'sensation': 32, 'slugCondition': 'muitas-nuvens'}}]}]}, 'status_code': 200}\n",
      "{'data': {'getWeatherNow': [{'data': [{'locale': {'idlocale': 5329, 'idcity': 1777, 'capital': False, 'idcountry': 7, 'ac': 'BR', 'country': 'Brasil', 'uf': 'PA', 'city': 'Trombetas', 'region': 'N', 'seaside': False, 'latitude': -1.767, 'longitude': -55.85, 'tourist': False, 'agricultural': False, 'base': 'cities'}, 'weather': {'id': 5329, 'name': 'Trombetas', 'date': '04/09/2025', 'dayWeek': 'Quinta-feira', 'dateUpdate': '22:29:00', 'temperature': 29, 'windDirection': 0, 'windVelocity': 16, 'windDirectionDegrees': 206, 'humidity': 75, 'condition': 'Chuvoso', 'pressure': 0, 'icon': '5n', 'sensation': 32, 'slugCondition': 'chuvoso'}}]}]}, 'status_code': 200}\n",
      "{'data': {'getWeatherNow': [{'data': [{'locale': {'idlocale': 7523, 'idcity': 5198, 'capital': False, 'idcountry': 7, 'ac': 'BR', 'country': 'Brasil', 'uf': 'PA', 'city': 'Tucumã', 'region': 'N', 'seaside': False, 'latitude': -6.748, 'longitude': -51.161, 'tourist': False, 'agricultural': False, 'base': 'cities'}, 'weather': {'id': 7523, 'name': 'Tucumã', 'date': '04/09/2025', 'dayWeek': 'Quinta-feira', 'dateUpdate': '22:29:00', 'temperature': 27, 'windDirection': 0, 'windVelocity': 2, 'windDirectionDegrees': 180, 'humidity': 56, 'condition': 'Algumas nuvens', 'pressure': 1010, 'icon': '2n', 'sensation': 28, 'slugCondition': 'algumas-nuvens'}}]}]}, 'status_code': 200}\n",
      "{'data': {'getWeatherNow': [{'data': [{'locale': {'idlocale': 7524, 'idcity': 1220, 'capital': False, 'idcountry': 7, 'ac': 'BR', 'country': 'Brasil', 'uf': 'PA', 'city': 'Tucuruí', 'region': 'N', 'seaside': False, 'latitude': -3.766, 'longitude': -49.672, 'tourist': False, 'agricultural': False, 'base': 'cities'}, 'weather': {'id': 7524, 'name': 'Tucuruí', 'date': '04/09/2025', 'dayWeek': 'Quinta-feira', 'dateUpdate': '22:29:00', 'temperature': 29, 'windDirection': 0, 'windVelocity': 5, 'windDirectionDegrees': 224, 'humidity': 75, 'condition': 'Céu limpo', 'pressure': 1011, 'icon': '1n', 'sensation': 34, 'slugCondition': 'céu-limpo'}}]}]}, 'status_code': 200}\n",
      "{'data': {'getWeatherNow': [{'data': [{'locale': {'idlocale': 4005, 'idcity': 4949, 'capital': False, 'idcountry': 7, 'ac': 'BR', 'country': 'Brasil', 'uf': 'PA', 'city': 'Ulianópolis', 'region': 'N', 'seaside': False, 'latitude': -3.742, 'longitude': -47.495, 'tourist': False, 'agricultural': False, 'base': 'cities'}, 'weather': {'id': 4005, 'name': 'Ulianópolis', 'date': '04/09/2025', 'dayWeek': 'Quinta-feira', 'dateUpdate': '22:29:00', 'temperature': 28, 'windDirection': 0, 'windVelocity': 5, 'windDirectionDegrees': 220, 'humidity': 67, 'condition': 'Céu limpo', 'pressure': 1011, 'icon': '1n', 'sensation': 30, 'slugCondition': 'céu-limpo'}}]}]}, 'status_code': 200}\n",
      "{'data': {'getWeatherNow': [{'data': [{'locale': {'idlocale': 3197, 'idcity': 3375, 'capital': False, 'idcountry': 7, 'ac': 'BR', 'country': 'Brasil', 'uf': 'PA', 'city': 'Uruará', 'region': 'N', 'seaside': False, 'latitude': -3.718, 'longitude': -53.737, 'tourist': False, 'agricultural': False, 'base': 'cities'}, 'weather': {'id': 3197, 'name': 'Uruará', 'date': '04/09/2025', 'dayWeek': 'Quinta-feira', 'dateUpdate': '22:29:00', 'temperature': 29, 'windDirection': 0, 'windVelocity': 8, 'windDirectionDegrees': 201, 'humidity': 73, 'condition': 'Algumas nuvens', 'pressure': 0, 'icon': '2n', 'sensation': 32, 'slugCondition': 'algumas-nuvens'}}]}]}, 'status_code': 200}\n",
      "{'data': {'getWeatherNow': [{'data': [{'locale': {'idlocale': 6049, 'idcity': 6598, 'capital': False, 'idcountry': 7, 'ac': 'BR', 'country': 'Brasil', 'uf': 'PA', 'city': 'Vigia', 'region': 'N', 'seaside': False, 'latitude': -0.858, 'longitude': -48.142, 'tourist': False, 'agricultural': False, 'base': 'cities'}, 'weather': {'id': 6049, 'name': 'Vigia', 'date': '04/09/2025', 'dayWeek': 'Quinta-feira', 'dateUpdate': '22:29:00', 'temperature': 27, 'windDirection': 0, 'windVelocity': 9, 'windDirectionDegrees': 244, 'humidity': 84, 'condition': 'Nublado', 'pressure': 1012, 'icon': '3n', 'sensation': 30, 'slugCondition': 'nublado'}}]}]}, 'status_code': 200}\n",
      "{'data': {'getWeatherNow': [{'data': [{'locale': {'idlocale': 7525, 'idcity': 253, 'capital': False, 'idcountry': 7, 'ac': 'BR', 'country': 'Brasil', 'uf': 'PA', 'city': 'Viseu', 'region': 'N', 'seaside': True, 'latitude': -1.197, 'longitude': -46.14, 'tourist': False, 'agricultural': False, 'base': 'cities'}, 'weather': {'id': 7525, 'name': 'Viseu', 'date': '04/09/2025', 'dayWeek': 'Quinta-feira', 'dateUpdate': '22:29:00', 'temperature': 26, 'windDirection': 0, 'windVelocity': 9, 'windDirectionDegrees': 222, 'humidity': 81, 'condition': 'Muitas nuvens', 'pressure': 1012, 'icon': '2rn', 'sensation': 27, 'slugCondition': 'muitas-nuvens'}}]}]}, 'status_code': 200}\n",
      "{'data': {'getWeatherNow': [{'data': [{'locale': {'idlocale': 7526, 'idcity': 6479, 'capital': False, 'idcountry': 7, 'ac': 'BR', 'country': 'Brasil', 'uf': 'PA', 'city': 'Vitória do Xingu', 'region': 'N', 'seaside': False, 'latitude': -2.88, 'longitude': -52.01, 'tourist': False, 'agricultural': False, 'base': 'cities'}, 'weather': {'id': 7526, 'name': 'Vitória do Xingu', 'date': '04/09/2025', 'dayWeek': 'Quinta-feira', 'dateUpdate': '22:29:00', 'temperature': 29, 'windDirection': 0, 'windVelocity': 7, 'windDirectionDegrees': 170, 'humidity': 81, 'condition': 'Céu limpo', 'pressure': 0, 'icon': '1n', 'sensation': 35, 'slugCondition': 'céu-limpo'}}]}]}, 'status_code': 200}\n",
      "{'data': {'getWeatherNow': [{'data': [{'locale': {'idlocale': 7527, 'idcity': 1221, 'capital': False, 'idcountry': 7, 'ac': 'BR', 'country': 'Brasil', 'uf': 'PA', 'city': 'Xinguara', 'region': 'N', 'seaside': False, 'latitude': -7.095, 'longitude': -49.946, 'tourist': False, 'agricultural': False, 'base': 'cities'}, 'weather': {'id': 7527, 'name': 'Xinguara', 'date': '04/09/2025', 'dayWeek': 'Quinta-feira', 'dateUpdate': '22:29:00', 'temperature': 26, 'windDirection': 0, 'windVelocity': 2, 'windDirectionDegrees': 42, 'humidity': 49, 'condition': 'Céu limpo', 'pressure': 1010, 'icon': '1n', 'sensation': 26, 'slugCondition': 'céu-limpo'}}]}]}, 'status_code': 200}\n"
     ]
    },
    {
     "data": {
      "text/plain": [
       "[{'lat': -1.718, 'lon': -48.883, 'temperatura': 29},\n",
       " {'lat': -4.954, 'lon': -48.393, 'temperatura': 30},\n",
       " {'lat': -1.961, 'lon': -48.197, 'temperatura': 27},\n",
       " {'lat': -0.157, 'lon': -50.387, 'temperatura': 27},\n",
       " {'lat': -1.942, 'lon': -54.738, 'temperatura': 29},\n",
       " {'lat': -0.583, 'lon': -47.567, 'temperatura': 26},\n",
       " {'lat': -1.523, 'lon': -52.582, 'temperatura': 28},\n",
       " {'lat': -3.203, 'lon': -52.206, 'temperatura': 29},\n",
       " {'lat': -0.987, 'lon': -49.94, 'temperatura': 28},\n",
       " {'lat': -1.366, 'lon': -48.372, 'temperatura': 28},\n",
       " {'lat': -3.472, 'lon': -51.198, 'temperatura': 29},\n",
       " {'lat': -1.022, 'lon': -46.635, 'temperatura': 26},\n",
       " {'lat': -2.134, 'lon': -47.559, 'temperatura': 26},\n",
       " {'lat': -3.606, 'lon': -55.332, 'temperatura': 29},\n",
       " {'lat': -1.9, 'lon': -50.164, 'temperatura': 28},\n",
       " {'lat': -2.791, 'lon': -49.672, 'temperatura': 29},\n",
       " {'lat': -7.348, 'lon': -50.396, 'temperatura': 27},\n",
       " {'lat': -1.506, 'lon': -48.626, 'temperatura': 29},\n",
       " {'lat': -3.083, 'lon': -51.767, 'temperatura': 29},\n",
       " {'lat': -2.636, 'lon': -54.937, 'temperatura': 29},\n",
       " {'lat': -1.411, 'lon': -48.44, 'temperatura': 29},\n",
       " {'lat': -1.361, 'lon': -48.245, 'temperatura': 27},\n",
       " {'lat': -5.051, 'lon': -48.609, 'temperatura': 29},\n",
       " {'lat': -1.363, 'lon': -47.306, 'temperatura': 25},\n",
       " {'lat': -1.054, 'lon': -46.766, 'temperatura': 24},\n",
       " {'lat': -3.305, 'lon': -53.536, 'temperatura': 29},\n",
       " {'lat': -5.699, 'lon': -48.413, 'temperatura': 31},\n",
       " {'lat': -4.068, 'lon': -49.637, 'temperatura': 29},\n",
       " {'lat': -1.682, 'lon': -50.48, 'temperatura': 28},\n",
       " {'lat': -1.515, 'lon': -48.045, 'temperatura': 26},\n",
       " {'lat': -1.011, 'lon': -48.963, 'temperatura': 28},\n",
       " {'lat': -1.76, 'lon': -46.545, 'temperatura': 25},\n",
       " {'lat': -2.244, 'lon': -49.496, 'temperatura': 29},\n",
       " {'lat': -6.497, 'lon': -49.878, 'temperatura': 26},\n",
       " {'lat': -1.196, 'lon': -47.181, 'temperatura': 25},\n",
       " {'lat': -1.746, 'lon': -47.059, 'temperatura': 24},\n",
       " {'lat': -2.95, 'lon': -51.867, 'temperatura': 29},\n",
       " {'lat': -1.294, 'lon': -47.926, 'temperatura': 25},\n",
       " {'lat': -0.16, 'lon': -49.988, 'temperatura': 27},\n",
       " {'lat': -0.937, 'lon': -48.282, 'temperatura': 27},\n",
       " {'lat': -8.258, 'lon': -49.265, 'temperatura': 28},\n",
       " {'lat': -2.002, 'lon': -47.95, 'temperatura': 26},\n",
       " {'lat': -7.825, 'lon': -50.773, 'temperatura': 29},\n",
       " {'lat': -6.102, 'lon': -49.598, 'temperatura': 26},\n",
       " {'lat': -1.814, 'lon': -49.795, 'temperatura': 28},\n",
       " {'lat': -1.888, 'lon': -55.117, 'temperatura': 29},\n",
       " {'lat': -0.729, 'lon': -47.848, 'temperatura': 27},\n",
       " {'lat': -4.285, 'lon': -47.505, 'temperatura': 30},\n",
       " {'lat': -6.104, 'lon': -49.355, 'temperatura': 27},\n",
       " {'lat': -2.171, 'lon': -56.745, 'temperatura': 27},\n",
       " {'lat': -7.554, 'lon': -49.713, 'temperatura': 35},\n",
       " {'lat': -1.934, 'lon': -47.052, 'temperatura': 25},\n",
       " {'lat': -3.843, 'lon': -49.097, 'temperatura': 29},\n",
       " {'lat': -1.405, 'lon': -51.64, 'temperatura': 28},\n",
       " {'lat': -1.302, 'lon': -48.485, 'temperatura': 28},\n",
       " {'lat': -1.129, 'lon': -47.62, 'temperatura': 25},\n",
       " {'lat': -1.975, 'lon': -48.96, 'temperatura': 29},\n",
       " {'lat': -0.983, 'lon': -49.95, 'temperatura': 28},\n",
       " {'lat': -1.43, 'lon': -47.92, 'temperatura': 25},\n",
       " {'lat': -2.558, 'lon': -47.495, 'temperatura': 26},\n",
       " {'lat': -1.771, 'lon': -47.438, 'temperatura': 25},\n",
       " {'lat': -4.276, 'lon': -55.984, 'temperatura': 29},\n",
       " {'lat': -5.135, 'lon': -49.327, 'temperatura': 29},\n",
       " {'lat': -6.222, 'lon': -57.753, 'temperatura': 29},\n",
       " {'lat': -4.451, 'lon': -49.116, 'temperatura': 29},\n",
       " {'lat': -2.152, 'lon': -56.092, 'temperatura': 28},\n",
       " {'lat': -1.895, 'lon': -49.381, 'temperatura': 29},\n",
       " {'lat': -0.794, 'lon': -47.599, 'temperatura': 26},\n",
       " {'lat': -5.369, 'lon': -49.118, 'temperatura': 29},\n",
       " {'lat': -0.595, 'lon': -47.582, 'temperatura': 26},\n",
       " {'lat': -0.718, 'lon': -47.7, 'temperatura': 27},\n",
       " {'lat': -1.355, 'lon': -48.342, 'temperatura': 28},\n",
       " {'lat': -0.626, 'lon': -47.636, 'temperatura': 26},\n",
       " {'lat': -3.446, 'lon': -52.889, 'temperatura': 29},\n",
       " {'lat': -1.804, 'lon': -50.712, 'temperatura': 28},\n",
       " {'lat': -2.584, 'lon': -49.507, 'temperatura': 29},\n",
       " {'lat': -1.884, 'lon': -48.769, 'temperatura': 29},\n",
       " {'lat': -2.008, 'lon': -54.069, 'temperatura': 29},\n",
       " {'lat': -0.867, 'lon': -52.528, 'temperatura': 28},\n",
       " {'lat': -1.528, 'lon': -49.217, 'temperatura': 28},\n",
       " {'lat': -2.046, 'lon': -47.551, 'temperatura': 26},\n",
       " {'lat': -2.268, 'lon': -46.968, 'temperatura': 25},\n",
       " {'lat': -4.921, 'lon': -49.077, 'temperatura': 28},\n",
       " {'lat': -1.208, 'lon': -47.392, 'temperatura': 25},\n",
       " {'lat': -7.148, 'lon': -55.381, 'temperatura': 29},\n",
       " {'lat': -4.4, 'lon': -49.796, 'temperatura': 28},\n",
       " {'lat': -2.003, 'lon': -49.854, 'temperatura': 29},\n",
       " {'lat': -1.766, 'lon': -55.866, 'temperatura': 29},\n",
       " {'lat': -6.755, 'lon': -51.084, 'temperatura': 27},\n",
       " {'lat': -1.552, 'lon': -47.114, 'temperatura': 25},\n",
       " {'lat': -3.838, 'lon': -50.638, 'temperatura': 28},\n",
       " {'lat': -5.742, 'lon': -48.317, 'temperatura': 32},\n",
       " {'lat': -2.996, 'lon': -47.353, 'temperatura': 27},\n",
       " {'lat': -6.067, 'lon': -49.902, 'temperatura': 24},\n",
       " {'lat': -7.833, 'lon': -50.044, 'temperatura': 29},\n",
       " {'lat': -1.192, 'lon': -47.312, 'temperatura': 25},\n",
       " {'lat': -6.438, 'lon': -48.872, 'temperatura': 28},\n",
       " {'lat': -3.868, 'lon': -54.22, 'temperatura': 29},\n",
       " {'lat': -1.39, 'lon': -48.871, 'temperatura': 29},\n",
       " {'lat': -1.936, 'lon': -50.821, 'temperatura': 28},\n",
       " {'lat': -1.383, 'lon': -56.45, 'temperatura': 28},\n",
       " {'lat': -1.748, 'lon': -52.238, 'temperatura': 28},\n",
       " {'lat': -1.8, 'lon': -53.48, 'temperatura': 29},\n",
       " {'lat': -0.94, 'lon': -47.116, 'temperatura': 25},\n",
       " {'lat': -0.897, 'lon': -47.005, 'temperatura': 26},\n",
       " {'lat': -8.029, 'lon': -50.031, 'temperatura': 29},\n",
       " {'lat': -7.311, 'lon': -50.048, 'temperatura': 27},\n",
       " {'lat': -4.776, 'lon': -48.067, 'temperatura': 30},\n",
       " {'lat': -4.096, 'lon': -54.91, 'temperatura': 28},\n",
       " {'lat': -0.614, 'lon': -47.356, 'temperatura': 26},\n",
       " {'lat': -0.753, 'lon': -48.6, 'temperatura': 27},\n",
       " {'lat': -1.224, 'lon': -48.294, 'temperatura': 28},\n",
       " {'lat': -0.663, 'lon': -49.175, 'temperatura': 27},\n",
       " {'lat': -1.299, 'lon': -48.161, 'temperatura': 27},\n",
       " {'lat': -1.524, 'lon': -46.898, 'temperatura': 25},\n",
       " {'lat': -8.872, 'lon': -49.713, 'temperatura': 32},\n",
       " {'lat': -1.35, 'lon': -47.576, 'temperatura': 25},\n",
       " {'lat': -9.297, 'lon': -50.102, 'temperatura': 32},\n",
       " {'lat': -2.5, 'lon': -54.708, 'temperatura': 29},\n",
       " {'lat': -0.929, 'lon': -47.397, 'temperatura': 26},\n",
       " {'lat': -1.152, 'lon': -48.129, 'temperatura': 27},\n",
       " {'lat': -6.947, 'lon': -49.682, 'temperatura': 26},\n",
       " {'lat': -2.591, 'lon': -51.954, 'temperatura': 29},\n",
       " {'lat': -0.717, 'lon': -48.6, 'temperatura': 27},\n",
       " {'lat': -0.75, 'lon': -48, 'temperatura': 27},\n",
       " {'lat': -5.538, 'lon': -48.733, 'temperatura': 30},\n",
       " {'lat': -1.674, 'lon': -47.771, 'temperatura': 27},\n",
       " {'lat': -1.169, 'lon': -47.795, 'temperatura': 26},\n",
       " {'lat': -6.645, 'lon': -51.995, 'temperatura': 28},\n",
       " {'lat': -6.401, 'lon': -48.555, 'temperatura': 29},\n",
       " {'lat': -0.85, 'lon': -47.92, 'temperatura': 27},\n",
       " {'lat': -0.775, 'lon': -47.3, 'temperatura': 26},\n",
       " {'lat': -5.358, 'lon': -48.791, 'temperatura': 30},\n",
       " {'lat': -1.627, 'lon': -47.483, 'temperatura': 25},\n",
       " {'lat': -1.718, 'lon': -49.541, 'temperatura': 28},\n",
       " {'lat': -2.947, 'lon': -48.953, 'temperatura': 29},\n",
       " {'lat': -1.041, 'lon': -47.907, 'temperatura': 27},\n",
       " {'lat': -2.104, 'lon': -56.487, 'temperatura': 28},\n",
       " {'lat': -2.419, 'lon': -48.152, 'temperatura': 27},\n",
       " {'lat': -1.076, 'lon': -46.903, 'temperatura': 25},\n",
       " {'lat': -3.5134, 'lon': -55.6787, 'temperatura': 28},\n",
       " {'lat': -1.767, 'lon': -55.85, 'temperatura': 29},\n",
       " {'lat': -6.748, 'lon': -51.161, 'temperatura': 27},\n",
       " {'lat': -3.766, 'lon': -49.672, 'temperatura': 29},\n",
       " {'lat': -3.742, 'lon': -47.495, 'temperatura': 28},\n",
       " {'lat': -3.718, 'lon': -53.737, 'temperatura': 29},\n",
       " {'lat': -0.858, 'lon': -48.142, 'temperatura': 27},\n",
       " {'lat': -1.197, 'lon': -46.14, 'temperatura': 26},\n",
       " {'lat': -2.88, 'lon': -52.01, 'temperatura': 29},\n",
       " {'lat': -7.095, 'lon': -49.946, 'temperatura': 26}]"
      ]
     },
     "execution_count": 11,
     "metadata": {},
     "output_type": "execute_result"
    }
   ],
   "source": [
    "temperaturas = []\n",
    "for id_locale in id_locales:\n",
    "    weather_json = get_weather(id_locale)\n",
    "    print(weather_json)\n",
    "\n",
    "    weather_json = weather_json['data']['getWeatherNow'][0]['data'][0]\n",
    "    if weather_json['weather']['temperature'] == '-':\n",
    "        continue\n",
    "    temperaturas.append({'lat': weather_json['locale']['latitude'],\n",
    "                         'lon': weather_json['locale']['longitude'],\n",
    "                          'temperatura': weather_json['weather']['temperature']})\n",
    "temperaturas"
   ]
  },
  {
   "cell_type": "code",
   "execution_count": 13,
   "id": "576c69d2",
   "metadata": {},
   "outputs": [
    {
     "data": {
      "text/html": [
       "\n",
       "        <iframe\n",
       "            width=\"700\"\n",
       "            height=\"500\"\n",
       "            src=\"../Misc/mapa_temperaturas.html\"\n",
       "            frameborder=\"0\"\n",
       "            allowfullscreen\n",
       "            \n",
       "        ></iframe>\n",
       "        "
      ],
      "text/plain": [
       "<IPython.lib.display.IFrame at 0x1298a17d0>"
      ]
     },
     "execution_count": 13,
     "metadata": {},
     "output_type": "execute_result"
    }
   ],
   "source": [
    "# Criando DataFrame\n",
    "df = pd.DataFrame(temperaturas)  # sua lista de dicionários\n",
    "\n",
    "# Criando geometria de pontos\n",
    "geometry = [Point(xy) for xy in zip(df['lon'], df['lat'])]\n",
    "gdf = gpd.GeoDataFrame(df, geometry=geometry)\n",
    "\n",
    "# Criando mapa centralizado no centro dos pontos\n",
    "map_center = [df['lat'].mean(), df['lon'].mean()]\n",
    "m = folium.Map(location=map_center, zoom_start=13)\n",
    "\n",
    "# Função para definir cor por faixa de temperatura\n",
    "def cor_por_temperatura(temp):\n",
    "    if temp < 20:\n",
    "        return 'blue'\n",
    "    elif 20 <= temp <= 25:\n",
    "        return 'yellow'\n",
    "    else:\n",
    "        return 'red'\n",
    "\n",
    "# Adicionando pontos com cor fixa por faixa e tooltip\n",
    "for _, row in gdf.iterrows():\n",
    "    folium.CircleMarker(\n",
    "        location=[row['lat'], row['lon']],\n",
    "        radius=1,\n",
    "        color=None,\n",
    "        fill=True,\n",
    "        fill_color=cor_por_temperatura(row['temperatura']),\n",
    "        fill_opacity=0.7,\n",
    "        tooltip=f\"Temperatura: {row['temperatura']}°C\"\n",
    "    ).add_to(m)\n",
    "\n",
    "# HeatMap opcional\n",
    "heat_data = [[row['lat'], row['lon'], row['temperatura']] for _, row in gdf.iterrows()]\n",
    "HeatMap(heat_data, radius=25).add_to(m)\n",
    "\n",
    "# Salvar e exibir via IFrame para contornar o trust\n",
    "map_file = \"../Misc/mapa_temperaturas.html\"\n",
    "m.save(map_file)\n",
    "IFrame(map_file, width=700, height=500)\n"
   ]
  }
 ],
 "metadata": {
  "kernelspec": {
   "display_name": "Python 3",
   "language": "python",
   "name": "python3"
  },
  "language_info": {
   "codemirror_mode": {
    "name": "ipython",
    "version": 3
   },
   "file_extension": ".py",
   "mimetype": "text/x-python",
   "name": "python",
   "nbconvert_exporter": "python",
   "pygments_lexer": "ipython3",
   "version": "3.11.13"
  }
 },
 "nbformat": 4,
 "nbformat_minor": 5
}
