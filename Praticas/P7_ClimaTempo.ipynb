{
 "cells": [
  {
   "cell_type": "code",
   "execution_count": 67,
   "id": "6ded4512",
   "metadata": {},
   "outputs": [],
   "source": [
    "from selenium import webdriver\n",
    "import time\n",
    "from selenium.webdriver.common.by import By\n",
    "import requests\n",
    "from bs4 import BeautifulSoup\n",
    "from tqdm import tqdm \n",
    "import pandas as pd\n",
    "import geopandas as gpd\n",
    "from shapely.geometry import Point\n",
    "import folium\n",
    "from folium.plugins import HeatMap\n",
    "from IPython.display import IFrame"
   ]
  },
  {
   "cell_type": "code",
   "execution_count": 51,
   "id": "48116257",
   "metadata": {},
   "outputs": [],
   "source": [
    "options = webdriver.ChromeOptions()\n",
    "options.add_argument(\"--headless\")\n",
    "\n",
    "driver = webdriver.Chrome(options=options)\n",
    "\n",
    "driver.get(\"https://www.climatempo.com.br/previsao-do-tempo\")\n",
    "\n",
    "time.sleep(5)"
   ]
  },
  {
   "cell_type": "code",
   "execution_count": 52,
   "id": "f6bee3bf",
   "metadata": {},
   "outputs": [
    {
     "name": "stdout",
     "output_type": "stream",
     "text": [
      "Links filtrados: 8439\n"
     ]
    }
   ],
   "source": [
    "links = driver.find_elements(By.XPATH, \"//a[contains(@href, '/previsao-do-tempo/agora/cidade/')]\")\n",
    "print(f\"Links filtrados: {len(links)}\")"
   ]
  },
  {
   "cell_type": "code",
   "execution_count": 53,
   "id": "931056d3",
   "metadata": {},
   "outputs": [],
   "source": [
    "def extract_code_city_uf(url: str):\n",
    "    # Pega a parte depois de /cidade/\n",
    "    parts = url.split(\"/cidade/\")[1].split(\"/\")\n",
    "    \n",
    "    code = int(parts[0])   # código numérico da cidade\n",
    "    city_uf = parts[1]     # ex: \"sao-joao-da-boa-vista-sp\"\n",
    "    \n",
    "    # divide no último hífen: tudo antes é a cidade, os 2 últimos caracteres são a UF\n",
    "    if \"-\" in city_uf:\n",
    "        city, uf = city_uf.rsplit(\"-\", 1)\n",
    "    else:\n",
    "        city, uf = city_uf, \"\"\n",
    "    \n",
    "    return code, city, uf\n",
    "\n",
    "\n",
    "# Testes\n",
    "assert extract_code_city_uf(\"https://www.climatempo.com.br/previsao-do-tempo/agora/cidade/3523/vilaboa-go\") == (3523, \"vilaboa\", \"go\")\n",
    "assert extract_code_city_uf(\"https://www.climatempo.com.br/previsao-do-tempo/agora/cidade/6335/vilaflor-rn\") == (6335, \"vilaflor\", \"rn\")\n",
    "assert extract_code_city_uf(\"https://www.climatempo.com.br/previsao-do-tempo/agora/cidade/1234/sao-joao-da-boa-vista-sp\") == (1234, \"sao-joao-da-boa-vista\", \"sp\")\n"
   ]
  },
  {
   "cell_type": "code",
   "execution_count": 54,
   "id": "c8b4095b",
   "metadata": {},
   "outputs": [],
   "source": [
    "def get_id_locale(url: str) -> int:\n",
    "    # Faz a requisição da página\n",
    "    response = requests.get(url)\n",
    "    response.raise_for_status()  # erro se não conseguir baixar\n",
    "    \n",
    "    # Faz o parse do HTML\n",
    "    soup = BeautifulSoup(response.text, \"html.parser\")\n",
    "    \n",
    "    # Encontra o div com id=\"mainContent\"\n",
    "    main_div = soup.find(\"div\", {\"id\": \"mainContent\"})\n",
    "    if not main_div:\n",
    "        raise ValueError(\"Div com id='mainContent' não encontrada\")\n",
    "    \n",
    "    # Extrai o atributo data-id-locale\n",
    "    data_id = main_div.get(\"data-id-locale\")\n",
    "    if not data_id:\n",
    "        raise ValueError(\"Atributo 'data-id-locale' não encontrado\")\n",
    "    \n",
    "    return int(data_id)\n",
    "\n",
    "\n",
    "# Testes\n",
    "assert get_id_locale(\"https://www.climatempo.com.br/previsao-do-tempo/agora/cidade/956/xique-xique-ba\") == 7995\n",
    "assert get_id_locale(\"https://www.climatempo.com.br/previsao-do-tempo/15-dias/cidade/7965/yauco-pr\") == 1584"
   ]
  },
  {
   "cell_type": "code",
   "execution_count": 55,
   "id": "0d39badc",
   "metadata": {},
   "outputs": [],
   "source": [
    "def get_weather(id_locale):\n",
    "    url = f\"https://www.climatempo.com.br/json/myclimatempo/user/weatherNow?idlocale={id_locale}\"\n",
    "    response = requests.get(url)\n",
    "    response.raise_for_status()\n",
    "    return response.json()\n",
    "\n",
    "\n",
    "# Teste\n",
    "weather_json = get_weather(7994)\n",
    "assert weather_json['data']['getWeatherNow'][0]['data'][0]['locale']['idcity'] == 5354"
   ]
  },
  {
   "cell_type": "code",
   "execution_count": 56,
   "id": "b5601b2a",
   "metadata": {},
   "outputs": [
    {
     "name": "stderr",
     "output_type": "stream",
     "text": [
      "Processando links:   0%|          | 16/8439 [00:07<1:05:01,  2.16it/s]"
     ]
    },
    {
     "name": "stdout",
     "output_type": "stream",
     "text": [
      "7696 (1191, 'abaetetuba', 'pa')\n"
     ]
    },
    {
     "name": "stderr",
     "output_type": "stream",
     "text": [
      "Processando links:   0%|          | 25/8439 [00:15<1:30:33,  1.55it/s]"
     ]
    },
    {
     "name": "stdout",
     "output_type": "stream",
     "text": [
      "5916 (6422, 'abelfigueiredo', 'pa')\n"
     ]
    },
    {
     "name": "stderr",
     "output_type": "stream",
     "text": [
      "Processando links:   0%|          | 41/8439 [00:19<1:00:30,  2.31it/s]"
     ]
    },
    {
     "name": "stdout",
     "output_type": "stream",
     "text": [
      "7697 (1192, 'acara', 'pa')\n"
     ]
    },
    {
     "name": "stderr",
     "output_type": "stream",
     "text": [
      "Processando links:   1%|▏         | 124/8439 [00:24<15:27,  8.97it/s] "
     ]
    },
    {
     "name": "stdout",
     "output_type": "stream",
     "text": [
      "7698 (225, 'afua', 'pa')\n"
     ]
    },
    {
     "name": "stderr",
     "output_type": "stream",
     "text": [
      "Processando links:   2%|▏         | 146/8439 [00:30<21:01,  6.57it/s]"
     ]
    },
    {
     "name": "stdout",
     "output_type": "stream",
     "text": [
      "7699 (226, 'alenquer', 'pa')\n"
     ]
    },
    {
     "name": "stderr",
     "output_type": "stream",
     "text": [
      "Processando links:   2%|▏         | 161/8439 [00:36<28:54,  4.77it/s]"
     ]
    },
    {
     "name": "stdout",
     "output_type": "stream",
     "text": [
      "7700 (6974, 'algodoal', 'pa')\n"
     ]
    },
    {
     "name": "stderr",
     "output_type": "stream",
     "text": [
      "Processando links:   2%|▏         | 171/8439 [00:41<35:34,  3.87it/s]"
     ]
    },
    {
     "name": "stdout",
     "output_type": "stream",
     "text": [
      "7701 (227, 'almeirim', 'pa')\n"
     ]
    },
    {
     "name": "stderr",
     "output_type": "stream",
     "text": [
      "Processando links:   3%|▎         | 248/8439 [00:46<14:53,  9.17it/s]"
     ]
    },
    {
     "name": "stdout",
     "output_type": "stream",
     "text": [
      "7702 (228, 'altamira', 'pa')\n"
     ]
    },
    {
     "name": "stderr",
     "output_type": "stream",
     "text": [
      "Processando links:   3%|▎         | 280/8439 [00:52<18:09,  7.49it/s]"
     ]
    },
    {
     "name": "stdout",
     "output_type": "stream",
     "text": [
      "5917 (6423, 'anajas', 'pa')\n",
      "7703 (229, 'ananindeua', 'pa')\n"
     ]
    },
    {
     "name": "stderr",
     "output_type": "stream",
     "text": [
      "Processando links:   4%|▍         | 354/8439 [01:02<15:10,  8.88it/s]"
     ]
    },
    {
     "name": "stdout",
     "output_type": "stream",
     "text": [
      "5918 (6424, 'anapu', 'pa')\n"
     ]
    },
    {
     "name": "stderr",
     "output_type": "stream",
     "text": [
      "Processando links:   7%|▋         | 559/8439 [01:09<08:12, 16.01it/s]"
     ]
    },
    {
     "name": "stdout",
     "output_type": "stream",
     "text": [
      "5919 (6425, 'augustocorrea', 'pa')\n",
      "5920 (6426, 'auroradopara', 'pa')\n"
     ]
    },
    {
     "name": "stderr",
     "output_type": "stream",
     "text": [
      "Processando links:   7%|▋         | 594/8439 [01:22<16:29,  7.93it/s]"
     ]
    },
    {
     "name": "stdout",
     "output_type": "stream",
     "text": [
      "5921 (6427, 'aveiro', 'pa')\n"
     ]
    },
    {
     "name": "stderr",
     "output_type": "stream",
     "text": [
      "Processando links:   7%|▋         | 602/8439 [01:31<24:36,  5.31it/s]"
     ]
    },
    {
     "name": "stdout",
     "output_type": "stream",
     "text": [
      "5922 (6428, 'bagre', 'pa')\n"
     ]
    },
    {
     "name": "stderr",
     "output_type": "stream",
     "text": [
      "Processando links:   7%|▋         | 626/8439 [01:36<25:13,  5.16it/s]"
     ]
    },
    {
     "name": "stdout",
     "output_type": "stream",
     "text": [
      "5923 (6429, 'baiao', 'pa')\n"
     ]
    },
    {
     "name": "stderr",
     "output_type": "stream",
     "text": [
      "Processando links:   8%|▊         | 653/8439 [01:40<24:12,  5.36it/s]"
     ]
    },
    {
     "name": "stdout",
     "output_type": "stream",
     "text": [
      "5924 (6430, 'bannach', 'pa')\n"
     ]
    },
    {
     "name": "stderr",
     "output_type": "stream",
     "text": [
      "Processando links:   9%|▊         | 729/8439 [01:48<15:27,  8.31it/s]"
     ]
    },
    {
     "name": "stdout",
     "output_type": "stream",
     "text": [
      "5925 (6431, 'barcarena', 'pa')\n"
     ]
    },
    {
     "name": "stderr",
     "output_type": "stream",
     "text": [
      "Processando links:  10%|▉         | 803/8439 [01:48<08:20, 15.27it/s]"
     ]
    },
    {
     "name": "stdout",
     "output_type": "stream",
     "text": [
      "7705 (230, 'belomonte', 'pa')\n",
      "7706 (231, 'belterra', 'pa')\n",
      "7704 (232, 'belem', 'pa')\n"
     ]
    },
    {
     "name": "stderr",
     "output_type": "stream",
     "text": [
      "Processando links:  11%|█         | 902/8439 [02:02<11:17, 11.13it/s]"
     ]
    },
    {
     "name": "stdout",
     "output_type": "stream",
     "text": [
      "5926 (6432, 'benevides', 'pa')\n"
     ]
    },
    {
     "name": "stderr",
     "output_type": "stream",
     "text": [
      "Processando links:  11%|█▏        | 964/8439 [02:08<11:42, 10.65it/s]"
     ]
    },
    {
     "name": "stdout",
     "output_type": "stream",
     "text": [
      "7707 (6433, 'bomjesusdotocantins', 'pa')\n"
     ]
    },
    {
     "name": "stderr",
     "output_type": "stream",
     "text": [
      "Processando links:  12%|█▏        | 996/8439 [02:12<12:22, 10.03it/s]"
     ]
    },
    {
     "name": "stdout",
     "output_type": "stream",
     "text": [
      "5927 (6434, 'bonito', 'pa')\n"
     ]
    },
    {
     "name": "stderr",
     "output_type": "stream",
     "text": [
      "Processando links:  12%|█▏        | 1030/8439 [02:18<14:24,  8.57it/s]"
     ]
    },
    {
     "name": "stdout",
     "output_type": "stream",
     "text": [
      "7708 (233, 'braganca', 'pa')\n"
     ]
    },
    {
     "name": "stderr",
     "output_type": "stream",
     "text": [
      "Processando links:  12%|█▏        | 1046/8439 [02:21<15:40,  7.86it/s]"
     ]
    },
    {
     "name": "stdout",
     "output_type": "stream",
     "text": [
      "7806 (6435, 'brasilnovo', 'pa')\n"
     ]
    },
    {
     "name": "stderr",
     "output_type": "stream",
     "text": [
      "Processando links:  13%|█▎        | 1063/8439 [02:29<23:22,  5.26it/s]"
     ]
    },
    {
     "name": "stdout",
     "output_type": "stream",
     "text": [
      "7807 (6855, 'brejograndedoaraguaia', 'pa')\n"
     ]
    },
    {
     "name": "stderr",
     "output_type": "stream",
     "text": [
      "Processando links:  13%|█▎        | 1076/8439 [02:35<27:46,  4.42it/s]"
     ]
    },
    {
     "name": "stdout",
     "output_type": "stream",
     "text": [
      "7808 (6436, 'breubranco', 'pa')\n"
     ]
    },
    {
     "name": "stderr",
     "output_type": "stream",
     "text": [
      "Processando links:  13%|█▎        | 1082/8439 [02:44<42:35,  2.88it/s]"
     ]
    },
    {
     "name": "stdout",
     "output_type": "stream",
     "text": [
      "7809 (1193, 'breves', 'pa')\n"
     ]
    },
    {
     "name": "stderr",
     "output_type": "stream",
     "text": [
      "Processando links:  14%|█▍        | 1180/8439 [02:49<14:47,  8.18it/s]"
     ]
    },
    {
     "name": "stdout",
     "output_type": "stream",
     "text": [
      "7810 (1194, 'bujaru', 'pa')\n",
      "7811 (6437, 'cachoeiradoarari', 'pa')\n"
     ]
    },
    {
     "name": "stderr",
     "output_type": "stream",
     "text": [
      "Processando links:  15%|█▌        | 1269/8439 [03:03<14:38,  8.17it/s]"
     ]
    },
    {
     "name": "stdout",
     "output_type": "stream",
     "text": [
      "9120 (6438, 'cachoeiradopiria', 'pa')\n"
     ]
    },
    {
     "name": "stderr",
     "output_type": "stream",
     "text": [
      "Processando links:  16%|█▌        | 1369/8439 [03:12<10:44, 10.98it/s]"
     ]
    },
    {
     "name": "stdout",
     "output_type": "stream",
     "text": [
      "9121 (1195, 'cameta', 'pa')\n"
     ]
    },
    {
     "name": "stderr",
     "output_type": "stream",
     "text": [
      "Processando links:  17%|█▋        | 1406/8439 [03:18<12:55,  9.07it/s]"
     ]
    },
    {
     "name": "stdout",
     "output_type": "stream",
     "text": [
      "9122 (6439, 'canaadoscarajas', 'pa')\n"
     ]
    },
    {
     "name": "stderr",
     "output_type": "stream",
     "text": [
      "Processando links:  17%|█▋        | 1432/8439 [03:22<13:44,  8.50it/s]"
     ]
    },
    {
     "name": "stdout",
     "output_type": "stream",
     "text": [
      "9123 (234, 'capanema', 'pa')\n"
     ]
    },
    {
     "name": "stderr",
     "output_type": "stream",
     "text": [
      "Processando links:  17%|█▋        | 1453/8439 [03:26<15:10,  7.68it/s]"
     ]
    },
    {
     "name": "stdout",
     "output_type": "stream",
     "text": [
      "9124 (1196, 'capitaopoco', 'pa')\n"
     ]
    },
    {
     "name": "stderr",
     "output_type": "stream",
     "text": [
      "Processando links:  18%|█▊        | 1523/8439 [03:30<09:51, 11.70it/s]"
     ]
    },
    {
     "name": "stdout",
     "output_type": "stream",
     "text": [
      "6032 (6575, 'carajas', 'pa')\n"
     ]
    },
    {
     "name": "stderr",
     "output_type": "stream",
     "text": [
      "Processando links:  19%|█▉        | 1624/8439 [03:33<05:47, 19.59it/s]"
     ]
    },
    {
     "name": "stdout",
     "output_type": "stream",
     "text": [
      "9125 (235, 'castanhal', 'pa')\n"
     ]
    },
    {
     "name": "stderr",
     "output_type": "stream",
     "text": [
      "Processando links:  21%|██        | 1772/8439 [03:40<04:37, 24.03it/s]"
     ]
    },
    {
     "name": "stdout",
     "output_type": "stream",
     "text": [
      "9126 (6440, 'chaves', 'pa')\n"
     ]
    },
    {
     "name": "stderr",
     "output_type": "stream",
     "text": [
      "Processando links:  22%|██▏       | 1824/8439 [03:49<09:07, 12.08it/s]"
     ]
    },
    {
     "name": "stdout",
     "output_type": "stream",
     "text": [
      "9127 (6441, 'colares', 'pa')\n"
     ]
    },
    {
     "name": "stderr",
     "output_type": "stream",
     "text": [
      "Processando links:  22%|██▏       | 1878/8439 [03:54<09:35, 11.41it/s]"
     ]
    },
    {
     "name": "stdout",
     "output_type": "stream",
     "text": [
      "9128 (236, 'conceicaodoaraguaia', 'pa')\n"
     ]
    },
    {
     "name": "stderr",
     "output_type": "stream",
     "text": [
      "Processando links:  23%|██▎       | 1961/8439 [04:02<08:46, 12.31it/s]"
     ]
    },
    {
     "name": "stdout",
     "output_type": "stream",
     "text": [
      "9129 (6442, 'concordiadopara', 'pa')\n"
     ]
    },
    {
     "name": "stderr",
     "output_type": "stream",
     "text": [
      "Processando links:  25%|██▍       | 2086/8439 [04:11<09:15, 11.44it/s]"
     ]
    },
    {
     "name": "stdout",
     "output_type": "stream",
     "text": [
      "9130 (6443, 'cumarudonorte', 'pa')\n",
      "4034 (4989, 'curionopolis', 'pa')\n",
      "9131 (6444, 'curralinho', 'pa')\n",
      "9132 (6445, 'curua', 'pa')\n"
     ]
    },
    {
     "name": "stderr",
     "output_type": "stream",
     "text": [
      "Processando links:  27%|██▋       | 2249/8439 [04:29<07:37, 13.54it/s]"
     ]
    },
    {
     "name": "stdout",
     "output_type": "stream",
     "text": [
      "9133 (237, 'curuca', 'pa')\n"
     ]
    },
    {
     "name": "stderr",
     "output_type": "stream",
     "text": [
      "Processando links:  27%|██▋       | 2298/8439 [04:34<08:13, 12.44it/s]"
     ]
    },
    {
     "name": "stdout",
     "output_type": "stream",
     "text": [
      "3951 (4872, 'domeliseu', 'pa')\n"
     ]
    },
    {
     "name": "stderr",
     "output_type": "stream",
     "text": [
      "Processando links:  29%|██▊       | 2417/8439 [04:41<06:16, 16.00it/s]"
     ]
    },
    {
     "name": "stdout",
     "output_type": "stream",
     "text": [
      "9134 (1557, 'eldoradodoscarajas', 'pa')\n"
     ]
    },
    {
     "name": "stderr",
     "output_type": "stream",
     "text": [
      "Processando links:  30%|███       | 2537/8439 [04:45<05:19, 18.46it/s]"
     ]
    },
    {
     "name": "stdout",
     "output_type": "stream",
     "text": [
      "7444 (6446, 'faro', 'pa')\n"
     ]
    },
    {
     "name": "stderr",
     "output_type": "stream",
     "text": [
      "Processando links:  31%|███       | 2632/8439 [04:49<03:59, 24.27it/s]"
     ]
    },
    {
     "name": "stdout",
     "output_type": "stream",
     "text": [
      "7445 (5262, 'florestadoaraguaia', 'pa')\n"
     ]
    },
    {
     "name": "stderr",
     "output_type": "stream",
     "text": [
      "Processando links:  33%|███▎      | 2753/8439 [04:55<05:08, 18.44it/s]"
     ]
    },
    {
     "name": "stdout",
     "output_type": "stream",
     "text": [
      "7446 (6447, 'garrafaodonorte', 'pa')\n"
     ]
    },
    {
     "name": "stderr",
     "output_type": "stream",
     "text": [
      "Processando links:  35%|███▍      | 2930/8439 [05:01<02:54, 31.49it/s]"
     ]
    },
    {
     "name": "stdout",
     "output_type": "stream",
     "text": [
      "4194 (5194, 'goianesiadopara', 'pa')\n"
     ]
    },
    {
     "name": "stderr",
     "output_type": "stream",
     "text": [
      "Processando links:  37%|███▋      | 3113/8439 [05:05<01:48, 49.25it/s]"
     ]
    },
    {
     "name": "stdout",
     "output_type": "stream",
     "text": [
      "7447 (238, 'gurupa', 'pa')\n"
     ]
    },
    {
     "name": "stderr",
     "output_type": "stream",
     "text": [
      "Processando links:  37%|███▋      | 3163/8439 [05:08<02:57, 29.72it/s]"
     ]
    },
    {
     "name": "stdout",
     "output_type": "stream",
     "text": [
      "6351 (760, 'icoaraci', 'pa')\n",
      "7448 (239, 'igarape-acu', 'pa')\n"
     ]
    },
    {
     "name": "stderr",
     "output_type": "stream",
     "text": [
      "Processando links:  38%|███▊      | 3199/8439 [05:22<09:10,  9.52it/s]"
     ]
    },
    {
     "name": "stdout",
     "output_type": "stream",
     "text": [
      "7449 (1199, 'igarape-miri', 'pa')\n"
     ]
    },
    {
     "name": "stderr",
     "output_type": "stream",
     "text": [
      "Processando links:  38%|███▊      | 3204/8439 [05:27<12:01,  7.25it/s]"
     ]
    },
    {
     "name": "stdout",
     "output_type": "stream",
     "text": [
      "4074 (5031, 'ilhademarajo', 'pa')\n"
     ]
    },
    {
     "name": "stderr",
     "output_type": "stream",
     "text": [
      "Processando links:  39%|███▊      | 3257/8439 [05:31<10:15,  8.43it/s]"
     ]
    },
    {
     "name": "stdout",
     "output_type": "stream",
     "text": [
      "7450 (6448, 'inhangapi', 'pa')\n"
     ]
    },
    {
     "name": "stderr",
     "output_type": "stream",
     "text": [
      "Processando links:  39%|███▉      | 3299/8439 [05:38<11:22,  7.53it/s]"
     ]
    },
    {
     "name": "stdout",
     "output_type": "stream",
     "text": [
      "7451 (6449, 'ipixunadopara', 'pa')\n"
     ]
    },
    {
     "name": "stderr",
     "output_type": "stream",
     "text": [
      "Processando links:  40%|███▉      | 3345/8439 [05:46<12:06,  7.01it/s]"
     ]
    },
    {
     "name": "stdout",
     "output_type": "stream",
     "text": [
      "7452 (1200, 'irituia', 'pa')\n"
     ]
    },
    {
     "name": "stderr",
     "output_type": "stream",
     "text": [
      "Processando links:  40%|███▉      | 3358/8439 [05:49<08:49,  9.60it/s]\n"
     ]
    },
    {
     "ename": "ValueError",
     "evalue": "Atributo 'data-id-locale' não encontrado",
     "output_type": "error",
     "traceback": [
      "\u001b[0;31m---------------------------------------------------------------------------\u001b[0m",
      "\u001b[0;31mValueError\u001b[0m                                Traceback (most recent call last)",
      "Cell \u001b[0;32mIn[56], line 7\u001b[0m\n\u001b[1;32m      5\u001b[0m city_tuple \u001b[38;5;241m=\u001b[39m extract_code_city_uf(pagina_cidade)\n\u001b[1;32m      6\u001b[0m \u001b[38;5;28;01mif\u001b[39;00m city_tuple \u001b[38;5;129;01mand\u001b[39;00m city_tuple[\u001b[38;5;241m2\u001b[39m] \u001b[38;5;241m==\u001b[39m \u001b[38;5;124m'\u001b[39m\u001b[38;5;124mpa\u001b[39m\u001b[38;5;124m'\u001b[39m:  \u001b[38;5;66;03m# garante que city_tuple não seja None\u001b[39;00m\n\u001b[0;32m----> 7\u001b[0m     id_locale \u001b[38;5;241m=\u001b[39m \u001b[43mget_id_locale\u001b[49m\u001b[43m(\u001b[49m\u001b[43mpagina_cidade\u001b[49m\u001b[43m)\u001b[49m\n\u001b[1;32m      8\u001b[0m     id_locales\u001b[38;5;241m.\u001b[39mappend(id_locale)\n\u001b[1;32m      9\u001b[0m     \u001b[38;5;28mprint\u001b[39m(id_locale, city_tuple)\n",
      "Cell \u001b[0;32mIn[54], line 17\u001b[0m, in \u001b[0;36mget_id_locale\u001b[0;34m(url)\u001b[0m\n\u001b[1;32m     15\u001b[0m data_id \u001b[38;5;241m=\u001b[39m main_div\u001b[38;5;241m.\u001b[39mget(\u001b[38;5;124m\"\u001b[39m\u001b[38;5;124mdata-id-locale\u001b[39m\u001b[38;5;124m\"\u001b[39m)\n\u001b[1;32m     16\u001b[0m \u001b[38;5;28;01mif\u001b[39;00m \u001b[38;5;129;01mnot\u001b[39;00m data_id:\n\u001b[0;32m---> 17\u001b[0m     \u001b[38;5;28;01mraise\u001b[39;00m \u001b[38;5;167;01mValueError\u001b[39;00m(\u001b[38;5;124m\"\u001b[39m\u001b[38;5;124mAtributo \u001b[39m\u001b[38;5;124m'\u001b[39m\u001b[38;5;124mdata-id-locale\u001b[39m\u001b[38;5;124m'\u001b[39m\u001b[38;5;124m não encontrado\u001b[39m\u001b[38;5;124m\"\u001b[39m)\n\u001b[1;32m     19\u001b[0m \u001b[38;5;28;01mreturn\u001b[39;00m \u001b[38;5;28mint\u001b[39m(data_id)\n",
      "\u001b[0;31mValueError\u001b[0m: Atributo 'data-id-locale' não encontrado"
     ]
    }
   ],
   "source": [
    "id_locales = []\n",
    "\n",
    "for link in tqdm(links, desc=\"Processando links\"):\n",
    "    pagina_cidade = link.get_attribute(\"href\")\n",
    "    city_tuple = extract_code_city_uf(pagina_cidade)\n",
    "    if city_tuple and city_tuple[2] == 'pa':  # garante que city_tuple não seja None\n",
    "        id_locale = get_id_locale(pagina_cidade)\n",
    "        id_locales.append(id_locale)\n",
    "        print(id_locale, city_tuple)"
   ]
  },
  {
   "cell_type": "code",
   "execution_count": 57,
   "id": "2194ab9d",
   "metadata": {},
   "outputs": [
    {
     "name": "stdout",
     "output_type": "stream",
     "text": [
      "{'data': {'getWeatherNow': [{'data': [{'locale': {'idlocale': 7696, 'idcity': 1191, 'capital': False, 'idcountry': 7, 'ac': 'BR', 'country': 'Brasil', 'uf': 'PA', 'city': 'Abaetetuba', 'region': 'N', 'seaside': False, 'latitude': -1.718, 'longitude': -48.883, 'tourist': False, 'agricultural': False, 'base': 'cities'}, 'weather': {'id': 7696, 'name': 'Abaetetuba', 'date': '04/09/2025', 'dayWeek': 'Quinta-feira', 'dateUpdate': '14:10:00', 'temperature': 28, 'windDirection': 0, 'windVelocity': 18, 'windDirectionDegrees': 298, 'humidity': 78, 'condition': 'Sol com muitas nuvens', 'pressure': 1016, 'icon': '2r', 'sensation': 32, 'slugCondition': 'sol-com-muitas-nuvens'}}]}]}, 'status_code': 200}\n",
      "{'data': {'getWeatherNow': [{'data': [{'locale': {'idlocale': 5916, 'idcity': 6422, 'capital': False, 'idcountry': 7, 'ac': 'BR', 'country': 'Brasil', 'uf': 'PA', 'city': 'Abel Figueiredo', 'region': 'N', 'seaside': False, 'latitude': -4.954, 'longitude': -48.393, 'tourist': False, 'agricultural': False, 'base': 'cities'}, 'weather': {'id': 5916, 'name': 'Abel Figueiredo', 'date': '04/09/2025', 'dayWeek': 'Quinta-feira', 'dateUpdate': '14:10:00', 'temperature': 30, 'windDirection': 0, 'windVelocity': 13, 'windDirectionDegrees': 122, 'humidity': 63, 'condition': 'Sol', 'pressure': 1016, 'icon': '1', 'sensation': 34, 'slugCondition': 'sol'}}]}]}, 'status_code': 200}\n",
      "{'data': {'getWeatherNow': [{'data': [{'locale': {'idlocale': 7697, 'idcity': 1192, 'capital': False, 'idcountry': 7, 'ac': 'BR', 'country': 'Brasil', 'uf': 'PA', 'city': 'Acará', 'region': 'N', 'seaside': False, 'latitude': -1.961, 'longitude': -48.197, 'tourist': False, 'agricultural': False, 'base': 'cities'}, 'weather': {'id': 7697, 'name': 'Acará', 'date': '04/09/2025', 'dayWeek': 'Quinta-feira', 'dateUpdate': '13:25:00', 'temperature': 29, 'windDirection': 0, 'windVelocity': 15, 'windDirectionDegrees': 270, 'humidity': 74, 'condition': 'Sol com muitas nuvens', 'pressure': 1016, 'icon': '2r', 'sensation': 33, 'slugCondition': 'sol-com-muitas-nuvens'}}]}]}, 'status_code': 200}\n",
      "{'data': {'getWeatherNow': [{'data': [{'locale': {'idlocale': 7698, 'idcity': 225, 'capital': False, 'idcountry': 7, 'ac': 'BR', 'country': 'Brasil', 'uf': 'PA', 'city': 'Afuá', 'region': 'N', 'seaside': False, 'latitude': -0.157, 'longitude': -50.387, 'tourist': False, 'agricultural': False, 'base': 'cities'}, 'weather': {'id': 7698, 'name': 'Afuá', 'date': '04/09/2025', 'dayWeek': 'Quinta-feira', 'dateUpdate': '13:25:00', 'temperature': 30, 'windDirection': 0, 'windVelocity': 20, 'windDirectionDegrees': 309, 'humidity': 79, 'condition': 'Sol com algumas nuvens', 'pressure': 1016, 'icon': '2', 'sensation': 36, 'slugCondition': 'sol-com-algumas-nuvens'}}]}]}, 'status_code': 200}\n",
      "{'data': {'getWeatherNow': [{'data': [{'locale': {'idlocale': 7699, 'idcity': 226, 'capital': False, 'idcountry': 7, 'ac': 'BR', 'country': 'Brasil', 'uf': 'PA', 'city': 'Alenquer', 'region': 'N', 'seaside': False, 'latitude': -1.942, 'longitude': -54.738, 'tourist': False, 'agricultural': False, 'base': 'cities'}, 'weather': {'id': 7699, 'name': 'Alenquer', 'date': '04/09/2025', 'dayWeek': 'Quinta-feira', 'dateUpdate': '14:10:00', 'temperature': 29, 'windDirection': 0, 'windVelocity': 20, 'windDirectionDegrees': 90, 'humidity': 80, 'condition': 'Sol com algumas nuvens', 'pressure': 0, 'icon': '2', 'sensation': 35, 'slugCondition': 'sol-com-algumas-nuvens'}}]}]}, 'status_code': 200}\n",
      "{'data': {'getWeatherNow': [{'data': [{'locale': {'idlocale': 7700, 'idcity': 6974, 'capital': False, 'idcountry': 7, 'ac': 'BR', 'country': 'Brasil', 'uf': 'PA', 'city': 'Algodoal', 'region': 'N', 'seaside': False, 'latitude': -0.583, 'longitude': -47.567, 'tourist': False, 'agricultural': False, 'base': 'cities'}, 'weather': {'id': 7700, 'name': 'Algodoal', 'date': '04/09/2025', 'dayWeek': 'Quinta-feira', 'dateUpdate': '13:25:00', 'temperature': 28, 'windDirection': 0, 'windVelocity': 20, 'windDirectionDegrees': 276, 'humidity': 77, 'condition': 'Sol com algumas nuvens', 'pressure': 1016, 'icon': '2', 'sensation': 32, 'slugCondition': 'sol-com-algumas-nuvens'}}]}]}, 'status_code': 200}\n",
      "{'data': {'getWeatherNow': [{'data': [{'locale': {'idlocale': 7701, 'idcity': 227, 'capital': False, 'idcountry': 7, 'ac': 'BR', 'country': 'Brasil', 'uf': 'PA', 'city': 'Almeirim', 'region': 'N', 'seaside': False, 'latitude': -1.523, 'longitude': -52.582, 'tourist': False, 'agricultural': False, 'base': 'cities'}, 'weather': {'id': 7701, 'name': 'Almeirim', 'date': '04/09/2025', 'dayWeek': 'Quinta-feira', 'dateUpdate': '13:25:00', 'temperature': 29, 'windDirection': 0, 'windVelocity': 19, 'windDirectionDegrees': 70, 'humidity': 81, 'condition': 'Sol', 'pressure': 0, 'icon': '1', 'sensation': 35, 'slugCondition': 'sol'}}]}]}, 'status_code': 200}\n",
      "{'data': {'getWeatherNow': [{'data': [{'locale': {'idlocale': 7702, 'idcity': 228, 'capital': False, 'idcountry': 7, 'ac': 'BR', 'country': 'Brasil', 'uf': 'PA', 'city': 'Altamira', 'region': 'N', 'seaside': False, 'latitude': -3.203, 'longitude': -52.206, 'tourist': False, 'agricultural': False, 'base': 'cities'}, 'weather': {'id': 7702, 'name': 'Altamira', 'date': '04/09/2025', 'dayWeek': 'Quinta-feira', 'dateUpdate': '13:25:00', 'temperature': 26, 'windDirection': 0, 'windVelocity': 9, 'windDirectionDegrees': 60, 'humidity': 94, 'condition': 'Sol', 'pressure': 1018, 'icon': '1', 'sensation': 28, 'slugCondition': 'sol'}}]}]}, 'status_code': 200}\n",
      "{'data': {'getWeatherNow': [{'data': [{'locale': {'idlocale': 5917, 'idcity': 6423, 'capital': False, 'idcountry': 7, 'ac': 'BR', 'country': 'Brasil', 'uf': 'PA', 'city': 'Anajás', 'region': 'N', 'seaside': False, 'latitude': -0.987, 'longitude': -49.94, 'tourist': False, 'agricultural': False, 'base': 'cities'}, 'weather': {'id': 5917, 'name': 'Anajás', 'date': '04/09/2025', 'dayWeek': 'Quinta-feira', 'dateUpdate': '13:25:00', 'temperature': 29, 'windDirection': 0, 'windVelocity': 19, 'windDirectionDegrees': 312, 'humidity': 79, 'condition': 'Sol com muitas nuvens', 'pressure': 1016, 'icon': '2r', 'sensation': 34, 'slugCondition': 'sol-com-muitas-nuvens'}}]}]}, 'status_code': 200}\n",
      "{'data': {'getWeatherNow': [{'data': [{'locale': {'idlocale': 7703, 'idcity': 229, 'capital': False, 'idcountry': 7, 'ac': 'BR', 'country': 'Brasil', 'uf': 'PA', 'city': 'Ananindeua', 'region': 'N', 'seaside': False, 'latitude': -1.366, 'longitude': -48.372, 'tourist': False, 'agricultural': False, 'base': 'cities'}, 'weather': {'id': 7703, 'name': 'Ananindeua', 'date': '04/09/2025', 'dayWeek': 'Quinta-feira', 'dateUpdate': '13:25:00', 'temperature': 29, 'windDirection': 0, 'windVelocity': 18, 'windDirectionDegrees': 288, 'humidity': 77, 'condition': 'Sol com muitas nuvens', 'pressure': 1016, 'icon': '2r', 'sensation': 33, 'slugCondition': 'sol-com-muitas-nuvens'}}]}]}, 'status_code': 200}\n",
      "{'data': {'getWeatherNow': [{'data': [{'locale': {'idlocale': 5918, 'idcity': 6424, 'capital': False, 'idcountry': 7, 'ac': 'BR', 'country': 'Brasil', 'uf': 'PA', 'city': 'Anapu', 'region': 'N', 'seaside': False, 'latitude': -3.472, 'longitude': -51.198, 'tourist': False, 'agricultural': False, 'base': 'cities'}, 'weather': {'id': 5918, 'name': 'Anapu', 'date': '04/09/2025', 'dayWeek': 'Quinta-feira', 'dateUpdate': '13:25:00', 'temperature': 27, 'windDirection': 0, 'windVelocity': 12, 'windDirectionDegrees': 118, 'humidity': 76, 'condition': 'Sol com muitas nuvens', 'pressure': 1017, 'icon': '2r', 'sensation': 29, 'slugCondition': 'sol-com-muitas-nuvens'}}]}]}, 'status_code': 200}\n",
      "{'data': {'getWeatherNow': [{'data': [{'locale': {'idlocale': 5919, 'idcity': 6425, 'capital': False, 'idcountry': 7, 'ac': 'BR', 'country': 'Brasil', 'uf': 'PA', 'city': 'Augusto Corrêa', 'region': 'N', 'seaside': True, 'latitude': -1.022, 'longitude': -46.635, 'tourist': False, 'agricultural': False, 'base': 'cities'}, 'weather': {'id': 5919, 'name': 'Augusto Corrêa', 'date': '04/09/2025', 'dayWeek': 'Quinta-feira', 'dateUpdate': '13:25:00', 'temperature': 29, 'windDirection': 0, 'windVelocity': 19, 'windDirectionDegrees': 242, 'humidity': 74, 'condition': 'Sol com algumas nuvens', 'pressure': 1016, 'icon': '2', 'sensation': 34, 'slugCondition': 'sol-com-algumas-nuvens'}}]}]}, 'status_code': 200}\n",
      "{'data': {'getWeatherNow': [{'data': [{'locale': {'idlocale': 5920, 'idcity': 6426, 'capital': False, 'idcountry': 7, 'ac': 'BR', 'country': 'Brasil', 'uf': 'PA', 'city': 'Aurora do Pará', 'region': 'N', 'seaside': False, 'latitude': -2.134, 'longitude': -47.559, 'tourist': False, 'agricultural': False, 'base': 'cities'}, 'weather': {'id': 5920, 'name': 'Aurora do Pará', 'date': '04/09/2025', 'dayWeek': 'Quinta-feira', 'dateUpdate': '13:25:00', 'temperature': 29, 'windDirection': 0, 'windVelocity': 15, 'windDirectionDegrees': 242, 'humidity': 72, 'condition': 'Sol com muitas nuvens', 'pressure': 1016, 'icon': '2r', 'sensation': 33, 'slugCondition': 'sol-com-muitas-nuvens'}}]}]}, 'status_code': 200}\n",
      "{'data': {'getWeatherNow': [{'data': [{'locale': {'idlocale': 5921, 'idcity': 6427, 'capital': False, 'idcountry': 7, 'ac': 'BR', 'country': 'Brasil', 'uf': 'PA', 'city': 'Aveiro', 'region': 'N', 'seaside': False, 'latitude': -3.606, 'longitude': -55.332, 'tourist': False, 'agricultural': False, 'base': 'cities'}, 'weather': {'id': 5921, 'name': 'Aveiro', 'date': '04/09/2025', 'dayWeek': 'Quinta-feira', 'dateUpdate': '13:25:00', 'temperature': 29, 'windDirection': 0, 'windVelocity': 18, 'windDirectionDegrees': 97, 'humidity': 80, 'condition': 'Sol com algumas nuvens', 'pressure': 0, 'icon': '2', 'sensation': 34, 'slugCondition': 'sol-com-algumas-nuvens'}}]}]}, 'status_code': 200}\n",
      "{'data': {'getWeatherNow': [{'data': [{'locale': {'idlocale': 5922, 'idcity': 6428, 'capital': False, 'idcountry': 7, 'ac': 'BR', 'country': 'Brasil', 'uf': 'PA', 'city': 'Bagre', 'region': 'N', 'seaside': False, 'latitude': -1.9, 'longitude': -50.164, 'tourist': False, 'agricultural': False, 'base': 'cities'}, 'weather': {'id': 5922, 'name': 'Bagre', 'date': '04/09/2025', 'dayWeek': 'Quinta-feira', 'dateUpdate': '14:10:00', 'temperature': 28, 'windDirection': 0, 'windVelocity': 18, 'windDirectionDegrees': 360, 'humidity': 80, 'condition': 'Sol com muitas nuvens', 'pressure': 1015, 'icon': '2r', 'sensation': 33, 'slugCondition': 'sol-com-muitas-nuvens'}}]}]}, 'status_code': 200}\n",
      "{'data': {'getWeatherNow': [{'data': [{'locale': {'idlocale': 5923, 'idcity': 6429, 'capital': False, 'idcountry': 7, 'ac': 'BR', 'country': 'Brasil', 'uf': 'PA', 'city': 'Baião', 'region': 'N', 'seaside': False, 'latitude': -2.791, 'longitude': -49.672, 'tourist': False, 'agricultural': False, 'base': 'cities'}, 'weather': {'id': 5923, 'name': 'Baião', 'date': '04/09/2025', 'dayWeek': 'Quinta-feira', 'dateUpdate': '13:25:00', 'temperature': 28, 'windDirection': 0, 'windVelocity': 17, 'windDirectionDegrees': 106, 'humidity': 77, 'condition': 'Sol com algumas nuvens', 'pressure': 1015, 'icon': '2', 'sensation': 31, 'slugCondition': 'sol-com-algumas-nuvens'}}]}]}, 'status_code': 200}\n",
      "{'data': {'getWeatherNow': [{'data': [{'locale': {'idlocale': 5924, 'idcity': 6430, 'capital': False, 'idcountry': 7, 'ac': 'BR', 'country': 'Brasil', 'uf': 'PA', 'city': 'Bannach', 'region': 'N', 'seaside': False, 'latitude': -7.348, 'longitude': -50.396, 'tourist': False, 'agricultural': False, 'base': 'cities'}, 'weather': {'id': 5924, 'name': 'Bannach', 'date': '04/09/2025', 'dayWeek': 'Quinta-feira', 'dateUpdate': '14:10:00', 'temperature': 30, 'windDirection': 0, 'windVelocity': 12, 'windDirectionDegrees': 101, 'humidity': 49, 'condition': 'Sol', 'pressure': 1018, 'icon': '1', 'sensation': 31, 'slugCondition': 'sol'}}]}]}, 'status_code': 200}\n",
      "{'data': {'getWeatherNow': [{'data': [{'locale': {'idlocale': 5925, 'idcity': 6431, 'capital': False, 'idcountry': 7, 'ac': 'BR', 'country': 'Brasil', 'uf': 'PA', 'city': 'Barcarena', 'region': 'N', 'seaside': False, 'latitude': -1.506, 'longitude': -48.626, 'tourist': False, 'agricultural': False, 'base': 'cities'}, 'weather': {'id': 5925, 'name': 'Barcarena', 'date': '04/09/2025', 'dayWeek': 'Quinta-feira', 'dateUpdate': '13:25:00', 'temperature': 28, 'windDirection': 0, 'windVelocity': 19, 'windDirectionDegrees': 294, 'humidity': 78, 'condition': 'Sol com muitas nuvens', 'pressure': 1016, 'icon': '2r', 'sensation': 32, 'slugCondition': 'sol-com-muitas-nuvens'}}]}]}, 'status_code': 200}\n",
      "{'data': {'getWeatherNow': [{'data': [{'locale': {'idlocale': 7705, 'idcity': 230, 'capital': False, 'idcountry': 7, 'ac': 'BR', 'country': 'Brasil', 'uf': 'PA', 'city': 'Belo Monte', 'region': 'N', 'seaside': False, 'latitude': -3.083, 'longitude': -51.767, 'tourist': False, 'agricultural': False, 'base': 'cities'}, 'weather': {'id': 7705, 'name': 'Belo Monte', 'date': '04/09/2025', 'dayWeek': 'Quinta-feira', 'dateUpdate': '13:25:00', 'temperature': 27, 'windDirection': 0, 'windVelocity': 15, 'windDirectionDegrees': 105, 'humidity': 80, 'condition': 'Sol com algumas nuvens', 'pressure': 1018, 'icon': '2', 'sensation': 30, 'slugCondition': 'sol-com-algumas-nuvens'}}]}]}, 'status_code': 200}\n",
      "{'data': {'getWeatherNow': [{'data': [{'locale': {'idlocale': 7706, 'idcity': 231, 'capital': False, 'idcountry': 7, 'ac': 'BR', 'country': 'Brasil', 'uf': 'PA', 'city': 'Belterra', 'region': 'N', 'seaside': False, 'latitude': -2.636, 'longitude': -54.937, 'tourist': False, 'agricultural': False, 'base': 'cities'}, 'weather': {'id': 7706, 'name': 'Belterra', 'date': '04/09/2025', 'dayWeek': 'Quinta-feira', 'dateUpdate': '13:25:00', 'temperature': 29, 'windDirection': 0, 'windVelocity': 17, 'windDirectionDegrees': 95, 'humidity': 79, 'condition': 'Sol com muitas nuvens', 'pressure': 0, 'icon': '2r', 'sensation': 34, 'slugCondition': 'sol-com-muitas-nuvens'}}]}]}, 'status_code': 200}\n",
      "{'data': {'getWeatherNow': [{'data': [{'locale': {'idlocale': 7704, 'idcity': 232, 'capital': True, 'idcountry': 7, 'ac': 'BR', 'country': 'Brasil', 'uf': 'PA', 'city': 'Belém', 'region': 'N', 'seaside': False, 'latitude': -1.411, 'longitude': -48.44, 'tourist': True, 'agricultural': False, 'base': 'cities'}, 'weather': {'id': 7704, 'name': 'Belém', 'date': '04/09/2025', 'dayWeek': 'Quinta-feira', 'dateUpdate': '13:25:00', 'temperature': 29, 'windDirection': 0, 'windVelocity': 11, 'windDirectionDegrees': 310, 'humidity': 77, 'condition': 'Sol com muitas nuvens', 'pressure': 1016, 'icon': '2r', 'sensation': 34, 'slugCondition': 'sol-com-muitas-nuvens'}}]}]}, 'status_code': 200}\n",
      "{'data': {'getWeatherNow': [{'data': [{'locale': {'idlocale': 5926, 'idcity': 6432, 'capital': False, 'idcountry': 7, 'ac': 'BR', 'country': 'Brasil', 'uf': 'PA', 'city': 'Benevides', 'region': 'N', 'seaside': False, 'latitude': -1.361, 'longitude': -48.245, 'tourist': False, 'agricultural': False, 'base': 'cities'}, 'weather': {'id': 5926, 'name': 'Benevides', 'date': '04/09/2025', 'dayWeek': 'Quinta-feira', 'dateUpdate': '13:25:00', 'temperature': 29, 'windDirection': 0, 'windVelocity': 18, 'windDirectionDegrees': 285, 'humidity': 77, 'condition': 'Sol com muitas nuvens', 'pressure': 1016, 'icon': '2r', 'sensation': 33, 'slugCondition': 'sol-com-muitas-nuvens'}}]}]}, 'status_code': 200}\n",
      "{'data': {'getWeatherNow': [{'data': [{'locale': {'idlocale': 7707, 'idcity': 6433, 'capital': False, 'idcountry': 7, 'ac': 'BR', 'country': 'Brasil', 'uf': 'PA', 'city': 'Bom Jesus do Tocantins', 'region': 'N', 'seaside': False, 'latitude': -5.051, 'longitude': -48.609, 'tourist': False, 'agricultural': False, 'base': 'cities'}, 'weather': {'id': 7707, 'name': 'Bom Jesus do Tocantins', 'date': '04/09/2025', 'dayWeek': 'Quinta-feira', 'dateUpdate': '14:10:00', 'temperature': 30, 'windDirection': 0, 'windVelocity': 12, 'windDirectionDegrees': 123, 'humidity': 63, 'condition': 'Sol', 'pressure': 1016, 'icon': '1', 'sensation': 33, 'slugCondition': 'sol'}}]}]}, 'status_code': 200}\n",
      "{'data': {'getWeatherNow': [{'data': [{'locale': {'idlocale': 5927, 'idcity': 6434, 'capital': False, 'idcountry': 7, 'ac': 'BR', 'country': 'Brasil', 'uf': 'PA', 'city': 'Bonito', 'region': 'N', 'seaside': False, 'latitude': -1.363, 'longitude': -47.306, 'tourist': False, 'agricultural': False, 'base': 'cities'}, 'weather': {'id': 5927, 'name': 'Bonito', 'date': '04/09/2025', 'dayWeek': 'Quinta-feira', 'dateUpdate': '14:10:00', 'temperature': 29, 'windDirection': 0, 'windVelocity': 16, 'windDirectionDegrees': 264, 'humidity': 75, 'condition': 'Sol com muitas nuvens', 'pressure': 1016, 'icon': '2r', 'sensation': 34, 'slugCondition': 'sol-com-muitas-nuvens'}}]}]}, 'status_code': 200}\n",
      "{'data': {'getWeatherNow': [{'data': [{'locale': {'idlocale': 7708, 'idcity': 233, 'capital': False, 'idcountry': 7, 'ac': 'BR', 'country': 'Brasil', 'uf': 'PA', 'city': 'Bragança', 'region': 'N', 'seaside': True, 'latitude': -1.054, 'longitude': -46.766, 'tourist': False, 'agricultural': False, 'base': 'cities'}, 'weather': {'id': 7708, 'name': 'Bragança', 'date': '04/09/2025', 'dayWeek': 'Quinta-feira', 'dateUpdate': '13:25:00', 'temperature': 30, 'windDirection': 0, 'windVelocity': 12, 'windDirectionDegrees': 340, 'humidity': 83, 'condition': 'Sol com muitas nuvens', 'pressure': 1017, 'icon': '2r', 'sensation': 38, 'slugCondition': 'sol-com-muitas-nuvens'}}]}]}, 'status_code': 200}\n",
      "{'data': {'getWeatherNow': [{'data': [{'locale': {'idlocale': 7806, 'idcity': 6435, 'capital': False, 'idcountry': 7, 'ac': 'BR', 'country': 'Brasil', 'uf': 'PA', 'city': 'Brasil Novo', 'region': 'N', 'seaside': False, 'latitude': -3.305, 'longitude': -53.536, 'tourist': False, 'agricultural': False, 'base': 'cities'}, 'weather': {'id': 7806, 'name': 'Brasil Novo', 'date': '04/09/2025', 'dayWeek': 'Quinta-feira', 'dateUpdate': '14:10:00', 'temperature': 28, 'windDirection': 0, 'windVelocity': 15, 'windDirectionDegrees': 97, 'humidity': 79, 'condition': 'Sol com muitas nuvens', 'pressure': 4, 'icon': '2r', 'sensation': 31, 'slugCondition': 'sol-com-muitas-nuvens'}}]}]}, 'status_code': 200}\n",
      "{'data': {'getWeatherNow': [{'data': [{'locale': {'idlocale': 7807, 'idcity': 6855, 'capital': False, 'idcountry': 7, 'ac': 'BR', 'country': 'Brasil', 'uf': 'PA', 'city': 'Brejo Grande do Araguaia', 'region': 'N', 'seaside': False, 'latitude': -5.699, 'longitude': -48.413, 'tourist': False, 'agricultural': False, 'base': 'cities'}, 'weather': {'id': 7807, 'name': 'Brejo Grande do Araguaia', 'date': '04/09/2025', 'dayWeek': 'Quinta-feira', 'dateUpdate': '14:10:00', 'temperature': 31, 'windDirection': 0, 'windVelocity': 14, 'windDirectionDegrees': 124, 'humidity': 58, 'condition': 'Sol', 'pressure': 1016, 'icon': '1', 'sensation': 35, 'slugCondition': 'sol'}}]}]}, 'status_code': 200}\n",
      "{'data': {'getWeatherNow': [{'data': [{'locale': {'idlocale': 7808, 'idcity': 6436, 'capital': False, 'idcountry': 7, 'ac': 'BR', 'country': 'Brasil', 'uf': 'PA', 'city': 'Breu Branco', 'region': 'N', 'seaside': False, 'latitude': -4.068, 'longitude': -49.637, 'tourist': False, 'agricultural': False, 'base': 'cities'}, 'weather': {'id': 7808, 'name': 'Breu Branco', 'date': '04/09/2025', 'dayWeek': 'Quinta-feira', 'dateUpdate': '13:25:00', 'temperature': 28, 'windDirection': 0, 'windVelocity': 13, 'windDirectionDegrees': 126, 'humidity': 71, 'condition': 'Sol com muitas nuvens', 'pressure': 1016, 'icon': '2r', 'sensation': 30, 'slugCondition': 'sol-com-muitas-nuvens'}}]}]}, 'status_code': 200}\n",
      "{'data': {'getWeatherNow': [{'data': [{'locale': {'idlocale': 7809, 'idcity': 1193, 'capital': False, 'idcountry': 7, 'ac': 'BR', 'country': 'Brasil', 'uf': 'PA', 'city': 'Breves', 'region': 'N', 'seaside': False, 'latitude': -1.682, 'longitude': -50.48, 'tourist': False, 'agricultural': False, 'base': 'cities'}, 'weather': {'id': 7809, 'name': 'Breves', 'date': '04/09/2025', 'dayWeek': 'Quinta-feira', 'dateUpdate': '14:10:00', 'temperature': 29, 'windDirection': 0, 'windVelocity': 17, 'windDirectionDegrees': 343, 'humidity': 80, 'condition': 'Sol com muitas nuvens', 'pressure': 1015, 'icon': '2r', 'sensation': 33, 'slugCondition': 'sol-com-muitas-nuvens'}}]}]}, 'status_code': 200}\n",
      "{'data': {'getWeatherNow': [{'data': [{'locale': {'idlocale': 7810, 'idcity': 1194, 'capital': False, 'idcountry': 7, 'ac': 'BR', 'country': 'Brasil', 'uf': 'PA', 'city': 'Bujaru', 'region': 'N', 'seaside': False, 'latitude': -1.515, 'longitude': -48.045, 'tourist': False, 'agricultural': False, 'base': 'cities'}, 'weather': {'id': 7810, 'name': 'Bujaru', 'date': '04/09/2025', 'dayWeek': 'Quinta-feira', 'dateUpdate': '13:25:00', 'temperature': 29, 'windDirection': 0, 'windVelocity': 18, 'windDirectionDegrees': 281, 'humidity': 77, 'condition': 'Sol com muitas nuvens', 'pressure': 1016, 'icon': '2r', 'sensation': 34, 'slugCondition': 'sol-com-muitas-nuvens'}}]}]}, 'status_code': 200}\n",
      "{'data': {'getWeatherNow': [{'data': [{'locale': {'idlocale': 7811, 'idcity': 6437, 'capital': False, 'idcountry': 7, 'ac': 'BR', 'country': 'Brasil', 'uf': 'PA', 'city': 'Cachoeira do Arari', 'region': 'N', 'seaside': False, 'latitude': -1.011, 'longitude': -48.963, 'tourist': False, 'agricultural': False, 'base': 'cities'}, 'weather': {'id': 7811, 'name': 'Cachoeira do Arari', 'date': '04/09/2025', 'dayWeek': 'Quinta-feira', 'dateUpdate': '14:10:00', 'temperature': 29, 'windDirection': 0, 'windVelocity': 18, 'windDirectionDegrees': 298, 'humidity': 78, 'condition': 'Sol com algumas nuvens', 'pressure': 1016, 'icon': '2', 'sensation': 33, 'slugCondition': 'sol-com-algumas-nuvens'}}]}]}, 'status_code': 200}\n",
      "{'data': {'getWeatherNow': [{'data': [{'locale': {'idlocale': 9120, 'idcity': 6438, 'capital': False, 'idcountry': 7, 'ac': 'BR', 'country': 'Brasil', 'uf': 'PA', 'city': 'Cachoeira do Piriá', 'region': 'N', 'seaside': False, 'latitude': -1.76, 'longitude': -46.545, 'tourist': False, 'agricultural': False, 'base': 'cities'}, 'weather': {'id': 9120, 'name': 'Cachoeira do Piriá', 'date': '04/09/2025', 'dayWeek': 'Quinta-feira', 'dateUpdate': '14:10:00', 'temperature': 30, 'windDirection': 0, 'windVelocity': 17, 'windDirectionDegrees': 230, 'humidity': 72, 'condition': 'Sol com muitas nuvens', 'pressure': 1017, 'icon': '2r', 'sensation': 35, 'slugCondition': 'sol-com-muitas-nuvens'}}]}]}, 'status_code': 200}\n",
      "{'data': {'getWeatherNow': [{'data': [{'locale': {'idlocale': 9121, 'idcity': 1195, 'capital': False, 'idcountry': 7, 'ac': 'BR', 'country': 'Brasil', 'uf': 'PA', 'city': 'Cametá', 'region': 'N', 'seaside': False, 'latitude': -2.244, 'longitude': -49.496, 'tourist': False, 'agricultural': False, 'base': 'cities'}, 'weather': {'id': 9121, 'name': 'Cametá', 'date': '04/09/2025', 'dayWeek': 'Quinta-feira', 'dateUpdate': '13:25:00', 'temperature': 28, 'windDirection': 0, 'windVelocity': 18, 'windDirectionDegrees': 360, 'humidity': 78, 'condition': 'Nublado', 'pressure': 1016, 'icon': '3', 'sensation': 32, 'slugCondition': 'nublado'}}]}]}, 'status_code': 200}\n",
      "{'data': {'getWeatherNow': [{'data': [{'locale': {'idlocale': 9122, 'idcity': 6439, 'capital': False, 'idcountry': 7, 'ac': 'BR', 'country': 'Brasil', 'uf': 'PA', 'city': 'Canaã dos Carajás', 'region': 'N', 'seaside': False, 'latitude': -6.497, 'longitude': -49.878, 'tourist': False, 'agricultural': False, 'base': 'cities'}, 'weather': {'id': 9122, 'name': 'Canaã dos Carajás', 'date': '04/09/2025', 'dayWeek': 'Quinta-feira', 'dateUpdate': '13:25:00', 'temperature': 28, 'windDirection': 0, 'windVelocity': 10, 'windDirectionDegrees': 123, 'humidity': 48, 'condition': 'Sol', 'pressure': 1018, 'icon': '1', 'sensation': 28, 'slugCondition': 'sol'}}]}]}, 'status_code': 200}\n",
      "{'data': {'getWeatherNow': [{'data': [{'locale': {'idlocale': 9123, 'idcity': 234, 'capital': False, 'idcountry': 7, 'ac': 'BR', 'country': 'Brasil', 'uf': 'PA', 'city': 'Capanema', 'region': 'N', 'seaside': False, 'latitude': -1.196, 'longitude': -47.181, 'tourist': False, 'agricultural': False, 'base': 'cities'}, 'weather': {'id': 9123, 'name': 'Capanema', 'date': '04/09/2025', 'dayWeek': 'Quinta-feira', 'dateUpdate': '13:25:00', 'temperature': 29, 'windDirection': 0, 'windVelocity': 18, 'windDirectionDegrees': 262, 'humidity': 75, 'condition': 'Sol com algumas nuvens', 'pressure': 1016, 'icon': '2', 'sensation': 34, 'slugCondition': 'sol-com-algumas-nuvens'}}]}]}, 'status_code': 200}\n",
      "{'data': {'getWeatherNow': [{'data': [{'locale': {'idlocale': 9124, 'idcity': 1196, 'capital': False, 'idcountry': 7, 'ac': 'BR', 'country': 'Brasil', 'uf': 'PA', 'city': 'Capitão Poço', 'region': 'N', 'seaside': False, 'latitude': -1.746, 'longitude': -47.059, 'tourist': False, 'agricultural': False, 'base': 'cities'}, 'weather': {'id': 9124, 'name': 'Capitão Poço', 'date': '04/09/2025', 'dayWeek': 'Quinta-feira', 'dateUpdate': '13:25:00', 'temperature': 29, 'windDirection': 0, 'windVelocity': 18, 'windDirectionDegrees': 41, 'humidity': 66, 'condition': 'Sol com muitas nuvens', 'pressure': 1016, 'icon': '2r', 'sensation': 32, 'slugCondition': 'sol-com-muitas-nuvens'}}]}]}, 'status_code': 200}\n",
      "{'data': {'getWeatherNow': [{'data': [{'locale': {'idlocale': 6032, 'idcity': 6575, 'capital': False, 'idcountry': 7, 'ac': 'BR', 'country': 'Brasil', 'uf': 'PA', 'city': 'Carajás', 'region': 'N', 'seaside': False, 'latitude': -2.95, 'longitude': -51.867, 'tourist': False, 'agricultural': False, 'base': 'cities'}, 'weather': {'id': 6032, 'name': 'Carajás', 'date': '04/09/2025', 'dayWeek': 'Quinta-feira', 'dateUpdate': '13:25:00', 'temperature': 27, 'windDirection': 0, 'windVelocity': 15, 'windDirectionDegrees': 101, 'humidity': 80, 'condition': 'Sol com algumas nuvens', 'pressure': 1017, 'icon': '2', 'sensation': 30, 'slugCondition': 'sol-com-algumas-nuvens'}}]}]}, 'status_code': 200}\n",
      "{'data': {'getWeatherNow': [{'data': [{'locale': {'idlocale': 9125, 'idcity': 235, 'capital': False, 'idcountry': 7, 'ac': 'BR', 'country': 'Brasil', 'uf': 'PA', 'city': 'Castanhal', 'region': 'N', 'seaside': False, 'latitude': -1.294, 'longitude': -47.926, 'tourist': False, 'agricultural': False, 'base': 'cities'}, 'weather': {'id': 9125, 'name': 'Castanhal', 'date': '04/09/2025', 'dayWeek': 'Quinta-feira', 'dateUpdate': '14:10:00', 'temperature': 29, 'windDirection': 0, 'windVelocity': 17, 'windDirectionDegrees': 281, 'humidity': 77, 'condition': 'Sol com muitas nuvens', 'pressure': 1016, 'icon': '2r', 'sensation': 33, 'slugCondition': 'sol-com-muitas-nuvens'}}]}]}, 'status_code': 200}\n",
      "{'data': {'getWeatherNow': [{'data': [{'locale': {'idlocale': 9126, 'idcity': 6440, 'capital': False, 'idcountry': 7, 'ac': 'BR', 'country': 'Brasil', 'uf': 'PA', 'city': 'Chaves', 'region': 'N', 'seaside': True, 'latitude': -0.16, 'longitude': -49.988, 'tourist': False, 'agricultural': False, 'base': 'cities'}, 'weather': {'id': 9126, 'name': 'Chaves', 'date': '04/09/2025', 'dayWeek': 'Quinta-feira', 'dateUpdate': '13:25:00', 'temperature': 29, 'windDirection': 0, 'windVelocity': 20, 'windDirectionDegrees': 305, 'humidity': 79, 'condition': 'Sol com algumas nuvens', 'pressure': 1016, 'icon': '2', 'sensation': 35, 'slugCondition': 'sol-com-algumas-nuvens'}}]}]}, 'status_code': 200}\n",
      "{'data': {'getWeatherNow': [{'data': [{'locale': {'idlocale': 9127, 'idcity': 6441, 'capital': False, 'idcountry': 7, 'ac': 'BR', 'country': 'Brasil', 'uf': 'PA', 'city': 'Colares', 'region': 'N', 'seaside': False, 'latitude': -0.937, 'longitude': -48.282, 'tourist': False, 'agricultural': False, 'base': 'cities'}, 'weather': {'id': 9127, 'name': 'Colares', 'date': '04/09/2025', 'dayWeek': 'Quinta-feira', 'dateUpdate': '14:10:00', 'temperature': 29, 'windDirection': 0, 'windVelocity': 20, 'windDirectionDegrees': 290, 'humidity': 78, 'condition': 'Sol com algumas nuvens', 'pressure': 1016, 'icon': '2', 'sensation': 33, 'slugCondition': 'sol-com-algumas-nuvens'}}]}]}, 'status_code': 200}\n",
      "{'data': {'getWeatherNow': [{'data': [{'locale': {'idlocale': 9128, 'idcity': 236, 'capital': False, 'idcountry': 7, 'ac': 'BR', 'country': 'Brasil', 'uf': 'PA', 'city': 'Conceição do Araguaia', 'region': 'N', 'seaside': False, 'latitude': -8.258, 'longitude': -49.265, 'tourist': False, 'agricultural': False, 'base': 'cities'}, 'weather': {'id': 9128, 'name': 'Conceição do Araguaia', 'date': '04/09/2025', 'dayWeek': 'Quinta-feira', 'dateUpdate': '13:25:00', 'temperature': 34, 'windDirection': 0, 'windVelocity': 11, 'windDirectionDegrees': 32, 'humidity': 28, 'condition': 'Sol', 'pressure': 1016, 'icon': '1', 'sensation': 34, 'slugCondition': 'sol'}}]}]}, 'status_code': 200}\n",
      "{'data': {'getWeatherNow': [{'data': [{'locale': {'idlocale': 9129, 'idcity': 6442, 'capital': False, 'idcountry': 7, 'ac': 'BR', 'country': 'Brasil', 'uf': 'PA', 'city': 'Concórdia do Pará', 'region': 'N', 'seaside': False, 'latitude': -2.002, 'longitude': -47.95, 'tourist': False, 'agricultural': False, 'base': 'cities'}, 'weather': {'id': 9129, 'name': 'Concórdia do Pará', 'date': '04/09/2025', 'dayWeek': 'Quinta-feira', 'dateUpdate': '14:10:00', 'temperature': 29, 'windDirection': 0, 'windVelocity': 15, 'windDirectionDegrees': 270, 'humidity': 74, 'condition': 'Sol com muitas nuvens', 'pressure': 1016, 'icon': '2r', 'sensation': 33, 'slugCondition': 'sol-com-muitas-nuvens'}}]}]}, 'status_code': 200}\n",
      "{'data': {'getWeatherNow': [{'data': [{'locale': {'idlocale': 9130, 'idcity': 6443, 'capital': False, 'idcountry': 7, 'ac': 'BR', 'country': 'Brasil', 'uf': 'PA', 'city': 'Cumaru do Norte', 'region': 'N', 'seaside': False, 'latitude': -7.825, 'longitude': -50.773, 'tourist': False, 'agricultural': False, 'base': 'cities'}, 'weather': {'id': 9130, 'name': 'Cumaru do Norte', 'date': '04/09/2025', 'dayWeek': 'Quinta-feira', 'dateUpdate': '14:10:00', 'temperature': 32, 'windDirection': 0, 'windVelocity': 13, 'windDirectionDegrees': 81, 'humidity': 50, 'condition': 'Sol', 'pressure': 1019, 'icon': '1', 'sensation': 34, 'slugCondition': 'sol'}}]}]}, 'status_code': 200}\n",
      "{'data': {'getWeatherNow': [{'data': [{'locale': {'idlocale': 4034, 'idcity': 4989, 'capital': False, 'idcountry': 7, 'ac': 'BR', 'country': 'Brasil', 'uf': 'PA', 'city': 'Curionópolis', 'region': 'N', 'seaside': False, 'latitude': -6.102, 'longitude': -49.598, 'tourist': False, 'agricultural': False, 'base': 'cities'}, 'weather': {'id': 4034, 'name': 'Curionópolis', 'date': '04/09/2025', 'dayWeek': 'Quinta-feira', 'dateUpdate': '13:25:00', 'temperature': 28, 'windDirection': 0, 'windVelocity': 11, 'windDirectionDegrees': 130, 'humidity': 57, 'condition': 'Sol com algumas nuvens', 'pressure': 1017, 'icon': '2', 'sensation': 29, 'slugCondition': 'sol-com-algumas-nuvens'}}]}]}, 'status_code': 200}\n",
      "{'data': {'getWeatherNow': [{'data': [{'locale': {'idlocale': 9131, 'idcity': 6444, 'capital': False, 'idcountry': 7, 'ac': 'BR', 'country': 'Brasil', 'uf': 'PA', 'city': 'Curralinho', 'region': 'N', 'seaside': False, 'latitude': -1.814, 'longitude': -49.795, 'tourist': False, 'agricultural': False, 'base': 'cities'}, 'weather': {'id': 9131, 'name': 'Curralinho', 'date': '04/09/2025', 'dayWeek': 'Quinta-feira', 'dateUpdate': '14:10:00', 'temperature': 28, 'windDirection': 0, 'windVelocity': 18, 'windDirectionDegrees': 331, 'humidity': 79, 'condition': 'Nublado', 'pressure': 1016, 'icon': '3', 'sensation': 33, 'slugCondition': 'nublado'}}]}]}, 'status_code': 200}\n",
      "{'data': {'getWeatherNow': [{'data': [{'locale': {'idlocale': 9132, 'idcity': 6445, 'capital': False, 'idcountry': 7, 'ac': 'BR', 'country': 'Brasil', 'uf': 'PA', 'city': 'Curuá', 'region': 'N', 'seaside': False, 'latitude': -1.888, 'longitude': -55.117, 'tourist': False, 'agricultural': False, 'base': 'cities'}, 'weather': {'id': 9132, 'name': 'Curuá', 'date': '04/09/2025', 'dayWeek': 'Quinta-feira', 'dateUpdate': '13:25:00', 'temperature': 29, 'windDirection': 0, 'windVelocity': 19, 'windDirectionDegrees': 90, 'humidity': 79, 'condition': 'Sol com muitas nuvens', 'pressure': 0, 'icon': '2r', 'sensation': 33, 'slugCondition': 'sol-com-muitas-nuvens'}}]}]}, 'status_code': 200}\n",
      "{'data': {'getWeatherNow': [{'data': [{'locale': {'idlocale': 9133, 'idcity': 237, 'capital': False, 'idcountry': 7, 'ac': 'BR', 'country': 'Brasil', 'uf': 'PA', 'city': 'Curuçá', 'region': 'N', 'seaside': True, 'latitude': -0.729, 'longitude': -47.848, 'tourist': False, 'agricultural': False, 'base': 'cities'}, 'weather': {'id': 9133, 'name': 'Curuçá', 'date': '04/09/2025', 'dayWeek': 'Quinta-feira', 'dateUpdate': '13:25:00', 'temperature': 28, 'windDirection': 0, 'windVelocity': 19, 'windDirectionDegrees': 281, 'humidity': 77, 'condition': 'Sol', 'pressure': 1016, 'icon': '1', 'sensation': 33, 'slugCondition': 'sol'}}]}]}, 'status_code': 200}\n",
      "{'data': {'getWeatherNow': [{'data': [{'locale': {'idlocale': 3951, 'idcity': 4872, 'capital': False, 'idcountry': 7, 'ac': 'BR', 'country': 'Brasil', 'uf': 'PA', 'city': 'Dom Eliseu', 'region': 'N', 'seaside': False, 'latitude': -4.285, 'longitude': -47.505, 'tourist': False, 'agricultural': False, 'base': 'cities'}, 'weather': {'id': 3951, 'name': 'Dom Eliseu', 'date': '04/09/2025', 'dayWeek': 'Quinta-feira', 'dateUpdate': '13:25:00', 'temperature': 30, 'windDirection': 0, 'windVelocity': 16, 'windDirectionDegrees': 129, 'humidity': 65, 'condition': 'Sol com muitas nuvens', 'pressure': 1017, 'icon': '2r', 'sensation': 34, 'slugCondition': 'sol-com-muitas-nuvens'}}]}]}, 'status_code': 200}\n",
      "{'data': {'getWeatherNow': [{'data': [{'locale': {'idlocale': 9134, 'idcity': 1557, 'capital': False, 'idcountry': 7, 'ac': 'BR', 'country': 'Brasil', 'uf': 'PA', 'city': 'Eldorado dos Carajás', 'region': 'N', 'seaside': False, 'latitude': -6.104, 'longitude': -49.355, 'tourist': False, 'agricultural': False, 'base': 'cities'}, 'weather': {'id': 9134, 'name': 'Eldorado dos Carajás', 'date': '04/09/2025', 'dayWeek': 'Quinta-feira', 'dateUpdate': '14:10:00', 'temperature': 30, 'windDirection': 0, 'windVelocity': 13, 'windDirectionDegrees': 126, 'humidity': 60, 'condition': 'Sol com algumas nuvens', 'pressure': 1017, 'icon': '2', 'sensation': 32, 'slugCondition': 'sol-com-algumas-nuvens'}}]}]}, 'status_code': 200}\n",
      "{'data': {'getWeatherNow': [{'data': [{'locale': {'idlocale': 7444, 'idcity': 6446, 'capital': False, 'idcountry': 7, 'ac': 'BR', 'country': 'Brasil', 'uf': 'PA', 'city': 'Faro', 'region': 'N', 'seaside': False, 'latitude': -2.171, 'longitude': -56.745, 'tourist': False, 'agricultural': False, 'base': 'cities'}, 'weather': {'id': 7444, 'name': 'Faro', 'date': '04/09/2025', 'dayWeek': 'Quinta-feira', 'dateUpdate': '14:10:00', 'temperature': 28, 'windDirection': 0, 'windVelocity': 15, 'windDirectionDegrees': 113, 'humidity': 82, 'condition': 'Sol com muitas nuvens', 'pressure': 0, 'icon': '2r', 'sensation': 31, 'slugCondition': 'sol-com-muitas-nuvens'}}]}]}, 'status_code': 200}\n",
      "{'data': {'getWeatherNow': [{'data': [{'locale': {'idlocale': 7445, 'idcity': 5262, 'capital': False, 'idcountry': 7, 'ac': 'BR', 'country': 'Brasil', 'uf': 'PA', 'city': 'Floresta do Araguaia', 'region': 'N', 'seaside': False, 'latitude': -7.554, 'longitude': -49.713, 'tourist': False, 'agricultural': False, 'base': 'cities'}, 'weather': {'id': 7445, 'name': 'Floresta do Araguaia', 'date': '04/09/2025', 'dayWeek': 'Quinta-feira', 'dateUpdate': '13:25:00', 'temperature': 32, 'windDirection': 0, 'windVelocity': 14, 'windDirectionDegrees': 72, 'humidity': 52, 'condition': 'Sol', 'pressure': 1017, 'icon': '1', 'sensation': 34, 'slugCondition': 'sol'}}]}]}, 'status_code': 200}\n",
      "{'data': {'getWeatherNow': [{'data': [{'locale': {'idlocale': 7446, 'idcity': 6447, 'capital': False, 'idcountry': 7, 'ac': 'BR', 'country': 'Brasil', 'uf': 'PA', 'city': 'Garrafão do Norte', 'region': 'N', 'seaside': False, 'latitude': -1.934, 'longitude': -47.052, 'tourist': False, 'agricultural': False, 'base': 'cities'}, 'weather': {'id': 7446, 'name': 'Garrafão do Norte', 'date': '04/09/2025', 'dayWeek': 'Quinta-feira', 'dateUpdate': '13:25:00', 'temperature': 29, 'windDirection': 0, 'windVelocity': 15, 'windDirectionDegrees': 239, 'humidity': 72, 'condition': 'Sol com muitas nuvens', 'pressure': 1016, 'icon': '2r', 'sensation': 34, 'slugCondition': 'sol-com-muitas-nuvens'}}]}]}, 'status_code': 200}\n",
      "{'data': {'getWeatherNow': [{'data': [{'locale': {'idlocale': 4194, 'idcity': 5194, 'capital': False, 'idcountry': 7, 'ac': 'BR', 'country': 'Brasil', 'uf': 'PA', 'city': 'Goianésia do Pará', 'region': 'N', 'seaside': False, 'latitude': -3.843, 'longitude': -49.097, 'tourist': False, 'agricultural': False, 'base': 'cities'}, 'weather': {'id': 4194, 'name': 'Goianésia do Pará', 'date': '04/09/2025', 'dayWeek': 'Quinta-feira', 'dateUpdate': '13:25:00', 'temperature': 28, 'windDirection': 0, 'windVelocity': 12, 'windDirectionDegrees': 125, 'humidity': 70, 'condition': 'Sol com muitas nuvens', 'pressure': 1016, 'icon': '2r', 'sensation': 31, 'slugCondition': 'sol-com-muitas-nuvens'}}]}]}, 'status_code': 200}\n",
      "{'data': {'getWeatherNow': [{'data': [{'locale': {'idlocale': 7447, 'idcity': 238, 'capital': False, 'idcountry': 7, 'ac': 'BR', 'country': 'Brasil', 'uf': 'PA', 'city': 'Gurupá', 'region': 'N', 'seaside': False, 'latitude': -1.405, 'longitude': -51.64, 'tourist': False, 'agricultural': False, 'base': 'cities'}, 'weather': {'id': 7447, 'name': 'Gurupá', 'date': '04/09/2025', 'dayWeek': 'Quinta-feira', 'dateUpdate': '13:25:00', 'temperature': 29, 'windDirection': 0, 'windVelocity': 19, 'windDirectionDegrees': 39, 'humidity': 81, 'condition': 'Sol com algumas nuvens', 'pressure': 1015, 'icon': '2', 'sensation': 35, 'slugCondition': 'sol-com-algumas-nuvens'}}]}]}, 'status_code': 200}\n",
      "{'data': {'getWeatherNow': [{'data': [{'locale': {'idlocale': 6351, 'idcity': 760, 'capital': False, 'idcountry': 7, 'ac': 'BR', 'country': 'Brasil', 'uf': 'PA', 'city': 'Icoaraci', 'region': 'N', 'seaside': False, 'latitude': -1.302, 'longitude': -48.485, 'tourist': False, 'agricultural': False, 'base': 'cities'}, 'weather': {'id': 6351, 'name': 'Icoaraci', 'date': '04/09/2025', 'dayWeek': 'Quinta-feira', 'dateUpdate': '14:10:00', 'temperature': 28, 'windDirection': 0, 'windVelocity': 19, 'windDirectionDegrees': 292, 'humidity': 78, 'condition': 'Sol com algumas nuvens', 'pressure': 1016, 'icon': '2', 'sensation': 32, 'slugCondition': 'sol-com-algumas-nuvens'}}]}]}, 'status_code': 200}\n",
      "{'data': {'getWeatherNow': [{'data': [{'locale': {'idlocale': 7448, 'idcity': 239, 'capital': False, 'idcountry': 7, 'ac': 'BR', 'country': 'Brasil', 'uf': 'PA', 'city': 'Igarapé-Açu', 'region': 'N', 'seaside': False, 'latitude': -1.129, 'longitude': -47.62, 'tourist': False, 'agricultural': False, 'base': 'cities'}, 'weather': {'id': 7448, 'name': 'Igarapé-Açu', 'date': '04/09/2025', 'dayWeek': 'Quinta-feira', 'dateUpdate': '13:25:00', 'temperature': 29, 'windDirection': 0, 'windVelocity': 17, 'windDirectionDegrees': 270, 'humidity': 76, 'condition': 'Sol com muitas nuvens', 'pressure': 1016, 'icon': '2r', 'sensation': 33, 'slugCondition': 'sol-com-muitas-nuvens'}}]}]}, 'status_code': 200}\n",
      "{'data': {'getWeatherNow': [{'data': [{'locale': {'idlocale': 7449, 'idcity': 1199, 'capital': False, 'idcountry': 7, 'ac': 'BR', 'country': 'Brasil', 'uf': 'PA', 'city': 'Igarapé-Miri', 'region': 'N', 'seaside': False, 'latitude': -1.975, 'longitude': -48.96, 'tourist': False, 'agricultural': False, 'base': 'cities'}, 'weather': {'id': 7449, 'name': 'Igarapé-Miri', 'date': '04/09/2025', 'dayWeek': 'Quinta-feira', 'dateUpdate': '14:10:00', 'temperature': 28, 'windDirection': 0, 'windVelocity': 16, 'windDirectionDegrees': 301, 'humidity': 77, 'condition': 'Sol com muitas nuvens', 'pressure': 1016, 'icon': '2r', 'sensation': 31, 'slugCondition': 'sol-com-muitas-nuvens'}}]}]}, 'status_code': 200}\n",
      "{'data': {'getWeatherNow': [{'data': [{'locale': {'idlocale': 4074, 'idcity': 5031, 'capital': False, 'idcountry': 7, 'ac': 'BR', 'country': 'Brasil', 'uf': 'PA', 'city': 'Ilha de Marajó', 'region': 'N', 'seaside': False, 'latitude': -0.983, 'longitude': -49.95, 'tourist': True, 'agricultural': False, 'base': 'cities'}, 'weather': {'id': 4074, 'name': 'Ilha de Marajó', 'date': '04/09/2025', 'dayWeek': 'Quinta-feira', 'dateUpdate': '13:25:00', 'temperature': 29, 'windDirection': 0, 'windVelocity': 19, 'windDirectionDegrees': 312, 'humidity': 79, 'condition': 'Sol com muitas nuvens', 'pressure': 1016, 'icon': '2r', 'sensation': 34, 'slugCondition': 'sol-com-muitas-nuvens'}}]}]}, 'status_code': 200}\n",
      "{'data': {'getWeatherNow': [{'data': [{'locale': {'idlocale': 7450, 'idcity': 6448, 'capital': False, 'idcountry': 7, 'ac': 'BR', 'country': 'Brasil', 'uf': 'PA', 'city': 'Inhangapi', 'region': 'N', 'seaside': False, 'latitude': -1.43, 'longitude': -47.92, 'tourist': False, 'agricultural': False, 'base': 'cities'}, 'weather': {'id': 7450, 'name': 'Inhangapi', 'date': '04/09/2025', 'dayWeek': 'Quinta-feira', 'dateUpdate': '14:10:00', 'temperature': 29, 'windDirection': 0, 'windVelocity': 18, 'windDirectionDegrees': 279, 'humidity': 76, 'condition': 'Sol com muitas nuvens', 'pressure': 1016, 'icon': '2r', 'sensation': 34, 'slugCondition': 'sol-com-muitas-nuvens'}}]}]}, 'status_code': 200}\n",
      "{'data': {'getWeatherNow': [{'data': [{'locale': {'idlocale': 7451, 'idcity': 6449, 'capital': False, 'idcountry': 7, 'ac': 'BR', 'country': 'Brasil', 'uf': 'PA', 'city': 'Ipixuna do Pará', 'region': 'N', 'seaside': False, 'latitude': -2.558, 'longitude': -47.495, 'tourist': False, 'agricultural': False, 'base': 'cities'}, 'weather': {'id': 7451, 'name': 'Ipixuna do Pará', 'date': '04/09/2025', 'dayWeek': 'Quinta-feira', 'dateUpdate': '14:10:00', 'temperature': 29, 'windDirection': 0, 'windVelocity': 14, 'windDirectionDegrees': 211, 'humidity': 71, 'condition': 'Sol', 'pressure': 1016, 'icon': '1', 'sensation': 32, 'slugCondition': 'sol'}}]}]}, 'status_code': 200}\n",
      "{'data': {'getWeatherNow': [{'data': [{'locale': {'idlocale': 7452, 'idcity': 1200, 'capital': False, 'idcountry': 7, 'ac': 'BR', 'country': 'Brasil', 'uf': 'PA', 'city': 'Irituia', 'region': 'N', 'seaside': False, 'latitude': -1.771, 'longitude': -47.438, 'tourist': False, 'agricultural': False, 'base': 'cities'}, 'weather': {'id': 7452, 'name': 'Irituia', 'date': '04/09/2025', 'dayWeek': 'Quinta-feira', 'dateUpdate': '13:25:00', 'temperature': 29, 'windDirection': 0, 'windVelocity': 16, 'windDirectionDegrees': 257, 'humidity': 74, 'condition': 'Sol com muitas nuvens', 'pressure': 1016, 'icon': '2r', 'sensation': 34, 'slugCondition': 'sol-com-muitas-nuvens'}}]}]}, 'status_code': 200}\n"
     ]
    },
    {
     "data": {
      "text/plain": [
       "[{'lat': -1.718, 'lon': -48.883, 'temperatura': 28},\n",
       " {'lat': -4.954, 'lon': -48.393, 'temperatura': 30},\n",
       " {'lat': -1.961, 'lon': -48.197, 'temperatura': 29},\n",
       " {'lat': -0.157, 'lon': -50.387, 'temperatura': 30},\n",
       " {'lat': -1.942, 'lon': -54.738, 'temperatura': 29},\n",
       " {'lat': -0.583, 'lon': -47.567, 'temperatura': 28},\n",
       " {'lat': -1.523, 'lon': -52.582, 'temperatura': 29},\n",
       " {'lat': -3.203, 'lon': -52.206, 'temperatura': 26},\n",
       " {'lat': -0.987, 'lon': -49.94, 'temperatura': 29},\n",
       " {'lat': -1.366, 'lon': -48.372, 'temperatura': 29},\n",
       " {'lat': -3.472, 'lon': -51.198, 'temperatura': 27},\n",
       " {'lat': -1.022, 'lon': -46.635, 'temperatura': 29},\n",
       " {'lat': -2.134, 'lon': -47.559, 'temperatura': 29},\n",
       " {'lat': -3.606, 'lon': -55.332, 'temperatura': 29},\n",
       " {'lat': -1.9, 'lon': -50.164, 'temperatura': 28},\n",
       " {'lat': -2.791, 'lon': -49.672, 'temperatura': 28},\n",
       " {'lat': -7.348, 'lon': -50.396, 'temperatura': 30},\n",
       " {'lat': -1.506, 'lon': -48.626, 'temperatura': 28},\n",
       " {'lat': -3.083, 'lon': -51.767, 'temperatura': 27},\n",
       " {'lat': -2.636, 'lon': -54.937, 'temperatura': 29},\n",
       " {'lat': -1.411, 'lon': -48.44, 'temperatura': 29},\n",
       " {'lat': -1.361, 'lon': -48.245, 'temperatura': 29},\n",
       " {'lat': -5.051, 'lon': -48.609, 'temperatura': 30},\n",
       " {'lat': -1.363, 'lon': -47.306, 'temperatura': 29},\n",
       " {'lat': -1.054, 'lon': -46.766, 'temperatura': 30},\n",
       " {'lat': -3.305, 'lon': -53.536, 'temperatura': 28},\n",
       " {'lat': -5.699, 'lon': -48.413, 'temperatura': 31},\n",
       " {'lat': -4.068, 'lon': -49.637, 'temperatura': 28},\n",
       " {'lat': -1.682, 'lon': -50.48, 'temperatura': 29},\n",
       " {'lat': -1.515, 'lon': -48.045, 'temperatura': 29},\n",
       " {'lat': -1.011, 'lon': -48.963, 'temperatura': 29},\n",
       " {'lat': -1.76, 'lon': -46.545, 'temperatura': 30},\n",
       " {'lat': -2.244, 'lon': -49.496, 'temperatura': 28},\n",
       " {'lat': -6.497, 'lon': -49.878, 'temperatura': 28},\n",
       " {'lat': -1.196, 'lon': -47.181, 'temperatura': 29},\n",
       " {'lat': -1.746, 'lon': -47.059, 'temperatura': 29},\n",
       " {'lat': -2.95, 'lon': -51.867, 'temperatura': 27},\n",
       " {'lat': -1.294, 'lon': -47.926, 'temperatura': 29},\n",
       " {'lat': -0.16, 'lon': -49.988, 'temperatura': 29},\n",
       " {'lat': -0.937, 'lon': -48.282, 'temperatura': 29},\n",
       " {'lat': -8.258, 'lon': -49.265, 'temperatura': 34},\n",
       " {'lat': -2.002, 'lon': -47.95, 'temperatura': 29},\n",
       " {'lat': -7.825, 'lon': -50.773, 'temperatura': 32},\n",
       " {'lat': -6.102, 'lon': -49.598, 'temperatura': 28},\n",
       " {'lat': -1.814, 'lon': -49.795, 'temperatura': 28},\n",
       " {'lat': -1.888, 'lon': -55.117, 'temperatura': 29},\n",
       " {'lat': -0.729, 'lon': -47.848, 'temperatura': 28},\n",
       " {'lat': -4.285, 'lon': -47.505, 'temperatura': 30},\n",
       " {'lat': -6.104, 'lon': -49.355, 'temperatura': 30},\n",
       " {'lat': -2.171, 'lon': -56.745, 'temperatura': 28},\n",
       " {'lat': -7.554, 'lon': -49.713, 'temperatura': 32},\n",
       " {'lat': -1.934, 'lon': -47.052, 'temperatura': 29},\n",
       " {'lat': -3.843, 'lon': -49.097, 'temperatura': 28},\n",
       " {'lat': -1.405, 'lon': -51.64, 'temperatura': 29},\n",
       " {'lat': -1.302, 'lon': -48.485, 'temperatura': 28},\n",
       " {'lat': -1.129, 'lon': -47.62, 'temperatura': 29},\n",
       " {'lat': -1.975, 'lon': -48.96, 'temperatura': 28},\n",
       " {'lat': -0.983, 'lon': -49.95, 'temperatura': 29},\n",
       " {'lat': -1.43, 'lon': -47.92, 'temperatura': 29},\n",
       " {'lat': -2.558, 'lon': -47.495, 'temperatura': 29},\n",
       " {'lat': -1.771, 'lon': -47.438, 'temperatura': 29}]"
      ]
     },
     "execution_count": 57,
     "metadata": {},
     "output_type": "execute_result"
    }
   ],
   "source": [
    "temperaturas = []\n",
    "for id_locale in id_locales:\n",
    "    weather_json = get_weather(id_locale)\n",
    "    print(weather_json)\n",
    "\n",
    "    weather_json = weather_json['data']['getWeatherNow'][0]['data'][0]\n",
    "    if weather_json['weather']['temperature'] == '-':\n",
    "        continue\n",
    "    temperaturas.append({'lat': weather_json['locale']['latitude'],\n",
    "                         'lon': weather_json['locale']['longitude'],\n",
    "                          'temperatura': weather_json['weather']['temperature']})\n",
    "temperaturas"
   ]
  },
  {
   "cell_type": "code",
   "execution_count": 71,
   "id": "576c69d2",
   "metadata": {},
   "outputs": [
    {
     "data": {
      "text/html": [
       "\n",
       "        <iframe\n",
       "            width=\"700\"\n",
       "            height=\"500\"\n",
       "            src=\"../Misc/mapa_temperaturas.html\"\n",
       "            frameborder=\"0\"\n",
       "            allowfullscreen\n",
       "            \n",
       "        ></iframe>\n",
       "        "
      ],
      "text/plain": [
       "<IPython.lib.display.IFrame at 0x131346410>"
      ]
     },
     "execution_count": 71,
     "metadata": {},
     "output_type": "execute_result"
    }
   ],
   "source": [
    "# Criando DataFrame\n",
    "df = pd.DataFrame(temperaturas)  # sua lista de dicionários\n",
    "\n",
    "# Criando geometria de pontos\n",
    "geometry = [Point(xy) for xy in zip(df['lon'], df['lat'])]\n",
    "gdf = gpd.GeoDataFrame(df, geometry=geometry)\n",
    "\n",
    "# Criando mapa centralizado no centro dos pontos\n",
    "map_center = [df['lat'].mean(), df['lon'].mean()]\n",
    "m = folium.Map(location=map_center, zoom_start=13)\n",
    "\n",
    "# Função para definir cor por faixa de temperatura\n",
    "def cor_por_temperatura(temp):\n",
    "    if temp < 15:\n",
    "        return 'blue'\n",
    "    elif 15 <= temp <= 20:\n",
    "        return 'yellow'\n",
    "    else:\n",
    "        return 'red'\n",
    "\n",
    "# Adicionando pontos com cor fixa por faixa e tooltip\n",
    "for _, row in gdf.iterrows():\n",
    "    folium.CircleMarker(\n",
    "        location=[row['lat'], row['lon']],\n",
    "        radius=10,\n",
    "        color=None,\n",
    "        fill=True,\n",
    "        fill_color=cor_por_temperatura(row['temperatura']),\n",
    "        fill_opacity=0.7,\n",
    "        tooltip=f\"Temperatura: {row['temperatura']}°C\"\n",
    "    ).add_to(m)\n",
    "\n",
    "# HeatMap opcional\n",
    "heat_data = [[row['lat'], row['lon'], row['temperatura']] for _, row in gdf.iterrows()]\n",
    "HeatMap(heat_data, radius=25).add_to(m)\n",
    "\n",
    "# Salvar e exibir via IFrame para contornar o trust\n",
    "map_file = \"../Misc/mapa_temperaturas.html\"\n",
    "m.save(map_file)\n",
    "IFrame(map_file, width=700, height=500)\n"
   ]
  }
 ],
 "metadata": {
  "kernelspec": {
   "display_name": "Python 3",
   "language": "python",
   "name": "python3"
  },
  "language_info": {
   "codemirror_mode": {
    "name": "ipython",
    "version": 3
   },
   "file_extension": ".py",
   "mimetype": "text/x-python",
   "name": "python",
   "nbconvert_exporter": "python",
   "pygments_lexer": "ipython3",
   "version": "3.11.13"
  }
 },
 "nbformat": 4,
 "nbformat_minor": 5
}
