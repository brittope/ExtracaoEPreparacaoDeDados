{
 "cells": [
  {
   "cell_type": "code",
   "execution_count": 9,
   "id": "854a751c",
   "metadata": {},
   "outputs": [],
   "source": [
    "import pandas as pd\n",
    "from pandas import json_normalize\n",
    "import json"
   ]
  },
  {
   "cell_type": "markdown",
   "id": "7f2bc4d0",
   "metadata": {},
   "source": [
    "Extração de JSON tem 3 níveis de complexidade:\n",
    "\n",
    "Nível 1 – JSON simples (um único produto)\n",
    "\n",
    "Nível 2 – JSON aninhado (produto com histórico de preços em lista)\n",
    "\n",
    "Nível 3 – JSON mais complexo (pedido com múltiplos produtos e preços promocionais)"
   ]
  },
  {
   "cell_type": "code",
   "execution_count": 7,
   "id": "ceb7bf18",
   "metadata": {},
   "outputs": [
    {
     "data": {
      "text/html": [
       "<div>\n",
       "<style scoped>\n",
       "    .dataframe tbody tr th:only-of-type {\n",
       "        vertical-align: middle;\n",
       "    }\n",
       "\n",
       "    .dataframe tbody tr th {\n",
       "        vertical-align: top;\n",
       "    }\n",
       "\n",
       "    .dataframe thead th {\n",
       "        text-align: right;\n",
       "    }\n",
       "</style>\n",
       "<table border=\"1\" class=\"dataframe\">\n",
       "  <thead>\n",
       "    <tr style=\"text-align: right;\">\n",
       "      <th></th>\n",
       "      <th>id</th>\n",
       "      <th>produto</th>\n",
       "      <th>preco</th>\n",
       "      <th>quantidade</th>\n",
       "    </tr>\n",
       "  </thead>\n",
       "  <tbody>\n",
       "    <tr>\n",
       "      <th>0</th>\n",
       "      <td>101</td>\n",
       "      <td>Notebook</td>\n",
       "      <td>3500</td>\n",
       "      <td>2</td>\n",
       "    </tr>\n",
       "    <tr>\n",
       "      <th>1</th>\n",
       "      <td>102</td>\n",
       "      <td>TV</td>\n",
       "      <td>1000</td>\n",
       "      <td>20</td>\n",
       "    </tr>\n",
       "  </tbody>\n",
       "</table>\n",
       "</div>"
      ],
      "text/plain": [
       "    id   produto  preco  quantidade\n",
       "0  101  Notebook   3500           2\n",
       "1  102        TV   1000          20"
      ]
     },
     "execution_count": 7,
     "metadata": {},
     "output_type": "execute_result"
    }
   ],
   "source": [
    "# Nível 1\n",
    "\n",
    "data = [{\n",
    "  \"id\": 101,\n",
    "  \"produto\": \"Notebook\",\n",
    "  \"preco\": 3500,\n",
    "  \"quantidade\": 2\n",
    "    },\n",
    "    {\n",
    "  \"id\": 102,\n",
    "  \"produto\": \"TV\",\n",
    "  \"preco\": 1000,\n",
    "  \"quantidade\": 20\n",
    "    }\n",
    "]\n",
    "\n",
    "df = pd.DataFrame(data)\n",
    "df.head()\n"
   ]
  },
  {
   "cell_type": "code",
   "execution_count": null,
   "id": "8560bda3",
   "metadata": {},
   "outputs": [
    {
     "data": {
      "text/html": [
       "<div>\n",
       "<style scoped>\n",
       "    .dataframe tbody tr th:only-of-type {\n",
       "        vertical-align: middle;\n",
       "    }\n",
       "\n",
       "    .dataframe tbody tr th {\n",
       "        vertical-align: top;\n",
       "    }\n",
       "\n",
       "    .dataframe thead th {\n",
       "        text-align: right;\n",
       "    }\n",
       "</style>\n",
       "<table border=\"1\" class=\"dataframe\">\n",
       "  <thead>\n",
       "    <tr style=\"text-align: right;\">\n",
       "      <th></th>\n",
       "      <th>data</th>\n",
       "      <th>valor</th>\n",
       "      <th>produto.id</th>\n",
       "      <th>produto.nome</th>\n",
       "    </tr>\n",
       "  </thead>\n",
       "  <tbody>\n",
       "    <tr>\n",
       "      <th>0</th>\n",
       "      <td>2025-01-01</td>\n",
       "      <td>2000</td>\n",
       "      <td>202</td>\n",
       "      <td>Smartphone</td>\n",
       "    </tr>\n",
       "    <tr>\n",
       "      <th>1</th>\n",
       "      <td>2025-02-01</td>\n",
       "      <td>2100</td>\n",
       "      <td>202</td>\n",
       "      <td>Smartphone</td>\n",
       "    </tr>\n",
       "  </tbody>\n",
       "</table>\n",
       "</div>"
      ],
      "text/plain": [
       "         data  valor produto.id produto.nome\n",
       "0  2025-01-01   2000        202   Smartphone\n",
       "1  2025-02-01   2100        202   Smartphone"
      ]
     },
     "execution_count": 3,
     "metadata": {},
     "output_type": "execute_result"
    }
   ],
   "source": [
    "# Nível 2 = um produto, com uma lista de preços → 1 normalização basta.\n",
    "\n",
    "data = {\n",
    "  \"produto\": {\n",
    "    \"id\": 202,\n",
    "    \"nome\": \"Smartphone\",\n",
    "    \"precos\": [\n",
    "      {\"data\": \"2025-01-01\", \"valor\": 2000},\n",
    "      {\"data\": \"2025-02-01\", \"valor\": 2100}\n",
    "    ]\n",
    "  }\n",
    "}\n",
    "\n",
    "df = json_normalize(\n",
    "    data,\n",
    "    # caminho dentro do JSON até a lista que você quer transformar em linhas da tabela.\n",
    "    record_path=['produto', 'precos'],\n",
    "    # outras informações do nível superior que você também quer carregar junto.\n",
    "    meta=[['produto', 'id'], ['produto', 'nome']]\n",
    ")\n",
    "\n",
    "df.head()"
   ]
  },
  {
   "cell_type": "code",
   "execution_count": null,
   "id": "0863d5a0",
   "metadata": {},
   "outputs": [
    {
     "name": "stdout",
     "output_type": "stream",
     "text": [
      "Itens do pedido:\n"
     ]
    },
    {
     "data": {
      "text/html": [
       "<div>\n",
       "<style scoped>\n",
       "    .dataframe tbody tr th:only-of-type {\n",
       "        vertical-align: middle;\n",
       "    }\n",
       "\n",
       "    .dataframe tbody tr th {\n",
       "        vertical-align: top;\n",
       "    }\n",
       "\n",
       "    .dataframe thead th {\n",
       "        text-align: right;\n",
       "    }\n",
       "</style>\n",
       "<table border=\"1\" class=\"dataframe\">\n",
       "  <thead>\n",
       "    <tr style=\"text-align: right;\">\n",
       "      <th></th>\n",
       "      <th>produto</th>\n",
       "      <th>quantidade</th>\n",
       "      <th>precos</th>\n",
       "      <th>pedido.id</th>\n",
       "      <th>pedido.cliente</th>\n",
       "    </tr>\n",
       "  </thead>\n",
       "  <tbody>\n",
       "    <tr>\n",
       "      <th>0</th>\n",
       "      <td>Notebook</td>\n",
       "      <td>1</td>\n",
       "      <td>[3500, 3300]</td>\n",
       "      <td>303</td>\n",
       "      <td>Carlos</td>\n",
       "    </tr>\n",
       "    <tr>\n",
       "      <th>1</th>\n",
       "      <td>Mouse</td>\n",
       "      <td>2</td>\n",
       "      <td>[80, 70]</td>\n",
       "      <td>303</td>\n",
       "      <td>Carlos</td>\n",
       "    </tr>\n",
       "  </tbody>\n",
       "</table>\n",
       "</div>"
      ],
      "text/plain": [
       "    produto  quantidade        precos pedido.id pedido.cliente\n",
       "0  Notebook           1  [3500, 3300]       303         Carlos\n",
       "1     Mouse           2      [80, 70]       303         Carlos"
      ]
     },
     "execution_count": 4,
     "metadata": {},
     "output_type": "execute_result"
    }
   ],
   "source": [
    "# Nível 3 = um pedido, com vários itens, e cada item tem sua própria lista de preços → precisa de 2 normalizações (ou passos extras).\n",
    "\n",
    "data = {\n",
    "    \"pedido\": {\n",
    "        \"id\": 303,\n",
    "        \"cliente\": \"Carlos\",\n",
    "        \"itens\": [\n",
    "            {\"produto\": \"Notebook\", \"quantidade\": 1, \"precos\": [3500, 3300]},\n",
    "            {\"produto\": \"Mouse\", \"quantidade\": 2, \"precos\": [80, 70]}\n",
    "        ]\n",
    "    }\n",
    "}\n",
    "\n",
    "# 1ª normalização: expandir os itens do pedido\n",
    "df_itens = json_normalize(\n",
    "    data,\n",
    "    # caminho dentro do JSON até a lista que você quer transformar em linhas da tabela.\n",
    "    record_path=['pedido', 'itens'],\n",
    "    # outras informações do nível superior que você também quer carregar junto\n",
    "    meta=[['pedido', 'id'], ['pedido', 'cliente']]\n",
    ")\n",
    "\n",
    "print(\"Itens do pedido:\")\n",
    "df_itens.head()"
   ]
  },
  {
   "cell_type": "code",
   "execution_count": 11,
   "id": "ac7fa228",
   "metadata": {},
   "outputs": [
    {
     "name": "stdout",
     "output_type": "stream",
     "text": [
      "\n",
      "Itens com preços detalhados:\n"
     ]
    },
    {
     "data": {
      "text/html": [
       "<div>\n",
       "<style scoped>\n",
       "    .dataframe tbody tr th:only-of-type {\n",
       "        vertical-align: middle;\n",
       "    }\n",
       "\n",
       "    .dataframe tbody tr th {\n",
       "        vertical-align: top;\n",
       "    }\n",
       "\n",
       "    .dataframe thead th {\n",
       "        text-align: right;\n",
       "    }\n",
       "</style>\n",
       "<table border=\"1\" class=\"dataframe\">\n",
       "  <thead>\n",
       "    <tr style=\"text-align: right;\">\n",
       "      <th></th>\n",
       "      <th>produto</th>\n",
       "      <th>quantidade</th>\n",
       "      <th>precos</th>\n",
       "      <th>pedido.id</th>\n",
       "      <th>pedido.cliente</th>\n",
       "    </tr>\n",
       "  </thead>\n",
       "  <tbody>\n",
       "    <tr>\n",
       "      <th>0</th>\n",
       "      <td>Notebook</td>\n",
       "      <td>1</td>\n",
       "      <td>3500</td>\n",
       "      <td>303</td>\n",
       "      <td>Carlos</td>\n",
       "    </tr>\n",
       "    <tr>\n",
       "      <th>1</th>\n",
       "      <td>Notebook</td>\n",
       "      <td>1</td>\n",
       "      <td>3300</td>\n",
       "      <td>303</td>\n",
       "      <td>Carlos</td>\n",
       "    </tr>\n",
       "    <tr>\n",
       "      <th>2</th>\n",
       "      <td>Mouse</td>\n",
       "      <td>2</td>\n",
       "      <td>80</td>\n",
       "      <td>303</td>\n",
       "      <td>Carlos</td>\n",
       "    </tr>\n",
       "    <tr>\n",
       "      <th>3</th>\n",
       "      <td>Mouse</td>\n",
       "      <td>2</td>\n",
       "      <td>70</td>\n",
       "      <td>303</td>\n",
       "      <td>Carlos</td>\n",
       "    </tr>\n",
       "  </tbody>\n",
       "</table>\n",
       "</div>"
      ],
      "text/plain": [
       "    produto  quantidade precos pedido.id pedido.cliente\n",
       "0  Notebook           1   3500       303         Carlos\n",
       "1  Notebook           1   3300       303         Carlos\n",
       "2     Mouse           2     80       303         Carlos\n",
       "3     Mouse           2     70       303         Carlos"
      ]
     },
     "execution_count": 11,
     "metadata": {},
     "output_type": "execute_result"
    }
   ],
   "source": [
    "# 2ª normalização: explodir lista de preços (normal e promocional)\n",
    "\n",
    "df_precos = df_itens.explode('precos').reset_index(drop=True)\n",
    "\n",
    "print(\"\\nItens com preços detalhados:\")\n",
    "df_precos.head()"
   ]
  }
 ],
 "metadata": {
  "kernelspec": {
   "display_name": "Python 3",
   "language": "python",
   "name": "python3"
  },
  "language_info": {
   "codemirror_mode": {
    "name": "ipython",
    "version": 3
   },
   "file_extension": ".py",
   "mimetype": "text/x-python",
   "name": "python",
   "nbconvert_exporter": "python",
   "pygments_lexer": "ipython3",
   "version": "3.11.13"
  }
 },
 "nbformat": 4,
 "nbformat_minor": 5
}
