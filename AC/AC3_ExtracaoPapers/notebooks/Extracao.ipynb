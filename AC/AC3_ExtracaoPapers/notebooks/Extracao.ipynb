{
 "cells": [
  {
   "cell_type": "code",
   "execution_count": 8,
   "id": "dddb90d3",
   "metadata": {},
   "outputs": [],
   "source": [
    "grobid_server = \"https://kermitt2-grobid.hf.space\""
   ]
  },
  {
   "cell_type": "code",
   "execution_count": 7,
   "id": "9b50eea6",
   "metadata": {},
   "outputs": [],
   "source": [
    "input_path = \"../data/raw\"  # Replace with the actual folder path\n",
    "output_path = \"../data/interim/\"  # Replace with the desired output folder path\n",
    "\n",
    "import os\n",
    "files = []\n",
    "\n",
    "for filename in os.listdir(input_path):\n",
    "    file_path = os.path.join(input_path, filename)\n",
    "    if os.path.isfile(file_path):\n",
    "        # Add the file and its size to the list\n",
    "        files.append((file_path, os.path.getsize(file_path)))"
   ]
  },
  {
   "cell_type": "code",
   "execution_count": 6,
   "id": "331f5ae9",
   "metadata": {},
   "outputs": [
    {
     "name": "stderr",
     "output_type": "stream",
     "text": [
      "Processando arquivos:   0%|          | 0/21 [00:00<?, ?file/s]"
     ]
    },
    {
     "name": "stdout",
     "output_type": "stream",
     "text": [
      "Trying to extract ../data/raw/Entrepreneurship-in-transitional-economy_2011_.pdf from PDF to TEI...\n"
     ]
    },
    {
     "name": "stderr",
     "output_type": "stream",
     "text": [
      "Processando arquivos:   0%|          | 0/21 [00:27<?, ?file/s]"
     ]
    },
    {
     "name": "stdout",
     "output_type": "stream",
     "text": [
      "Processed Entrepreneurship-in-transitional-economy_2011_.pdf -> ../data/interim/Entrepreneurship-in-transitional-economy_2011_.pdf.grobid.tei.xml\n"
     ]
    },
    {
     "name": "stderr",
     "output_type": "stream",
     "text": [
      "Processando arquivos:   5%|▍         | 1/21 [00:47<15:47, 47.36s/file]"
     ]
    },
    {
     "name": "stdout",
     "output_type": "stream",
     "text": [
      "Trying to extract ../data/raw/Innovative-entrepreneurship-as-a-collaborative-effort-An-institutional-framework_2021_Now-Publishers-Inc.pdf from PDF to TEI...\n"
     ]
    },
    {
     "name": "stderr",
     "output_type": "stream",
     "text": [
      "Processando arquivos:   5%|▍         | 1/21 [03:36<15:47, 47.36s/file]"
     ]
    },
    {
     "name": "stdout",
     "output_type": "stream",
     "text": [
      "Processed Innovative-entrepreneurship-as-a-collaborative-effort-An-institutional-framework_2021_Now-Publishers-Inc.pdf -> ../data/interim/Innovative-entrepreneurship-as-a-collaborative-effort-An-institutional-framework_2021_Now-Publishers-Inc.pdf.grobid.tei.xml\n"
     ]
    },
    {
     "name": "stderr",
     "output_type": "stream",
     "text": [
      "Processando arquivos:  10%|▉         | 2/21 [03:56<41:25, 130.81s/file]"
     ]
    },
    {
     "name": "stdout",
     "output_type": "stream",
     "text": [
      "Trying to extract ../data/raw/Austrian-persistence-Capitalbased-business-cycle-theory-and-the-dynamics-of-investment-spending_2006_.pdf from PDF to TEI...\n"
     ]
    },
    {
     "name": "stderr",
     "output_type": "stream",
     "text": [
      "Processando arquivos:  14%|█▍        | 3/21 [04:01<21:56, 73.16s/file] "
     ]
    },
    {
     "name": "stdout",
     "output_type": "stream",
     "text": [
      "../data/interim/Austrian-persistence-Capitalbased-business-cycle-theory-and-the-dynamics-of-investment-spending_2006_.pdf.grobid.tei.xml is empty. NOT PROCESSED.\n",
      "Trying to extract ../data/raw/On-predictive-entrepreneurial-action-in-uncertain-illstructured-conditions_2021_Springer-Science-and-Busin.pdf from PDF to TEI...\n"
     ]
    },
    {
     "name": "stderr",
     "output_type": "stream",
     "text": [
      "Processando arquivos:  14%|█▍        | 3/21 [06:03<21:56, 73.16s/file]"
     ]
    },
    {
     "name": "stdout",
     "output_type": "stream",
     "text": [
      "Processed On-predictive-entrepreneurial-action-in-uncertain-illstructured-conditions_2021_Springer-Science-and-Busin.pdf -> ../data/interim/On-predictive-entrepreneurial-action-in-uncertain-illstructured-conditions_2021_Springer-Science-and-Busin.pdf.grobid.tei.xml\n"
     ]
    },
    {
     "name": "stderr",
     "output_type": "stream",
     "text": [
      "Processando arquivos:  19%|█▉        | 4/21 [06:23<28:25, 100.32s/file]"
     ]
    },
    {
     "name": "stdout",
     "output_type": "stream",
     "text": [
      "Trying to extract ../data/raw/Motivational-Objects-in-Natural-Scenes-MONS-A-database-of-gt-800-objects_2017_Frontiers-Media-SA-infofront.pdf from PDF to TEI...\n"
     ]
    },
    {
     "name": "stderr",
     "output_type": "stream",
     "text": [
      "Processando arquivos:  19%|█▉        | 4/21 [07:12<28:25, 100.32s/file]"
     ]
    },
    {
     "name": "stdout",
     "output_type": "stream",
     "text": [
      "Processed Motivational-Objects-in-Natural-Scenes-MONS-A-database-of-gt-800-objects_2017_Frontiers-Media-SA-infofront.pdf -> ../data/interim/Motivational-Objects-in-Natural-Scenes-MONS-A-database-of-gt-800-objects_2017_Frontiers-Media-SA-infofront.pdf.grobid.tei.xml\n"
     ]
    },
    {
     "name": "stderr",
     "output_type": "stream",
     "text": [
      "Processando arquivos:  24%|██▍       | 5/21 [07:32<23:44, 89.02s/file] "
     ]
    },
    {
     "name": "stdout",
     "output_type": "stream",
     "text": [
      "Trying to extract ../data/raw/Constructivism-individual-action-and-housing-finance-An-individualist-critique-of-approaches-to-housing-fi.pdf from PDF to TEI...\n"
     ]
    },
    {
     "name": "stderr",
     "output_type": "stream",
     "text": [
      "Processando arquivos:  24%|██▍       | 5/21 [08:46<23:44, 89.02s/file]"
     ]
    },
    {
     "name": "stdout",
     "output_type": "stream",
     "text": [
      "Processed Constructivism-individual-action-and-housing-finance-An-individualist-critique-of-approaches-to-housing-fi.pdf -> ../data/interim/Constructivism-individual-action-and-housing-finance-An-individualist-critique-of-approaches-to-housing-fi.pdf.grobid.tei.xml\n"
     ]
    },
    {
     "name": "stderr",
     "output_type": "stream",
     "text": [
      "Processando arquivos:  29%|██▊       | 6/21 [09:06<22:43, 90.88s/file]"
     ]
    },
    {
     "name": "stdout",
     "output_type": "stream",
     "text": [
      "Trying to extract ../data/raw/Conserving-Forests-in-Privatized-Commons-Trends-and-Management-Options-in-an-Ifugao-Village-Philippines_20.pdf from PDF to TEI...\n"
     ]
    },
    {
     "name": "stderr",
     "output_type": "stream",
     "text": [
      "Processando arquivos:  29%|██▊       | 6/21 [10:14<22:43, 90.88s/file]"
     ]
    },
    {
     "name": "stdout",
     "output_type": "stream",
     "text": [
      "Processed Conserving-Forests-in-Privatized-Commons-Trends-and-Management-Options-in-an-Ifugao-Village-Philippines_20.pdf -> ../data/interim/Conserving-Forests-in-Privatized-Commons-Trends-and-Management-Options-in-an-Ifugao-Village-Philippines_20.pdf.grobid.tei.xml\n"
     ]
    },
    {
     "name": "stderr",
     "output_type": "stream",
     "text": [
      "Processando arquivos:  33%|███▎      | 7/21 [10:34<21:00, 90.06s/file]"
     ]
    },
    {
     "name": "stdout",
     "output_type": "stream",
     "text": [
      "Trying to extract ../data/raw/The-Perils-of-Regulating-COVID19-Insights-from-Kirznerian-Entrepreneurship-and-Ostromian-Polycentricity_20.pdf from PDF to TEI...\n"
     ]
    },
    {
     "name": "stderr",
     "output_type": "stream",
     "text": [
      "Processando arquivos:  38%|███▊      | 8/21 [10:39<13:36, 62.82s/file]"
     ]
    },
    {
     "name": "stdout",
     "output_type": "stream",
     "text": [
      "../data/interim/The-Perils-of-Regulating-COVID19-Insights-from-Kirznerian-Entrepreneurship-and-Ostromian-Polycentricity_20.pdf.grobid.tei.xml is empty. NOT PROCESSED.\n",
      "Trying to extract ../data/raw/THE-CENTRAL-BANKING-SYSTEM-PARADOX_2023_Centre-of-Sociological-Research.pdf from PDF to TEI...\n"
     ]
    },
    {
     "name": "stderr",
     "output_type": "stream",
     "text": [
      "Processando arquivos:  43%|████▎     | 9/21 [10:43<08:52, 44.40s/file]"
     ]
    },
    {
     "name": "stdout",
     "output_type": "stream",
     "text": [
      "../data/interim/THE-CENTRAL-BANKING-SYSTEM-PARADOX_2023_Centre-of-Sociological-Research.pdf.grobid.tei.xml is empty. NOT PROCESSED.\n",
      "Trying to extract ../data/raw/Ideology-and-the-international-economy-The-decline-and-fall-of-bretton-woods_2003_Palgrave-Macmillan.pdf from PDF to TEI...\n"
     ]
    },
    {
     "name": "stderr",
     "output_type": "stream",
     "text": [
      "Processando arquivos:  48%|████▊     | 10/21 [10:49<05:57, 32.53s/file]"
     ]
    },
    {
     "name": "stdout",
     "output_type": "stream",
     "text": [
      "../data/interim/Ideology-and-the-international-economy-The-decline-and-fall-of-bretton-woods_2003_Palgrave-Macmillan.pdf.grobid.tei.xml is empty. NOT PROCESSED.\n",
      "Trying to extract ../data/raw/Editorial-Private-is-profit-and-the-public-is-dead_2018_Routledge-infotandfcouk (1).pdf from PDF to TEI...\n"
     ]
    },
    {
     "name": "stderr",
     "output_type": "stream",
     "text": [
      "Processando arquivos:  52%|█████▏    | 11/21 [10:53<03:58, 23.81s/file]"
     ]
    },
    {
     "name": "stdout",
     "output_type": "stream",
     "text": [
      "../data/interim/Editorial-Private-is-profit-and-the-public-is-dead_2018_Routledge-infotandfcouk (1).pdf.grobid.tei.xml is empty. NOT PROCESSED.\n",
      "Trying to extract ../data/raw/Austrian-Economics-and-Compatibilist-Freedom_2024_Springer-Science-and-Business-Media-BV.pdf from PDF to TEI...\n"
     ]
    },
    {
     "name": "stderr",
     "output_type": "stream",
     "text": [
      "Processando arquivos:  57%|█████▋    | 12/21 [10:57<02:40, 17.79s/file]"
     ]
    },
    {
     "name": "stdout",
     "output_type": "stream",
     "text": [
      "../data/interim/Austrian-Economics-and-Compatibilist-Freedom_2024_Springer-Science-and-Business-Media-BV.pdf.grobid.tei.xml is empty. NOT PROCESSED.\n",
      "Trying to extract ../data/raw/The-HarvardMIT-complexity-approach-to-development-and-Austrian-economics-Similarities-and-policy-implicati.pdf from PDF to TEI...\n"
     ]
    },
    {
     "name": "stderr",
     "output_type": "stream",
     "text": [
      "Processando arquivos:  57%|█████▋    | 12/21 [12:45<02:40, 17.79s/file]"
     ]
    },
    {
     "name": "stdout",
     "output_type": "stream",
     "text": [
      "Processed The-HarvardMIT-complexity-approach-to-development-and-Austrian-economics-Similarities-and-policy-implicati.pdf -> ../data/interim/The-HarvardMIT-complexity-approach-to-development-and-Austrian-economics-Similarities-and-policy-implicati.pdf.grobid.tei.xml\n"
     ]
    },
    {
     "name": "stderr",
     "output_type": "stream",
     "text": [
      "Processando arquivos:  62%|██████▏   | 13/21 [13:05<06:50, 51.30s/file]"
     ]
    },
    {
     "name": "stdout",
     "output_type": "stream",
     "text": [
      "Trying to extract ../data/raw/A-Historical-Intervention-in-the-Opportunity-Wars-Forgotten-Scholarship-the-DiscoveryCreation-Disruption-a.pdf from PDF to TEI...\n"
     ]
    },
    {
     "name": "stderr",
     "output_type": "stream",
     "text": [
      "Processando arquivos:  62%|██████▏   | 13/21 [14:52<06:50, 51.30s/file]"
     ]
    },
    {
     "name": "stdout",
     "output_type": "stream",
     "text": [
      "Processed A-Historical-Intervention-in-the-Opportunity-Wars-Forgotten-Scholarship-the-DiscoveryCreation-Disruption-a.pdf -> ../data/interim/A-Historical-Intervention-in-the-Opportunity-Wars-Forgotten-Scholarship-the-DiscoveryCreation-Disruption-a.pdf.grobid.tei.xml\n"
     ]
    },
    {
     "name": "stderr",
     "output_type": "stream",
     "text": [
      "Processando arquivos:  67%|██████▋   | 14/21 [15:12<08:38, 74.11s/file]"
     ]
    },
    {
     "name": "stdout",
     "output_type": "stream",
     "text": [
      "Trying to extract ../data/raw/The-philosophical-contributions-of-Ludwig-von-Mises_1994_Kluwer-Academic-Publishers.pdf from PDF to TEI...\n"
     ]
    },
    {
     "name": "stderr",
     "output_type": "stream",
     "text": [
      "Processando arquivos:  67%|██████▋   | 14/21 [15:23<08:38, 74.11s/file]"
     ]
    },
    {
     "name": "stdout",
     "output_type": "stream",
     "text": [
      "Processed The-philosophical-contributions-of-Ludwig-von-Mises_1994_Kluwer-Academic-Publishers.pdf -> ../data/interim/The-philosophical-contributions-of-Ludwig-von-Mises_1994_Kluwer-Academic-Publishers.pdf.grobid.tei.xml\n"
     ]
    },
    {
     "name": "stderr",
     "output_type": "stream",
     "text": [
      "Processando arquivos:  71%|███████▏  | 15/21 [15:43<06:06, 61.08s/file]"
     ]
    },
    {
     "name": "stdout",
     "output_type": "stream",
     "text": [
      "Trying to extract ../data/raw/Editorial-Private-is-profit-and-the-public-is-dead_2018_Routledge-infotandfcouk.pdf from PDF to TEI...\n"
     ]
    },
    {
     "name": "stderr",
     "output_type": "stream",
     "text": [
      "Processando arquivos:  71%|███████▏  | 15/21 [15:56<06:06, 61.08s/file]"
     ]
    },
    {
     "name": "stdout",
     "output_type": "stream",
     "text": [
      "Processed Editorial-Private-is-profit-and-the-public-is-dead_2018_Routledge-infotandfcouk.pdf -> ../data/interim/Editorial-Private-is-profit-and-the-public-is-dead_2018_Routledge-infotandfcouk.pdf.grobid.tei.xml\n"
     ]
    },
    {
     "name": "stderr",
     "output_type": "stream",
     "text": [
      "Processando arquivos:  76%|███████▌  | 16/21 [16:16<04:23, 52.63s/file]"
     ]
    },
    {
     "name": "stdout",
     "output_type": "stream",
     "text": [
      "Trying to extract ../data/raw/Demonstrated-risk-preferences-and-COVID19-regulations-in-the-United-States_2024_Springer.pdf from PDF to TEI...\n"
     ]
    },
    {
     "name": "stderr",
     "output_type": "stream",
     "text": [
      "Processando arquivos:  76%|███████▌  | 16/21 [16:56<04:23, 52.63s/file]"
     ]
    },
    {
     "name": "stdout",
     "output_type": "stream",
     "text": [
      "Processed Demonstrated-risk-preferences-and-COVID19-regulations-in-the-United-States_2024_Springer.pdf -> ../data/interim/Demonstrated-risk-preferences-and-COVID19-regulations-in-the-United-States_2024_Springer.pdf.grobid.tei.xml\n"
     ]
    },
    {
     "name": "stderr",
     "output_type": "stream",
     "text": [
      "Processando arquivos:  81%|████████  | 17/21 [17:16<03:39, 54.77s/file]"
     ]
    },
    {
     "name": "stdout",
     "output_type": "stream",
     "text": [
      "Trying to extract ../data/raw/Entrepreneurship-research-mapping-intellectual-structures-and-research-trends_2019_Springer-Verlag-service.pdf from PDF to TEI...\n"
     ]
    },
    {
     "name": "stderr",
     "output_type": "stream",
     "text": [
      "Processando arquivos:  81%|████████  | 17/21 [18:03<03:39, 54.77s/file]"
     ]
    },
    {
     "name": "stdout",
     "output_type": "stream",
     "text": [
      "Processed Entrepreneurship-research-mapping-intellectual-structures-and-research-trends_2019_Springer-Verlag-service.pdf -> ../data/interim/Entrepreneurship-research-mapping-intellectual-structures-and-research-trends_2019_Springer-Verlag-service.pdf.grobid.tei.xml\n"
     ]
    },
    {
     "name": "stderr",
     "output_type": "stream",
     "text": [
      "Processando arquivos:  86%|████████▌ | 18/21 [18:23<02:55, 58.44s/file]"
     ]
    },
    {
     "name": "stdout",
     "output_type": "stream",
     "text": [
      "Trying to extract ../data/raw/The-Trait-of-Extraversion-as-an-EnergyBased-Determinant-of-Entrepreneurs-SuccessThe-Case-of-Poland_2022_MD.pdf from PDF to TEI...\n"
     ]
    },
    {
     "name": "stderr",
     "output_type": "stream",
     "text": [
      "Processando arquivos:  86%|████████▌ | 18/21 [20:25<02:55, 58.44s/file]"
     ]
    },
    {
     "name": "stdout",
     "output_type": "stream",
     "text": [
      "Processed The-Trait-of-Extraversion-as-an-EnergyBased-Determinant-of-Entrepreneurs-SuccessThe-Case-of-Poland_2022_MD.pdf -> ../data/interim/The-Trait-of-Extraversion-as-an-EnergyBased-Determinant-of-Entrepreneurs-SuccessThe-Case-of-Poland_2022_MD.pdf.grobid.tei.xml\n"
     ]
    },
    {
     "name": "stderr",
     "output_type": "stream",
     "text": [
      "Processando arquivos:  90%|█████████ | 19/21 [20:45<02:47, 83.67s/file]"
     ]
    },
    {
     "name": "stdout",
     "output_type": "stream",
     "text": [
      "Trying to extract ../data/raw/Otto-Neuraths-Scientific-Utopianism-RevisitedA-Refined-Model-for-Utopias-in-Thought-Experiments_2023_Sprin.pdf from PDF to TEI...\n"
     ]
    },
    {
     "name": "stderr",
     "output_type": "stream",
     "text": [
      "Processando arquivos:  90%|█████████ | 19/21 [21:43<02:47, 83.67s/file]"
     ]
    },
    {
     "name": "stdout",
     "output_type": "stream",
     "text": [
      "Processed Otto-Neuraths-Scientific-Utopianism-RevisitedA-Refined-Model-for-Utopias-in-Thought-Experiments_2023_Sprin.pdf -> ../data/interim/Otto-Neuraths-Scientific-Utopianism-RevisitedA-Refined-Model-for-Utopias-in-Thought-Experiments_2023_Sprin.pdf.grobid.tei.xml\n"
     ]
    },
    {
     "name": "stderr",
     "output_type": "stream",
     "text": [
      "Processando arquivos:  95%|█████████▌| 20/21 [22:03<01:21, 81.84s/file]"
     ]
    },
    {
     "name": "stdout",
     "output_type": "stream",
     "text": [
      "Trying to extract ../data/raw/What-Can-Industrial-Policy-Do-Evidence-from-Singapore_2024_Springer (1).pdf from PDF to TEI...\n"
     ]
    },
    {
     "name": "stderr",
     "output_type": "stream",
     "text": [
      "Processando arquivos:  95%|█████████▌| 20/21 [22:46<01:21, 81.84s/file]"
     ]
    },
    {
     "name": "stdout",
     "output_type": "stream",
     "text": [
      "Processed What-Can-Industrial-Policy-Do-Evidence-from-Singapore_2024_Springer (1).pdf -> ../data/interim/What-Can-Industrial-Policy-Do-Evidence-from-Singapore_2024_Springer (1).pdf.grobid.tei.xml\n"
     ]
    },
    {
     "name": "stderr",
     "output_type": "stream",
     "text": [
      "Processando arquivos: 100%|██████████| 21/21 [23:06<00:00, 66.03s/file]\n"
     ]
    }
   ],
   "source": [
    "import subprocess\n",
    "import time\n",
    "import random\n",
    "import os\n",
    "from tqdm import tqdm \n",
    "\n",
    "# Sort files by size (smallest first)\n",
    "files.sort(key=lambda x: x[1])\n",
    "random.shuffle(files)\n",
    "\n",
    "# Process each file in order of size com tqdm\n",
    "for file_path, file_size in tqdm(files, desc=\"Processando arquivos\", unit=\"file\"):\n",
    "    # Skip processing if the file size is zero\n",
    "    if file_size == 0:\n",
    "        tqdm.write(f\"Skipped {file_path} (file size is zero)\")\n",
    "        continue\n",
    "\n",
    "    # Extract the filename from the path\n",
    "    filename = os.path.basename(file_path)\n",
    "\n",
    "    # Prepare the output filename\n",
    "    output_filename = f\"{filename}.grobid.tei.xml\"\n",
    "    output_file_path = os.path.join(output_path, output_filename)\n",
    "\n",
    "    # Check if the output file exists and its size is greater than 0\n",
    "    if not os.path.exists(output_file_path) or os.path.getsize(output_file_path) == 0:\n",
    "        # Prepare the curl command\n",
    "        tqdm.write(f\"Trying to extract {file_path} from PDF to TEI...\")\n",
    "           \n",
    "        curl_command = [\n",
    "            \"curl\", \"-v\", \n",
    "            \"-H\", \"Accept: application/xml\", \n",
    "            \"--form\", \"consolidateCitations=1\", \n",
    "            \"--form\", \"includeRawCitations=1\", \n",
    "            \"--form\", \"segmentSentences=1\",\n",
    "            \"--form\", \"generateIDs=1\", \n",
    "            \"--form\", f\"input=@{file_path}\", \n",
    "            f\"{grobid_server}/api/processFulltextDocument\",\n",
    "        ]\n",
    "\n",
    "        # Open the output file to redirect the curl output into it\n",
    "        with open(output_file_path, \"w\") as output_file:\n",
    "            try:\n",
    "                # Run the process with a timeout of 10 minutes (600 seconds)\n",
    "                result = subprocess.run(curl_command, stdout=output_file, stderr=subprocess.PIPE, timeout=600)\n",
    "                #if result.stderr:\n",
    "                #    tqdm.write(\"STDERR:\")\n",
    "                #    tqdm.write(result.stderr.decode())\n",
    "\n",
    "            except subprocess.TimeoutExpired:\n",
    "                tqdm.write(\"The process did not finish within 10 minutes and was terminated.\")\n",
    "\n",
    "        # Check if the output file size is zero\n",
    "        if os.path.getsize(output_file_path) == 0:\n",
    "            tqdm.write(f\"{output_file_path} is empty. NOT PROCESSED.\")\n",
    "        else:\n",
    "            tqdm.write(f\"Processed {filename} -> {output_file_path}\")\n",
    "            time.sleep(20)\n",
    "    else:\n",
    "        tqdm.write(f\"Skipped {filename} (output file already exists and is non-empty)\")"
   ]
  }
 ],
 "metadata": {
  "kernelspec": {
   "display_name": "Python 3",
   "language": "python",
   "name": "python3"
  },
  "language_info": {
   "codemirror_mode": {
    "name": "ipython",
    "version": 3
   },
   "file_extension": ".py",
   "mimetype": "text/x-python",
   "name": "python",
   "nbconvert_exporter": "python",
   "pygments_lexer": "ipython3",
   "version": "3.11.13"
  }
 },
 "nbformat": 4,
 "nbformat_minor": 5
}
