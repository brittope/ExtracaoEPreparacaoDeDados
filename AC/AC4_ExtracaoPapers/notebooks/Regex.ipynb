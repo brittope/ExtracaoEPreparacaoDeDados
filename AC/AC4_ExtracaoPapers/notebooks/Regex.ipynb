{
 "cells": [
  {
   "cell_type": "code",
   "execution_count": 1,
   "id": "b6786788",
   "metadata": {},
   "outputs": [
    {
     "name": "stdout",
     "output_type": "stream",
     "text": [
      "['(11) 98765-4321', '(21) 3456-7890']\n"
     ]
    }
   ],
   "source": [
    "import re\n",
    "\n",
    "texto = \"Ligue para (11) 98765-4321 ou (21) 3456-7890\"\n",
    "telefones = re.findall(r\"\\(\\d{2}\\)\\s?\\d{4,5}-\\d{4}\", texto)\n",
    "print(telefones) "
   ]
  },
  {
   "cell_type": "code",
   "execution_count": null,
   "id": "77983bb5",
   "metadata": {},
   "outputs": [],
   "source": [
    "texto = \"Os emails de contato são: pedro.calais@gmail.com e pedro.hecalguer@professores.ibmec.br\""
   ]
  }
 ],
 "metadata": {
  "kernelspec": {
   "display_name": "Python 3",
   "language": "python",
   "name": "python3"
  },
  "language_info": {
   "codemirror_mode": {
    "name": "ipython",
    "version": 3
   },
   "file_extension": ".py",
   "mimetype": "text/x-python",
   "name": "python",
   "nbconvert_exporter": "python",
   "pygments_lexer": "ipython3",
   "version": "3.11.13"
  }
 },
 "nbformat": 4,
 "nbformat_minor": 5
}
