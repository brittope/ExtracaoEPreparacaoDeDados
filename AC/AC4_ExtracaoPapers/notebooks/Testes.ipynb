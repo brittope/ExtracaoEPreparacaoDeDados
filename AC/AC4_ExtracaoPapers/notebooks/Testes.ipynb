{
 "cells": [
  {
   "cell_type": "code",
   "execution_count": 1,
   "id": "f96148e9",
   "metadata": {},
   "outputs": [
    {
     "name": "stdout",
     "output_type": "stream",
     "text": [
      "checking https://kermitt2-grobid.hf.space/api/isalive...\n",
      "checked!\n",
      "Server is up and running at https://kermitt2-grobid.hf.space/api/isalive.\n"
     ]
    }
   ],
   "source": [
    "grobid_server = \"https://kermitt2-grobid.hf.space\"\n",
    "\n",
    "import requests\n",
    "\n",
    "def check_grobid_server():\n",
    "    url = f\"{grobid_server}/api/isalive\"\n",
    "    \n",
    "    try:\n",
    "        # Send a GET request to the URL\n",
    "        # \n",
    "        print(f\"checking {url}...\")\n",
    "        response = requests.get(url)\n",
    "        print(\"checked!\")\n",
    "\n",
    "        # Check if the status code indicates success (200-299)\n",
    "        if response.status_code == 200 and response.text == \"true\":\n",
    "            print(f\"Server is up and running at {url}.\")\n",
    "            return True\n",
    "        else:\n",
    "            print(f\"Server responded with status code: {response.status_code}\")\n",
    "            return False\n",
    "    \n",
    "    except requests.ConnectionError:\n",
    "        print(f\"Unable to connect to {url}. The server may be down or unreachable.\")\n",
    "        return False\n",
    "    \n",
    "# Test the server\n",
    "assert check_grobid_server()"
   ]
  },
  {
   "cell_type": "code",
   "execution_count": 1,
   "id": "257f37a3",
   "metadata": {},
   "outputs": [
    {
     "name": "stdout",
     "output_type": "stream",
     "text": [
      "I have 21 files to process!\n"
     ]
    }
   ],
   "source": [
    "input_path = \"../data/raw\"  # Replace with the actual folder path\n",
    "output_path = \"../data/interim/\"  # Replace with the desired output folder path\n",
    "\n",
    "import os\n",
    "\n",
    "\n",
    "# Make sure the output folder exists\n",
    "if not os.path.exists(output_path):\n",
    "    os.makedirs(output_path)\n",
    "\n",
    "# List all files in the folder\n",
    "files = []\n",
    "\n",
    "for filename in os.listdir(input_path):\n",
    "    file_path = os.path.join(input_path, filename)\n",
    "    if os.path.isfile(file_path):\n",
    "        # Add the file and its size to the list\n",
    "        files.append((file_path, os.path.getsize(file_path)))\n",
    "\n",
    "print(f\"I have {len(files)} files to process!\")"
   ]
  }
 ],
 "metadata": {
  "kernelspec": {
   "display_name": "Python 3",
   "language": "python",
   "name": "python3"
  },
  "language_info": {
   "codemirror_mode": {
    "name": "ipython",
    "version": 3
   },
   "file_extension": ".py",
   "mimetype": "text/x-python",
   "name": "python",
   "nbconvert_exporter": "python",
   "pygments_lexer": "ipython3",
   "version": "3.11.13"
  }
 },
 "nbformat": 4,
 "nbformat_minor": 5
}
